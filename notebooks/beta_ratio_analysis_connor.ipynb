{
 "cells": [
  {
   "cell_type": "code",
   "execution_count": 2,
   "metadata": {},
   "outputs": [
    {
     "name": "stderr",
     "output_type": "stream",
     "text": [
      "/tmp/ipykernel_140973/1374852297.py:23: FutureWarning: You are using `torch.load` with `weights_only=False` (the current default value), which uses the default pickle module implicitly. It is possible to construct malicious pickle data which will execute arbitrary code during unpickling (See https://github.com/pytorch/pytorch/blob/main/SECURITY.md#untrusted-models for more details). In a future release, the default value for `weights_only` will be flipped to `True`. This limits the functions that could be executed during unpickling. Arbitrary objects will no longer be allowed to be loaded via this mode unless they are explicitly allowlisted by the user via `torch.serialization.add_safe_globals`. We recommend you start setting `weights_only=True` for any use case where you don't have full control of the loaded file. Please open an issue on GitHub for any issues related to this experimental feature.\n",
      "  max_activations = th.load(max_activation_path)\n"
     ]
    }
   ],
   "source": [
    "# %load_ext autoreload\n",
    "# %autoreload 2\n",
    "import sys\n",
    "sys.path.append(\"..\")\n",
    "import pandas as pd\n",
    "import numpy as np\n",
    "from pathlib import Path\n",
    "import torch as th\n",
    "import plotly.graph_objects as go\n",
    "import plotly.express as px\n",
    "from plotly.subplots import make_subplots\n",
    "import matplotlib.pyplot as plt\n",
    "from tools.utils import load_latent_df, push_latent_df, apply_masks\n",
    "from tools.cc_utils import chat_only_latent_indices, base_only_latent_indices, shared_latent_indices\n",
    "from tools.latent_scaler.plot import plot_scaler_histograms\n",
    "from tools.latent_scaler.utils import load_betas, get_beta_from_index\n",
    "from tools.paths import *\n",
    "\n",
    "\n",
    "results_dir = DATA_ROOT / \"results\" / \"closed_form_scalars\"\n",
    "\n",
    "max_activation_path = Path(\"/workspace/data/max_activations_N50000000.pt\")\n",
    "max_activations = th.load(max_activation_path)"
   ]
  },
  {
   "cell_type": "code",
   "execution_count": 3,
   "metadata": {},
   "outputs": [],
   "source": [
    "configs = {\n",
    "    \"normal\": {\n",
    "        model: {\n",
    "            target: (f\"{model}_{target}\", \"\") for target in [\"error\", \"reconstruction\"]\n",
    "        }\n",
    "        for model in [\"base\", \"it\"]\n",
    "    },\n",
    "}\n",
    "\n",
    "shared_configs = {\n",
    "    \"normal\": {\n",
    "        model: {\n",
    "            target: (f\"{model}_{target}\", \"\") for target in [\"reconstruction\", \"error\"]\n",
    "        }\n",
    "        for model in [\"base\", \"it\"]\n",
    "    },\n",
    "}\n",
    "def load_results(base_path, configs, not_dead_mask=None, to_numpy=True):\n",
    "    betas_out = {\n",
    "        config: {\n",
    "            model: {\n",
    "                target: None for target in configs[config][model]\n",
    "            } for model in configs[config]\n",
    "        } for config in configs\n",
    "    }\n",
    "    count_active_out = {\n",
    "        config: {\n",
    "            model: {\n",
    "                target: None for target in configs[config][model]\n",
    "            } for model in configs[config]\n",
    "        } for config in configs\n",
    "    }\n",
    "    for config in configs:\n",
    "        for model in configs[config]:\n",
    "            for target in configs[config][model]:\n",
    "                betas, count_active = load_betas(base_path, computation=configs[config][model][target][0], suffix=configs[config][model][target][1])\n",
    "                betas = betas.cpu()\n",
    "                count_active = count_active.cpu()\n",
    "                if to_numpy:\n",
    "                    betas = betas.numpy()\n",
    "                    count_active = count_active.numpy()\n",
    "                if not_dead_mask is not None:\n",
    "                    betas = betas[not_dead_mask]\n",
    "                    count_active = count_active[not_dead_mask]\n",
    "                betas_out[config][model][target] = betas\n",
    "                count_active_out[config][model][target] = count_active\n",
    "    return betas_out, count_active_out\n",
    "\n",
    "\n",
    "def compute_ratios(betas):\n",
    "    reconstruction_ratio = betas[\"normal\"][\"base\"][\"reconstruction\"] / betas[\"normal\"][\"it\"][\"reconstruction\"]\n",
    "    error_ratio = betas[\"normal\"][\"base\"][\"error\"] / betas[\"normal\"][\"it\"][\"error\"]\n",
    "    return reconstruction_ratio, error_ratio\n"
   ]
  },
  {
   "cell_type": "markdown",
   "metadata": {},
   "source": [
    "## Connor CrossCoder"
   ]
  },
  {
   "cell_type": "code",
   "execution_count": 3,
   "metadata": {},
   "outputs": [
    {
     "data": {
      "application/vnd.jupyter.widget-view+json": {
       "model_id": "f2ba59927d1f42b195d0ff893dbad40e",
       "version_major": 2,
       "version_minor": 0
      },
      "text/plain": [
       "feature_df.csv:   0%|          | 0.00/4.93M [00:00<?, ?B/s]"
      ]
     },
     "metadata": {},
     "output_type": "display_data"
    },
    {
     "name": "stderr",
     "output_type": "stream",
     "text": [
      "/tmp/ipykernel_993/3609749203.py:18: FutureWarning: You are using `torch.load` with `weights_only=False` (the current default value), which uses the default pickle module implicitly. It is possible to construct malicious pickle data which will execute arbitrary code during unpickling (See https://github.com/pytorch/pytorch/blob/main/SECURITY.md#untrusted-models for more details). In a future release, the default value for `weights_only` will be flipped to `True`. This limits the functions that could be executed during unpickling. Arbitrary objects will no longer be allowed to be loaded via this mode unless they are explicitly allowlisted by the user via `torch.serialization.add_safe_globals`. We recommend you start setting `weights_only=True` for any use case where you don't have full control of the loaded file. Please open an issue on GitHub for any issues related to this experimental feature.\n",
      "  sampled_shared_indices = th.load(Path(\"/workspace/data/connor_sampled_shared_indices.pt\")).numpy()\n"
     ]
    }
   ],
   "source": [
    "name = \"ckkissane_crosscoder-gemma-2-2b-model-diff\"\n",
    "\n",
    "all_results = results_dir / name\n",
    "shared_indices_results = results_dir / \"shared_indices\" / name\n",
    "\n",
    "PLOTS_DIR = PLOTS / VERSION / \"closed_form_scalers\" / name\n",
    "PLOTS_DIR.mkdir(parents=True, exist_ok=True)\n",
    "\n",
    "plots_dir = Path(\"/workspace/data/plots/closed_form_scalars/\") / name\n",
    "plots_dir.mkdir(parents=True, exist_ok=True)\n",
    "\n",
    "df = load_latent_df(\"connor\")\n",
    "\n",
    "all_masks = []\n",
    "latent_indices = chat_only_latent_indices(\"connor\").numpy()\n",
    "shared_indices = shared_latent_indices(\"connor\").numpy()\n",
    "base_only_indices = base_only_latent_indices(\"connor\").numpy()\n",
    "sampled_shared_indices = th.load(Path(\"/workspace/data/connor_sampled_shared_indices.pt\")).numpy()\n",
    "betas, count_active = load_results(all_results, configs)\n",
    "betas_shared, count_active_shared = load_results(shared_indices_results, shared_configs)"
   ]
  },
  {
   "cell_type": "code",
   "execution_count": 4,
   "metadata": {},
   "outputs": [
    {
     "name": "stdout",
     "output_type": "stream",
     "text": [
      "Number of latent indices: 265\n",
      "Number of shared indices: 14652\n",
      "Number of base-only indices: 98\n",
      "Number of other indices: 1369\n"
     ]
    }
   ],
   "source": [
    "# Print counts of different index groups\n",
    "print(f\"Number of latent indices: {len(latent_indices)}\")\n",
    "print(f\"Number of shared indices: {len(shared_indices)}\")\n",
    "print(f\"Number of base-only indices: {len(base_only_indices)}\")\n",
    "print(f\"Number of other indices: {len(df) - len(latent_indices) - len(shared_indices) - len(base_only_indices)}\")\n"
   ]
  },
  {
   "cell_type": "code",
   "execution_count": 10,
   "metadata": {},
   "outputs": [
    {
     "data": {
      "text/plain": [
       "16384"
      ]
     },
     "execution_count": 10,
     "metadata": {},
     "output_type": "execute_result"
    }
   ],
   "source": [
    "len(df)"
   ]
  },
  {
   "cell_type": "code",
   "execution_count": 5,
   "metadata": {},
   "outputs": [],
   "source": [
    "betas, count_active = load_results(all_results, configs, not_dead_mask=None)\n",
    "\n",
    "error_ratio, reconstruction_ratio = compute_ratios(betas)\n",
    "error_ratio_shared, reconstruction_ratio_shared = compute_ratios(betas_shared)"
   ]
  },
  {
   "cell_type": "code",
   "execution_count": 6,
   "metadata": {},
   "outputs": [
    {
     "data": {
      "text/plain": [
       "array([ 7.2176856e-01,  6.8967485e-01,  6.9096404e-01,  6.5222740e-01,\n",
       "        6.7307603e-01,  1.1863835e+00,  7.4184310e-01,  7.4069411e-01,\n",
       "        7.4768996e-01,  6.5014780e-01,  4.4912598e-01,  7.5523251e-01,\n",
       "        7.8791040e-01,  7.3876452e-01,  8.0739051e-01,  7.0601153e-01,\n",
       "        6.8810171e-01,  8.2251960e-01,  9.9418682e-01,  6.1421818e-01,\n",
       "        8.7726790e-01,  7.7809268e-01,  7.7768499e-01,  6.8893576e-01,\n",
       "        1.2192411e+00,  7.5525832e-01,  8.5932058e-01,  6.0878378e-01,\n",
       "        7.7381611e-01,  5.5417275e-01,  7.2339368e-01,  7.2066402e-01,\n",
       "        6.6964322e-01,  1.2178639e+00,  7.1306866e-01,  1.6122547e+00,\n",
       "        6.1127496e-01,  7.4647862e-01,  6.7135167e-01,  6.1332577e-01,\n",
       "        7.6239699e-01,  7.2691858e-01,  5.9772712e-01,  6.8520987e-01,\n",
       "        7.7801144e-01,  1.1625440e+00,  7.7925038e-01,  8.8984257e-01,\n",
       "        6.4729822e-01,  6.3996267e-01,  1.3558415e-01,  8.4711874e-01,\n",
       "        8.0317384e-01,  6.9422925e-01,  7.6099181e-01,  7.1785527e-01,\n",
       "       -1.4671903e+00,  7.1571952e-01,  7.8155172e-01,  5.9516460e-01,\n",
       "        6.6131264e-01,  7.6953906e-01,  7.4303937e-01,  7.8584146e-01,\n",
       "        6.5169740e-01,  7.0508426e-01,  7.2158223e-01,  7.9481786e-01,\n",
       "        8.2864863e-01,  6.3360798e-01,  7.5049502e-01,  8.2901686e-01,\n",
       "        7.3614812e-01,  6.2770206e-01,  6.6121876e-01,  8.1600374e-01,\n",
       "        1.2524072e+00,  7.3178464e-01,  6.4371866e-01,  7.2200096e-01,\n",
       "        6.9273323e-01,  7.1746117e-01,  7.9831994e-01,  7.6130396e-01,\n",
       "        7.9724199e-01,  1.1281707e+00,  6.5381384e-01,  6.7561328e-01,\n",
       "        7.5228941e-01,  6.9318533e-01,  6.5058732e-01,  1.3527185e+00,\n",
       "        7.5929815e-01,  7.4780846e-01,  7.9394776e-01,  6.8903089e-01,\n",
       "        8.8702601e-01,  7.8868413e-01,  8.5472929e-01,  7.2051150e-01,\n",
       "        7.6187903e-01,  6.4347035e-01,  6.9976610e-01,  7.2597891e-01,\n",
       "        8.4068978e-01,  6.5259415e-01,  5.3473907e+00,  9.0738839e-01,\n",
       "        8.3411503e-01,  6.5749687e-01,  6.4014089e-01,  7.6760554e-01,\n",
       "        6.9398773e-01,  6.9069356e-01,  9.0563816e-01,  7.2531492e-01,\n",
       "        8.0494499e-01,  7.2410965e-01,  6.2546772e-01,  7.9008007e-01,\n",
       "        8.0189002e-01,  7.5731045e-01,  1.4873260e+01,  6.7636615e-01,\n",
       "        5.4472232e-01,  7.8002065e-01,  1.1130415e+00,  7.8683406e-01,\n",
       "        7.0592141e-01,  7.7895743e-01,  7.2875273e-01,  7.3622787e-01,\n",
       "        7.8566313e-01,  7.6576990e-01,  6.9694096e-01,  7.2664618e-01,\n",
       "        7.6054919e-01,  1.1718847e+00,  7.0152640e-01,  6.8355805e-01,\n",
       "        9.7243291e-01,  9.7216564e-01,  7.2458929e-01,  7.5331557e-01,\n",
       "        6.0914898e-01,  5.8481163e-01,  8.3504748e-01,  5.6947356e-01,\n",
       "        7.1880770e-01,  8.3086902e-01,  7.8287631e-01,  6.4409548e-01,\n",
       "        6.3862348e-01, -1.2221996e-02,  6.5649319e-01,  8.0035752e-01,\n",
       "        7.1013957e-01,  6.5522957e-01,  8.4668350e-01,  8.5196763e-01,\n",
       "        7.2798693e-01,  7.6163065e-01,  4.4377568e-01,  6.9723779e-01,\n",
       "        8.5057288e-01,  7.3987532e-01,  1.1489190e+00,  3.9973587e-01,\n",
       "        7.0320219e-01,  7.1100348e-01,  4.8791531e-01,  7.7785558e-01,\n",
       "        7.9709768e-01,  6.7656881e-01,  7.7454782e-01,  8.3080399e-01,\n",
       "        8.8582307e-01,  6.9748318e-01,  6.5174437e-01,  6.9653213e-01,\n",
       "        6.9551164e-01,  7.6219314e-01,  6.3275385e-01,  7.1181148e-01,\n",
       "        6.2078214e-01,  7.7589411e-01,  6.6735905e-01,  6.0889715e-01,\n",
       "        6.6224265e-01,  1.2906857e+00,  6.6645759e-01,  8.1161094e-01,\n",
       "        5.3326923e-01,  8.0913466e-01,  7.0353156e-01,  1.1954621e+00,\n",
       "        1.0389163e+00,  6.3699639e-01,  7.9555809e-01,  6.8928272e-01,\n",
       "        6.7620713e-01,  6.9335967e-01,  1.2734820e+00,  8.0053371e-01,\n",
       "        7.0285898e-01,  6.5879309e-01,  6.1207294e-01,  7.1369058e-01,\n",
       "       -2.8006580e-01,  5.0637561e-01,  8.4516454e-01,  5.0703132e-01,\n",
       "        1.1790897e+00,  8.5291672e-01,  4.5216036e-01,  2.6870909e-01,\n",
       "        8.5324931e-01,  1.1892821e+00,  8.0023515e-01,  7.7317697e-01,\n",
       "        8.1951761e-01,  6.7509544e-01,  7.0080566e-01,  1.3232728e+00,\n",
       "        7.3666298e-01,  5.9779233e-01,  1.1672846e+00,  7.7398562e-01,\n",
       "        7.2607005e-01,  7.0495421e-01,  7.3201251e-01,  7.6871747e-01,\n",
       "        6.3432038e-01,  5.8894211e-01,  6.2556106e-01,  5.6653589e-01,\n",
       "        8.9587390e-01,  8.1075752e-01,  6.6809487e-01,  5.6443167e-01,\n",
       "        7.7610373e-01,  1.2969569e+00,  8.2431233e-01,  8.3967829e-01,\n",
       "        5.8504975e-01,  1.1662321e+00,  7.3384798e-01,  1.1234353e+00,\n",
       "        6.5049773e-01,  7.0893705e-01,  6.5356129e-01,  7.3586214e-01,\n",
       "        8.5114926e-01,  7.8320408e-01,  6.0387325e-01,  4.8313397e-01,\n",
       "        7.8124702e-01,  8.4135514e-01,  6.4450878e-01,  9.2992383e-01,\n",
       "        7.7752358e-01,  6.8101853e-01,  7.5312161e-01,  9.2376357e-01,\n",
       "        2.9487383e-01], dtype=float32)"
      ]
     },
     "execution_count": 6,
     "metadata": {},
     "output_type": "execute_result"
    }
   ],
   "source": [
    "reconstruction_ratio_shared"
   ]
  },
  {
   "cell_type": "code",
   "execution_count": 7,
   "metadata": {},
   "outputs": [],
   "source": [
    "# update df\n",
    "df[\"beta_error_base\"] = np.nan\n",
    "df[\"beta_error_chat\"] = np.nan\n",
    "df[\"beta_reconstruction_base\"] = np.nan\n",
    "df[\"beta_reconstruction_chat\"] = np.nan\n",
    "df[\"beta_ratio_error\"] = np.nan\n",
    "df[\"beta_ratio_reconstruction\"] = np.nan\n",
    "\n",
    "\n",
    "# For latent indices\n",
    "df.loc[latent_indices, \"beta_error_base\"] = apply_masks(betas[\"normal\"][\"base\"][\"error\"], all_masks)\n",
    "df.loc[latent_indices, \"beta_error_chat\"] = apply_masks(betas[\"normal\"][\"it\"][\"error\"], all_masks)\n",
    "df.loc[latent_indices, \"beta_reconstruction_base\"] = apply_masks(betas[\"normal\"][\"base\"][\"reconstruction\"], all_masks)\n",
    "df.loc[latent_indices, \"beta_reconstruction_chat\"] = apply_masks(betas[\"normal\"][\"it\"][\"reconstruction\"], all_masks)\n",
    "\n",
    "# For shared indices - don't apply masks since these are already filtered\n",
    "df.loc[sampled_shared_indices, \"beta_error_base\"] = betas_shared[\"normal\"][\"base\"][\"error\"]\n",
    "df.loc[sampled_shared_indices, \"beta_error_chat\"] = betas_shared[\"normal\"][\"it\"][\"error\"]\n",
    "df.loc[sampled_shared_indices, \"beta_reconstruction_base\"] = betas_shared[\"normal\"][\"base\"][\"reconstruction\"]\n",
    "df.loc[sampled_shared_indices, \"beta_reconstruction_chat\"] = betas_shared[\"normal\"][\"it\"][\"reconstruction\"]\n",
    "\n",
    "df[\"beta_ratio_error\"] = df[\"beta_error_base\"] / df[\"beta_error_chat\"]\n",
    "df[\"beta_ratio_reconstruction\"] = df[\"beta_reconstruction_base\"] / df[\"beta_reconstruction_chat\"]"
   ]
  },
  {
   "cell_type": "code",
   "execution_count": 28,
   "metadata": {},
   "outputs": [
    {
     "name": "stdout",
     "output_type": "stream",
     "text": [
      "Added columns in uploaded df: {'beta_ratio_reconstruction', 'beta_reconstruction_chat', 'beta_error_base', 'beta_ratio_error', 'beta_error_chat', 'beta_reconstruction_base'}\n",
      "Commit message: None\n"
     ]
    }
   ],
   "source": [
    "push_latent_df(df, \"connor\")\n"
   ]
  },
  {
   "cell_type": "code",
   "execution_count": 12,
   "metadata": {},
   "outputs": [],
   "source": [
    "chat_only_df = df.iloc[latent_indices]\n",
    "shared_df = df.iloc[sampled_shared_indices]"
   ]
  },
  {
   "cell_type": "code",
   "execution_count": 30,
   "metadata": {},
   "outputs": [
    {
     "name": "stdout",
     "output_type": "stream",
     "text": [
      " NORMAL \n",
      "______________________\n",
      "### BASE\n",
      "~~ ERROR\n"
     ]
    },
    {
     "ename": "AttributeError",
     "evalue": "'numpy.ndarray' object has no attribute 'isnan'",
     "output_type": "error",
     "traceback": [
      "\u001b[0;31m---------------------------------------------------------------------------\u001b[0m",
      "\u001b[0;31mAttributeError\u001b[0m                            Traceback (most recent call last)",
      "Cell \u001b[0;32mIn[30], line 6\u001b[0m\n\u001b[1;32m      4\u001b[0m \u001b[38;5;28mprint\u001b[39m(\u001b[38;5;124m\"\u001b[39m\u001b[38;5;124m### BASE\u001b[39m\u001b[38;5;124m\"\u001b[39m)\n\u001b[1;32m      5\u001b[0m \u001b[38;5;28mprint\u001b[39m(\u001b[38;5;124m\"\u001b[39m\u001b[38;5;124m~~ ERROR\u001b[39m\u001b[38;5;124m\"\u001b[39m)\n\u001b[0;32m----> 6\u001b[0m \u001b[38;5;28mprint\u001b[39m(\u001b[38;5;124m\"\u001b[39m\u001b[38;5;124mNum NaNs: \u001b[39m\u001b[38;5;124m\"\u001b[39m, (\u001b[43mbetas\u001b[49m\u001b[43m[\u001b[49m\u001b[38;5;124;43m\"\u001b[39;49m\u001b[38;5;124;43mnormal\u001b[39;49m\u001b[38;5;124;43m\"\u001b[39;49m\u001b[43m]\u001b[49m\u001b[43m[\u001b[49m\u001b[38;5;124;43m\"\u001b[39;49m\u001b[38;5;124;43mbase\u001b[39;49m\u001b[38;5;124;43m\"\u001b[39;49m\u001b[43m]\u001b[49m\u001b[43m[\u001b[49m\u001b[38;5;124;43m\"\u001b[39;49m\u001b[38;5;124;43merror\u001b[39;49m\u001b[38;5;124;43m\"\u001b[39;49m\u001b[43m]\u001b[49m\u001b[38;5;241;43m.\u001b[39;49m\u001b[43misnan\u001b[49m())\u001b[38;5;241m.\u001b[39msum()\u001b[38;5;241m.\u001b[39mitem())\n\u001b[1;32m      7\u001b[0m \u001b[38;5;28mprint\u001b[39m(\u001b[38;5;124m\"\u001b[39m\u001b[38;5;124mNum Infs: \u001b[39m\u001b[38;5;124m\"\u001b[39m, (betas[\u001b[38;5;124m\"\u001b[39m\u001b[38;5;124mnormal\u001b[39m\u001b[38;5;124m\"\u001b[39m][\u001b[38;5;124m\"\u001b[39m\u001b[38;5;124mbase\u001b[39m\u001b[38;5;124m\"\u001b[39m][\u001b[38;5;124m\"\u001b[39m\u001b[38;5;124merror\u001b[39m\u001b[38;5;124m\"\u001b[39m]\u001b[38;5;241m.\u001b[39misinf())\u001b[38;5;241m.\u001b[39msum()\u001b[38;5;241m.\u001b[39mitem())\n\u001b[1;32m      8\u001b[0m \u001b[38;5;28mprint\u001b[39m(\u001b[38;5;124m\"\u001b[39m\u001b[38;5;124mMax & Min beta error: \u001b[39m\u001b[38;5;124m\"\u001b[39m, betas[\u001b[38;5;124m\"\u001b[39m\u001b[38;5;124mnormal\u001b[39m\u001b[38;5;124m\"\u001b[39m][\u001b[38;5;124m\"\u001b[39m\u001b[38;5;124mbase\u001b[39m\u001b[38;5;124m\"\u001b[39m][\u001b[38;5;124m\"\u001b[39m\u001b[38;5;124merror\u001b[39m\u001b[38;5;124m\"\u001b[39m][\u001b[38;5;241m~\u001b[39mbetas[\u001b[38;5;124m\"\u001b[39m\u001b[38;5;124mnormal\u001b[39m\u001b[38;5;124m\"\u001b[39m][\u001b[38;5;124m\"\u001b[39m\u001b[38;5;124mbase\u001b[39m\u001b[38;5;124m\"\u001b[39m][\u001b[38;5;124m\"\u001b[39m\u001b[38;5;124merror\u001b[39m\u001b[38;5;124m\"\u001b[39m]\u001b[38;5;241m.\u001b[39misnan()]\u001b[38;5;241m.\u001b[39mmax()\u001b[38;5;241m.\u001b[39mitem(), betas[\u001b[38;5;124m\"\u001b[39m\u001b[38;5;124mnormal\u001b[39m\u001b[38;5;124m\"\u001b[39m][\u001b[38;5;124m\"\u001b[39m\u001b[38;5;124mbase\u001b[39m\u001b[38;5;124m\"\u001b[39m][\u001b[38;5;124m\"\u001b[39m\u001b[38;5;124merror\u001b[39m\u001b[38;5;124m\"\u001b[39m][\u001b[38;5;241m~\u001b[39mbetas[\u001b[38;5;124m\"\u001b[39m\u001b[38;5;124mnormal\u001b[39m\u001b[38;5;124m\"\u001b[39m][\u001b[38;5;124m\"\u001b[39m\u001b[38;5;124mbase\u001b[39m\u001b[38;5;124m\"\u001b[39m][\u001b[38;5;124m\"\u001b[39m\u001b[38;5;124merror\u001b[39m\u001b[38;5;124m\"\u001b[39m]\u001b[38;5;241m.\u001b[39misnan()]\u001b[38;5;241m.\u001b[39mmin()\u001b[38;5;241m.\u001b[39mitem())\n",
      "\u001b[0;31mAttributeError\u001b[0m: 'numpy.ndarray' object has no attribute 'isnan'"
     ]
    }
   ],
   "source": [
    "# some initial statistics \n",
    "# max of each of the betas\n",
    "print(\" NORMAL \\n______________________\")\n",
    "print(\"### BASE\")\n",
    "print(\"~~ ERROR\")\n",
    "print(\"Num NaNs: \", (betas[\"normal\"][\"base\"][\"error\"].isnan()).sum().item())\n",
    "print(\"Num Infs: \", (betas[\"normal\"][\"base\"][\"error\"].isinf()).sum().item())\n",
    "print(\"Max & Min beta error: \", betas[\"normal\"][\"base\"][\"error\"][~betas[\"normal\"][\"base\"][\"error\"].isnan()].max().item(), betas[\"normal\"][\"base\"][\"error\"][~betas[\"normal\"][\"base\"][\"error\"].isnan()].min().item())\n",
    "print(\"~~ RECONSTRUCTION\")\n",
    "print(\"Num NaNs: \", (betas[\"normal\"][\"base\"][\"reconstruction\"].isnan()).sum().item())\n",
    "print(\"Num Infs: \", (betas[\"normal\"][\"base\"][\"reconstruction\"].isinf()).sum().item())\n",
    "print(\"Max & Min beta reconstruction: \", betas[\"normal\"][\"base\"][\"reconstruction\"][~betas[\"normal\"][\"base\"][\"reconstruction\"].isnan()].max().item(), betas[\"normal\"][\"base\"][\"reconstruction\"][~betas[\"normal\"][\"base\"][\"reconstruction\"].isnan()].min().item())\n",
    "print(\"### CHAT\")\n",
    "print(\"~~ ERROR\")\n",
    "print(\"Num NaNs: \", (betas[\"normal\"][\"it\"][\"error\"].isnan()).sum().item())\n",
    "print(\"Num Infs: \", (betas[\"normal\"][\"it\"][\"error\"].isinf()).sum().item())\n",
    "print(\"Max & Min beta error: \", betas[\"normal\"][\"it\"][\"error\"][~betas[\"normal\"][\"it\"][\"error\"].isnan()].max().item(), betas[\"normal\"][\"it\"][\"error\"][~betas[\"normal\"][\"it\"][\"error\"].isnan()].min().item())\n",
    "print(\"~~ RECONSTRUCTION\")\n",
    "print(\"Num NaNs: \", (betas[\"normal\"][\"it\"][\"reconstruction\"].isnan()).sum().item())\n",
    "print(\"Num Infs: \", (betas[\"normal\"][\"it\"][\"reconstruction\"].isinf()).sum().item())\n",
    "print(\"Max & Min beta reconstruction: \", betas[\"normal\"][\"it\"][\"reconstruction\"][~betas[\"normal\"][\"it\"][\"reconstruction\"].isnan()].max().item(), betas[\"normal\"][\"it\"][\"reconstruction\"][~betas[\"normal\"][\"it\"][\"reconstruction\"].isnan()].min().item())"
   ]
  },
  {
   "cell_type": "code",
   "execution_count": 31,
   "metadata": {},
   "outputs": [
    {
     "ename": "AttributeError",
     "evalue": "'numpy.ndarray' object has no attribute 'cpu'",
     "output_type": "error",
     "traceback": [
      "\u001b[0;31m---------------------------------------------------------------------------\u001b[0m",
      "\u001b[0;31mAttributeError\u001b[0m                            Traceback (most recent call last)",
      "Cell \u001b[0;32mIn[31], line 1\u001b[0m\n\u001b[0;32m----> 1\u001b[0m error_base \u001b[38;5;241m=\u001b[39m \u001b[43mbetas\u001b[49m\u001b[43m[\u001b[49m\u001b[38;5;124;43m\"\u001b[39;49m\u001b[38;5;124;43mnormal\u001b[39;49m\u001b[38;5;124;43m\"\u001b[39;49m\u001b[43m]\u001b[49m\u001b[43m[\u001b[49m\u001b[38;5;124;43m\"\u001b[39;49m\u001b[38;5;124;43mbase\u001b[39;49m\u001b[38;5;124;43m\"\u001b[39;49m\u001b[43m]\u001b[49m\u001b[43m[\u001b[49m\u001b[38;5;124;43m\"\u001b[39;49m\u001b[38;5;124;43merror\u001b[39;49m\u001b[38;5;124;43m\"\u001b[39;49m\u001b[43m]\u001b[49m\u001b[38;5;241;43m.\u001b[39;49m\u001b[43mcpu\u001b[49m()\u001b[38;5;241m.\u001b[39mnumpy()\n\u001b[1;32m      2\u001b[0m error_chat \u001b[38;5;241m=\u001b[39m betas[\u001b[38;5;124m\"\u001b[39m\u001b[38;5;124mnormal\u001b[39m\u001b[38;5;124m\"\u001b[39m][\u001b[38;5;124m\"\u001b[39m\u001b[38;5;124mit\u001b[39m\u001b[38;5;124m\"\u001b[39m][\u001b[38;5;124m\"\u001b[39m\u001b[38;5;124merror\u001b[39m\u001b[38;5;124m\"\u001b[39m]\u001b[38;5;241m.\u001b[39mcpu()\u001b[38;5;241m.\u001b[39mnumpy()\n\u001b[1;32m      4\u001b[0m reconstruction_base \u001b[38;5;241m=\u001b[39m betas[\u001b[38;5;124m\"\u001b[39m\u001b[38;5;124mnormal\u001b[39m\u001b[38;5;124m\"\u001b[39m][\u001b[38;5;124m\"\u001b[39m\u001b[38;5;124mbase\u001b[39m\u001b[38;5;124m\"\u001b[39m][\u001b[38;5;124m\"\u001b[39m\u001b[38;5;124mreconstruction\u001b[39m\u001b[38;5;124m\"\u001b[39m]\u001b[38;5;241m.\u001b[39mcpu()\u001b[38;5;241m.\u001b[39mnumpy()\n",
      "\u001b[0;31mAttributeError\u001b[0m: 'numpy.ndarray' object has no attribute 'cpu'"
     ]
    }
   ],
   "source": [
    "error_base = betas[\"normal\"][\"base\"][\"error\"].cpu().numpy()\n",
    "error_chat = betas[\"normal\"][\"it\"][\"error\"].cpu().numpy()\n",
    "\n",
    "reconstruction_base = betas[\"normal\"][\"base\"][\"reconstruction\"].cpu().numpy()\n",
    "reconstruction_chat = betas[\"normal\"][\"it\"][\"reconstruction\"].cpu().numpy()\n"
   ]
  },
  {
   "cell_type": "code",
   "execution_count": null,
   "metadata": {},
   "outputs": [],
   "source": [
    "\n",
    "plt.figure(figsize=(15,5))\n",
    "\n",
    "plt.subplot(1,2,1)\n",
    "plt.hist(error_base/error_chat, bins=100)\n",
    "plt.title(\"Base Model Error / Chat Model Error\")\n",
    "plt.xlabel(\"Error Value\")\n",
    "plt.ylabel(\"Count\")\n",
    "\n",
    "plt.subplot(1,2,2)\n",
    "plt.hist(reconstruction_base/reconstruction_chat, bins=100)\n",
    "plt.title(\"Base Model Reconstruction / Chat Model Reconstruction\")\n",
    "plt.xlabel(\"Reconstruction Value\")\n",
    "plt.ylabel(\"Count\")\n",
    "\n",
    "plt.tight_layout()\n",
    "plt.show()"
   ]
  },
  {
   "cell_type": "code",
   "execution_count": null,
   "metadata": {},
   "outputs": [],
   "source": [
    "fig = plot_scaler_histograms(betas, \"reconstruction\", baseline=betas[\"baselines\"][\"base\"][\"reconstruction\"], baseline_title=\"Random Base Latent Index\")\n",
    "fig.add_annotation(\n",
    "    x=3,\n",
    "    y=60,\n",
    "    ax=220,\n",
    "    ay=-80,\n",
    "    xref=\"x3\",\n",
    "    yref=\"y3\",\n",
    "    text=\"\",\n",
    "    showarrow=True,\n",
    "    arrowhead=2,\n",
    ")\n",
    "# fig.write_image(PLOTS / \"reconstruction_ratio.png\")\n",
    "fig.show()"
   ]
  },
  {
   "cell_type": "code",
   "execution_count": 32,
   "metadata": {},
   "outputs": [
    {
     "data": {
      "image/png": "[encoded data removed]",
      "text/plain": [
       "<Figure size 500x300 with 1 Axes>"
      ]
     },
     "metadata": {},
     "output_type": "display_data"
    }
   ],
   "source": [
    "zoom = [0, 1.5]\n",
    "reconstruction_ratio = chat_only_df[\"beta_ratio_reconstruction\"]\n",
    "reconstruction_ratio_shared = shared_df[\"beta_ratio_reconstruction\"]\n",
    "\n",
    "# Filter out nans\n",
    "reconstruction_ratio_filtered = reconstruction_ratio[~np.isnan(reconstruction_ratio) ]\n",
    "reconstruction_ratio_shared_filtered = reconstruction_ratio_shared[~np.isnan(reconstruction_ratio_shared) ]\n",
    "\n",
    "# Compute combined range for consistent bins\n",
    "all_data = np.concatenate([\n",
    "    reconstruction_ratio_filtered,\n",
    "    reconstruction_ratio_shared_filtered, \n",
    "])\n",
    "if zoom is None:\n",
    "    min_val, max_val = np.min(all_data), np.max(all_data)\n",
    "else:\n",
    "    min_val, max_val = zoom[0], zoom[1]\n",
    "bins = np.linspace(min_val, max_val, 100)\n",
    "\n",
    "plt.figure(figsize=(5, 3))\n",
    "plt.rcParams['text.usetex'] = True\n",
    "plt.hist(reconstruction_ratio_filtered, bins=bins, alpha=0.5, label='Chat-only')\n",
    "plt.hist(reconstruction_ratio_shared_filtered, bins=bins, alpha=0.5, label='Shared')\n",
    "# plt.hist(baseline_reconstruction_ratio_filtered, bins=bins, alpha=0.5, label='Baseline')\n",
    "# plt.title(\"Reconstruction Ratios (Base/Chat)\" + (f\" (zoomed on {zoom})\" if zoom is not None else \"\"))\n",
    "plt.xlabel(\"$\\\\nu^r$\")\n",
    "plt.ylabel(\"Count\")\n",
    "# plt.yscale(\"log\")\n",
    "plt.rcParams.update({'font.size': 16})  # Increase font size for all text elements\n",
    "plt.rcParams.update({'legend.fontsize': 16})  # Smaller font size just for legend\n",
    "\n",
    "plt.legend()\n",
    "plt.tight_layout()\n",
    "plt.savefig(PLOTS / \"reconstruction_ratio.pdf\", bbox_inches='tight')\n",
    "plt.show()"
   ]
  },
  {
   "cell_type": "code",
   "execution_count": 33,
   "metadata": {},
   "outputs": [
    {
     "data": {
      "image/png": "[encoded data removed]",
      "text/plain": [
       "<Figure size 500x300 with 1 Axes>"
      ]
     },
     "metadata": {},
     "output_type": "display_data"
    }
   ],
   "source": [
    "zoom = [0, 1.5]\n",
    "error_ratio = chat_only_df[\"beta_ratio_error\"]\n",
    "error_ratio_shared = shared_df[\"beta_ratio_error\"]\n",
    "\n",
    "# Filter out nans\n",
    "error_ratio_filtered = error_ratio[~np.isnan(error_ratio) ]\n",
    "error_ratio_shared_filtered = error_ratio_shared[~np.isnan(error_ratio_shared) ]\n",
    "\n",
    "# Compute combined range for consistent bins\n",
    "all_data = np.concatenate([\n",
    "    error_ratio_filtered,\n",
    "    error_ratio_shared_filtered, \n",
    "])\n",
    "if zoom is None:\n",
    "    min_val, max_val = np.min(all_data), np.max(all_data)\n",
    "else:\n",
    "    min_val, max_val = zoom[0], zoom[1]\n",
    "bins = np.linspace(min_val, max_val, 100)\n",
    "\n",
    "plt.figure(figsize=(5, 3))\n",
    "plt.rcParams['text.usetex'] = True\n",
    "plt.hist(error_ratio_filtered, bins=bins, alpha=0.5, label='Chat-only')\n",
    "plt.hist(error_ratio_shared_filtered, bins=bins, alpha=0.5, label='Shared')\n",
    "# plt.hist(baseline_reconstruction_ratio_filtered, bins=bins, alpha=0.5, label='Baseline')\n",
    "# plt.title(\"Reconstruction Ratios (Base/Chat)\" + (f\" (zoomed on {zoom})\" if zoom is not None else \"\"))\n",
    "plt.xlabel(\"$\\\\nu^\\\\epsilon$\")\n",
    "plt.ylabel(\"Count\")\n",
    "# plt.yscale(\"log\")\n",
    "plt.rcParams.update({'font.size': 16})  # Increase font size for all text elements\n",
    "plt.rcParams.update({'legend.fontsize': 16})  # Smaller font size just for legend\n",
    "\n",
    "plt.legend()\n",
    "plt.tight_layout()\n",
    "plt.savefig(PLOTS / \"error_ratio.pdf\", bbox_inches='tight')\n",
    "plt.show()"
   ]
  },
  {
   "cell_type": "code",
   "execution_count": 8,
   "metadata": {},
   "outputs": [
    {
     "data": {
      "text/plain": [
       "PosixPath('/workspace/data/plots')"
      ]
     },
     "execution_count": 8,
     "metadata": {},
     "output_type": "execute_result"
    }
   ],
   "source": [
    "PLOTS"
   ]
  },
  {
   "cell_type": "code",
   "execution_count": 1,
   "metadata": {},
   "outputs": [
    {
     "ename": "NameError",
     "evalue": "name 'plt' is not defined",
     "output_type": "error",
     "traceback": [
      "\u001b[0;31m---------------------------------------------------------------------------\u001b[0m",
      "\u001b[0;31mNameError\u001b[0m                                 Traceback (most recent call last)",
      "Cell \u001b[0;32mIn[1], line 3\u001b[0m\n\u001b[1;32m      1\u001b[0m \u001b[38;5;66;03m# zoom = [0, 1.1]\u001b[39;00m\n\u001b[1;32m      2\u001b[0m \u001b[38;5;66;03m# Create figure with a main plot and two side histograms\u001b[39;00m\n\u001b[0;32m----> 3\u001b[0m fig \u001b[38;5;241m=\u001b[39m \u001b[43mplt\u001b[49m\u001b[38;5;241m.\u001b[39mfigure(figsize\u001b[38;5;241m=\u001b[39m(\u001b[38;5;241m13\u001b[39m, \u001b[38;5;241m3\u001b[39m))\n\u001b[1;32m      5\u001b[0m \u001b[38;5;66;03m# Create a grid of subplots with different widths/heights\u001b[39;00m\n\u001b[1;32m      6\u001b[0m \u001b[38;5;66;03m# Increase right margin to accommodate colorbar\u001b[39;00m\n\u001b[1;32m      7\u001b[0m gs \u001b[38;5;241m=\u001b[39m plt\u001b[38;5;241m.\u001b[39mGridSpec(\u001b[38;5;241m2\u001b[39m, \u001b[38;5;241m2\u001b[39m, width_ratios\u001b[38;5;241m=\u001b[39m[\u001b[38;5;241m6\u001b[39m, \u001b[38;5;241m1\u001b[39m], height_ratios\u001b[38;5;241m=\u001b[39m[\u001b[38;5;241m1\u001b[39m, \u001b[38;5;241m4\u001b[39m],\n\u001b[1;32m      8\u001b[0m                   left\u001b[38;5;241m=\u001b[39m\u001b[38;5;241m0.1\u001b[39m, right\u001b[38;5;241m=\u001b[39m\u001b[38;5;241m0.85\u001b[39m, bottom\u001b[38;5;241m=\u001b[39m\u001b[38;5;241m0.1\u001b[39m, top\u001b[38;5;241m=\u001b[39m\u001b[38;5;241m0.9\u001b[39m,\n\u001b[1;32m      9\u001b[0m                   wspace\u001b[38;5;241m=\u001b[39m\u001b[38;5;241m0.01\u001b[39m, hspace\u001b[38;5;241m=\u001b[39m\u001b[38;5;241m0.05\u001b[39m)\n",
      "\u001b[0;31mNameError\u001b[0m: name 'plt' is not defined"
     ]
    }
   ],
   "source": [
    "# zoom = [0, 1.1]\n",
    "# Create figure with a main plot and two side histograms\n",
    "fig = plt.figure(figsize=(13, 3))\n",
    "\n",
    "# Create a grid of subplots with different widths/heights\n",
    "# Increase right margin to accommodate colorbar\n",
    "gs = plt.GridSpec(2, 2, width_ratios=[6, 1], height_ratios=[1, 4],\n",
    "                  left=0.1, right=0.85, bottom=0.1, top=0.9,\n",
    "                  wspace=0.01, hspace=0.05)\n",
    "\n",
    "# Create the three axes\n",
    "ax_scatter = fig.add_subplot(gs[1,0])  # Main plot\n",
    "ax_histx = fig.add_subplot(gs[0,0], sharex=ax_scatter)  # x-axis histogram\n",
    "ax_histy = fig.add_subplot(gs[1,1], sharey=ax_scatter)  # y-axis histogram\n",
    "\n",
    "plt.rcParams['text.usetex'] = True\n",
    "plt.rcParams.update({'font.size': 16})\n",
    "\n",
    "# Filter out nans from both ratios simultaneously\n",
    "valid_mask = ~(np.isnan(error_ratio) | np.isnan(reconstruction_ratio))\n",
    "error_ratio_valid = error_ratio[valid_mask]\n",
    "reconstruction_ratio_valid = reconstruction_ratio[valid_mask]\n",
    "\n",
    "valid_mask_shared = ~(np.isnan(error_ratio_shared) | np.isnan(reconstruction_ratio_shared))\n",
    "error_ratio_shared_valid = error_ratio_shared[valid_mask_shared]\n",
    "reconstruction_ratio_shared_valid = reconstruction_ratio_shared[valid_mask_shared]\n",
    "\n",
    "# Apply zoom mask to both datasets\n",
    "zoom_mask = (error_ratio_valid>zoom[0]) & (error_ratio_valid<zoom[1]) & (reconstruction_ratio_valid>zoom[0]) & (reconstruction_ratio_valid<zoom[1])\n",
    "error_ratio_zoomed = error_ratio_valid[zoom_mask]\n",
    "reconstruction_ratio_zoomed = reconstruction_ratio_valid[zoom_mask]\n",
    "\n",
    "zoom_mask_shared = (error_ratio_shared_valid>zoom[0]) & (error_ratio_shared_valid<zoom[1]) & (reconstruction_ratio_shared_valid>zoom[0]) & (reconstruction_ratio_shared_valid<zoom[1])\n",
    "error_ratio_shared_zoomed = error_ratio_shared_valid[zoom_mask_shared]\n",
    "reconstruction_ratio_shared_zoomed = reconstruction_ratio_shared_valid[zoom_mask_shared]\n",
    "\n",
    "\n",
    "# Plot the scatter plots with swapped axes\n",
    "ax_scatter.scatter(reconstruction_ratio_zoomed, error_ratio_zoomed,\n",
    "                  alpha=0.2, label='Chat-only', s=5)\n",
    "ax_scatter.scatter(reconstruction_ratio_shared_zoomed, error_ratio_shared_zoomed,\n",
    "                  alpha=0.2, label='Shared', s=5)\n",
    "\n",
    "# Plot the histograms with swapped axes\n",
    "bins = 50\n",
    "ax_histx.hist(reconstruction_ratio_zoomed, bins=bins, range=zoom, alpha=0.5, label='Chat-only')\n",
    "ax_histx.hist(reconstruction_ratio_shared_zoomed, bins=bins, range=zoom, alpha=0.5, label='Shared')\n",
    "ax_histy.hist(error_ratio_zoomed, bins=bins, range=zoom, \n",
    "              orientation='horizontal', alpha=0.5)\n",
    "ax_histy.hist(error_ratio_shared_zoomed, bins=bins, range=zoom,\n",
    "              orientation='horizontal', alpha=0.5)\n",
    "\n",
    "# Turn off tick labels on histograms\n",
    "ax_histx.tick_params(labelbottom=False, bottom=False)\n",
    "ax_histy.tick_params(labelleft=False, left=False)\n",
    "\n",
    "# Add labels with swapped axes\n",
    "ax_scatter.set_xlabel(\"$\\\\nu^r$\")\n",
    "ax_scatter.set_ylabel(\"$\\\\nu^\\\\epsilon$\")\n",
    "\n",
    "# Add legend to top histogram with larger points\n",
    "# Move legend below the plot\n",
    "ax_histx.legend(fontsize=14, markerscale=4, loc='lower right', bbox_to_anchor=(1.0, -4.2))\n",
    "\n",
    "plt.savefig(plots_dir / \"error_vs_reconstruction_ratio_everything.pdf\", bbox_inches='tight')\n",
    "plt.show()\n"
   ]
  },
  {
   "cell_type": "code",
   "execution_count": 35,
   "metadata": {},
   "outputs": [
    {
     "ename": "KeyError",
     "evalue": "'lmsys_ctrl_%'",
     "output_type": "error",
     "traceback": [
      "\u001b[0;31m---------------------------------------------------------------------------\u001b[0m",
      "\u001b[0;31mKeyError\u001b[0m                                  Traceback (most recent call last)",
      "File \u001b[0;32m/workspace/julian/micromamba/envs/sof/lib/python3.11/site-packages/pandas/core/indexes/base.py:3805\u001b[0m, in \u001b[0;36mIndex.get_loc\u001b[0;34m(self, key)\u001b[0m\n\u001b[1;32m   3804\u001b[0m \u001b[38;5;28;01mtry\u001b[39;00m:\n\u001b[0;32m-> 3805\u001b[0m     \u001b[38;5;28;01mreturn\u001b[39;00m \u001b[38;5;28;43mself\u001b[39;49m\u001b[38;5;241;43m.\u001b[39;49m\u001b[43m_engine\u001b[49m\u001b[38;5;241;43m.\u001b[39;49m\u001b[43mget_loc\u001b[49m\u001b[43m(\u001b[49m\u001b[43mcasted_key\u001b[49m\u001b[43m)\u001b[49m\n\u001b[1;32m   3806\u001b[0m \u001b[38;5;28;01mexcept\u001b[39;00m \u001b[38;5;167;01mKeyError\u001b[39;00m \u001b[38;5;28;01mas\u001b[39;00m err:\n",
      "File \u001b[0;32mindex.pyx:167\u001b[0m, in \u001b[0;36mpandas._libs.index.IndexEngine.get_loc\u001b[0;34m()\u001b[0m\n",
      "File \u001b[0;32mindex.pyx:196\u001b[0m, in \u001b[0;36mpandas._libs.index.IndexEngine.get_loc\u001b[0;34m()\u001b[0m\n",
      "File \u001b[0;32mpandas/_libs/hashtable_class_helper.pxi:7081\u001b[0m, in \u001b[0;36mpandas._libs.hashtable.PyObjectHashTable.get_item\u001b[0;34m()\u001b[0m\n",
      "File \u001b[0;32mpandas/_libs/hashtable_class_helper.pxi:7089\u001b[0m, in \u001b[0;36mpandas._libs.hashtable.PyObjectHashTable.get_item\u001b[0;34m()\u001b[0m\n",
      "\u001b[0;31mKeyError\u001b[0m: 'lmsys_ctrl_%'",
      "\nThe above exception was the direct cause of the following exception:\n",
      "\u001b[0;31mKeyError\u001b[0m                                  Traceback (most recent call last)",
      "Cell \u001b[0;32mIn[35], line 2\u001b[0m\n\u001b[1;32m      1\u001b[0m \u001b[38;5;66;03m# Create histogram of beta_ratio_error for latents with lmsys_ctrl_% > 0.05\u001b[39;00m\n\u001b[0;32m----> 2\u001b[0m filtered_df \u001b[38;5;241m=\u001b[39m chat_only_df[(\u001b[43mchat_only_df\u001b[49m\u001b[43m[\u001b[49m\u001b[38;5;124;43m\"\u001b[39;49m\u001b[38;5;124;43mlmsys_ctrl_\u001b[39;49m\u001b[38;5;124;43m%\u001b[39;49m\u001b[38;5;124;43m\"\u001b[39;49m\u001b[43m]\u001b[49m \u001b[38;5;241m>\u001b[39m \u001b[38;5;241m0.3\u001b[39m)]\n\u001b[1;32m      3\u001b[0m twin_df \u001b[38;5;241m=\u001b[39m chat_only_df[(chat_only_df[\u001b[38;5;124m\"\u001b[39m\u001b[38;5;124mtwin_latent\u001b[39m\u001b[38;5;124m\"\u001b[39m] \u001b[38;5;241m!=\u001b[39m \u001b[38;5;241m-\u001b[39m\u001b[38;5;241m1\u001b[39m)]\n\u001b[1;32m      5\u001b[0m plt\u001b[38;5;241m.\u001b[39mfigure(figsize\u001b[38;5;241m=\u001b[39m(\u001b[38;5;241m6\u001b[39m, \u001b[38;5;241m4\u001b[39m))\n",
      "File \u001b[0;32m/workspace/julian/micromamba/envs/sof/lib/python3.11/site-packages/pandas/core/frame.py:4102\u001b[0m, in \u001b[0;36mDataFrame.__getitem__\u001b[0;34m(self, key)\u001b[0m\n\u001b[1;32m   4100\u001b[0m \u001b[38;5;28;01mif\u001b[39;00m \u001b[38;5;28mself\u001b[39m\u001b[38;5;241m.\u001b[39mcolumns\u001b[38;5;241m.\u001b[39mnlevels \u001b[38;5;241m>\u001b[39m \u001b[38;5;241m1\u001b[39m:\n\u001b[1;32m   4101\u001b[0m     \u001b[38;5;28;01mreturn\u001b[39;00m \u001b[38;5;28mself\u001b[39m\u001b[38;5;241m.\u001b[39m_getitem_multilevel(key)\n\u001b[0;32m-> 4102\u001b[0m indexer \u001b[38;5;241m=\u001b[39m \u001b[38;5;28;43mself\u001b[39;49m\u001b[38;5;241;43m.\u001b[39;49m\u001b[43mcolumns\u001b[49m\u001b[38;5;241;43m.\u001b[39;49m\u001b[43mget_loc\u001b[49m\u001b[43m(\u001b[49m\u001b[43mkey\u001b[49m\u001b[43m)\u001b[49m\n\u001b[1;32m   4103\u001b[0m \u001b[38;5;28;01mif\u001b[39;00m is_integer(indexer):\n\u001b[1;32m   4104\u001b[0m     indexer \u001b[38;5;241m=\u001b[39m [indexer]\n",
      "File \u001b[0;32m/workspace/julian/micromamba/envs/sof/lib/python3.11/site-packages/pandas/core/indexes/base.py:3812\u001b[0m, in \u001b[0;36mIndex.get_loc\u001b[0;34m(self, key)\u001b[0m\n\u001b[1;32m   3807\u001b[0m     \u001b[38;5;28;01mif\u001b[39;00m \u001b[38;5;28misinstance\u001b[39m(casted_key, \u001b[38;5;28mslice\u001b[39m) \u001b[38;5;129;01mor\u001b[39;00m (\n\u001b[1;32m   3808\u001b[0m         \u001b[38;5;28misinstance\u001b[39m(casted_key, abc\u001b[38;5;241m.\u001b[39mIterable)\n\u001b[1;32m   3809\u001b[0m         \u001b[38;5;129;01mand\u001b[39;00m \u001b[38;5;28many\u001b[39m(\u001b[38;5;28misinstance\u001b[39m(x, \u001b[38;5;28mslice\u001b[39m) \u001b[38;5;28;01mfor\u001b[39;00m x \u001b[38;5;129;01min\u001b[39;00m casted_key)\n\u001b[1;32m   3810\u001b[0m     ):\n\u001b[1;32m   3811\u001b[0m         \u001b[38;5;28;01mraise\u001b[39;00m InvalidIndexError(key)\n\u001b[0;32m-> 3812\u001b[0m     \u001b[38;5;28;01mraise\u001b[39;00m \u001b[38;5;167;01mKeyError\u001b[39;00m(key) \u001b[38;5;28;01mfrom\u001b[39;00m\u001b[38;5;250m \u001b[39m\u001b[38;5;21;01merr\u001b[39;00m\n\u001b[1;32m   3813\u001b[0m \u001b[38;5;28;01mexcept\u001b[39;00m \u001b[38;5;167;01mTypeError\u001b[39;00m:\n\u001b[1;32m   3814\u001b[0m     \u001b[38;5;66;03m# If we have a listlike key, _check_indexing_error will raise\u001b[39;00m\n\u001b[1;32m   3815\u001b[0m     \u001b[38;5;66;03m#  InvalidIndexError. Otherwise we fall through and re-raise\u001b[39;00m\n\u001b[1;32m   3816\u001b[0m     \u001b[38;5;66;03m#  the TypeError.\u001b[39;00m\n\u001b[1;32m   3817\u001b[0m     \u001b[38;5;28mself\u001b[39m\u001b[38;5;241m.\u001b[39m_check_indexing_error(key)\n",
      "\u001b[0;31mKeyError\u001b[0m: 'lmsys_ctrl_%'"
     ]
    }
   ],
   "source": [
    "# Create histogram of beta_ratio_error for latents with lmsys_ctrl_% > 0.05\n",
    "filtered_df = chat_only_df[(chat_only_df[\"lmsys_ctrl_%\"] > 0.3)]\n",
    "twin_df = chat_only_df[(chat_only_df[\"twin_latent\"] != -1)]\n",
    "\n",
    "plt.figure(figsize=(6, 4))\n",
    "\n",
    "low = -0.1\n",
    "high = 1.1\n",
    "\n",
    "plt.rcParams['text.usetex'] = True\n",
    "plt.rcParams.update({'font.size': 16})\n",
    "\n",
    "filtered_df[\"beta_ratio_error\"].hist(bins=50, range=(low, high))\n",
    "# Plot full distribution\n",
    "chat_only_df[\"beta_ratio_error\"].hist(bins=50, range=(low, high), alpha=0.5, color='lightgray', label='All chat-only latents')\n",
    "# Plot filtered distribution on top\n",
    "filtered_df[\"beta_ratio_error\"].hist(bins=50, range=(low, high), alpha=0.7, color='blue', label='High Template Perc.')\n",
    "# Plot twin distribution\n",
    "twin_df[\"beta_ratio_error\"].hist(bins=50, range=(low, high), alpha=0.7, color='red', label='Twin Latents')\n",
    "plt.legend()\n",
    "\n",
    "# percentage of activations of template tokens\n",
    "\n",
    "# plt.title(\"Distribution of $\\\\nu^\\\\epsilon$ for chat-only latents with a high percentage of activation on template tokens.\")\n",
    "plt.xlabel(\"$\\\\nu^\\\\epsilon$\")\n",
    "plt.ylabel(\"Count\")\n",
    "plt.show()\n",
    "plt.savefig(PLOTS / \"special_groups_beta_ratio_error.pdf\", bbox_inches='tight')"
   ]
  },
  {
   "cell_type": "code",
   "execution_count": 142,
   "metadata": {},
   "outputs": [
    {
     "data": {
      "image/png": "[encoded data removed]",
      "text/plain": [
       "<Figure size 600x400 with 1 Axes>"
      ]
     },
     "metadata": {},
     "output_type": "display_data"
    },
    {
     "data": {
      "text/plain": [
       "<Figure size 640x480 with 0 Axes>"
      ]
     },
     "metadata": {},
     "output_type": "display_data"
    }
   ],
   "source": [
    "# Create histogram of beta_ratio_error for latents with lmsys_ctrl_% > 0.05\n",
    "filtered_df = chat_only_df[(chat_only_df[\"lmsys_ctrl_%\"] > 0.3)]\n",
    "twin_df = chat_only_df[(chat_only_df[\"twin_latent\"] != -1)]\n",
    "\n",
    "low = -0.1\n",
    "high = 1.1\n",
    "\n",
    "plt.figure(figsize=(6, 4))\n",
    "plt.rcParams['text.usetex'] = True\n",
    "plt.rcParams.update({'font.size': 16})\n",
    "\n",
    "filtered_df[\"beta_ratio_reconstruction\"].hist(bins=50, range=(low, high))\n",
    "# Plot full distribution\n",
    "chat_only_df[\"beta_ratio_reconstruction\"].hist(bins=50, range=(low, high), alpha=0.5, color='lightgray', label='All chat-only latents')\n",
    "# Plot filtered distribution on top\n",
    "filtered_df[\"beta_ratio_reconstruction\"].hist(bins=50, range=(low, high), alpha=0.7, color='blue', label='High Template Perc.')\n",
    "\n",
    "# Plot twin distribution\n",
    "twin_df[\"beta_ratio_reconstruction\"].hist(bins=50, range=(low, high), alpha=0.7, color='red', label='Twin Latents')\n",
    "plt.legend()\n",
    "\n",
    "# percentage of activations of template tokens\n",
    "\n",
    "# plt.title(\"Distribution of $\\\\\\nu^r$ for chat-only latents with a high percentage of activation on template tokens.\")\n",
    "plt.xlabel(\"$\\\\nu^r$\")\n",
    "plt.ylabel(\"Count\")\n",
    "plt.show()\n",
    "plt.savefig(PLOTS / \"special_groups_beta_ratio_reconstruction.pdf\", bbox_inches='tight')"
   ]
  },
  {
   "cell_type": "code",
   "execution_count": 144,
   "metadata": {},
   "outputs": [
    {
     "data": {
      "image/png": "[encoded data removed]",
      "text/plain": [
       "<Figure size 800x500 with 1 Axes>"
      ]
     },
     "metadata": {},
     "output_type": "display_data"
    },
    {
     "data": {
      "text/plain": [
       "<Figure size 640x480 with 0 Axes>"
      ]
     },
     "metadata": {},
     "output_type": "display_data"
    }
   ],
   "source": [
    "# Get ranks of low nu_error latents\n",
    "low_nu_error_indices = chat_only_df[\"beta_ratio_error\"].sort_values(ascending=True).index[:100]\n",
    "all_latent_ranks = chat_only_df[\"dec_norm_diff\"].rank()\n",
    "low_nu_error_ranks = all_latent_ranks[low_nu_error_indices].sort_values()\n",
    "\n",
    "# Calculate fractions\n",
    "total_low_nu_error_latents = len(low_nu_error_indices)\n",
    "fractions = np.arange(1, len(low_nu_error_ranks) + 1) / total_low_nu_error_latents\n",
    "\n",
    "# Create figure\n",
    "plt.figure(figsize=(8, 5))\n",
    "plt.rcParams['text.usetex'] = True\n",
    "plt.rcParams.update({'font.size': 16})\n",
    "# Plot step function\n",
    "plt.step(low_nu_error_ranks, fractions, where='post', label='Fraction of low $\\\\nu^\\\\epsilon$ latents')\n",
    "\n",
    "# Update layout\n",
    "plt.xlabel(\"Rank in chat-only latent set\")\n",
    "plt.ylabel(\"Fraction of 100 lowest $\\\\nu^\\\\epsilon$ latents\")\n",
    "plt.legend()\n",
    "\n",
    "plt.tight_layout()\n",
    "plt.show()\n",
    "plt.savefig(PLOTS / \"low_nu_error_latents_rank_distribution.pdf\", bbox_inches='tight')"
   ]
  },
  {
   "cell_type": "code",
   "execution_count": 145,
   "metadata": {},
   "outputs": [
    {
     "data": {
      "image/png": "[encoded data removed]",
      "text/plain": [
       "<Figure size 800x500 with 1 Axes>"
      ]
     },
     "metadata": {},
     "output_type": "display_data"
    },
    {
     "data": {
      "text/plain": [
       "<Figure size 640x480 with 0 Axes>"
      ]
     },
     "metadata": {},
     "output_type": "display_data"
    }
   ],
   "source": [
    "# Get ranks of high beta ratio latents\n",
    "low_nu_r_indices = chat_only_df[\"beta_ratio_reconstruction\"].sort_values(ascending=True).index[:100]\n",
    "all_latent_ranks = chat_only_df[\"dec_norm_diff\"].rank()\n",
    "low_nu_r_ranks = all_latent_ranks[low_nu_r_indices].sort_values()\n",
    "\n",
    "# Calculate fractions\n",
    "total_low_nu_r_latents = len(low_nu_r_indices)\n",
    "fractions = np.arange(1, len(low_nu_r_ranks) + 1) / total_low_nu_r_latents\n",
    "\n",
    "# Create figure\n",
    "plt.figure(figsize=(8, 5))\n",
    "plt.rcParams['text.usetex'] = True\n",
    "plt.rcParams.update({'font.size': 16})\n",
    "# Plot step function\n",
    "plt.step(low_nu_r_ranks, fractions, where='post', label='Fraction of low $\\\\nu^r$ ratio latents')\n",
    "\n",
    "# Update layout\n",
    "plt.xlabel(\"Rank in chat-only latent set\")\n",
    "plt.ylabel(\"Fraction of 100 lowest $\\\\nu^r$ ratio latents\")\n",
    "plt.legend()\n",
    "\n",
    "plt.tight_layout()\n",
    "plt.show()\n",
    "plt.savefig(PLOTS / \"low_nu_r_latents_rank_distribution.pdf\", bbox_inches='tight')"
   ]
  },
  {
   "cell_type": "code",
   "execution_count": 146,
   "metadata": {},
   "outputs": [
    {
     "data": {
      "image/png": "[encoded data removed]",
      "text/plain": [
       "<Figure size 1000x800 with 2 Axes>"
      ]
     },
     "metadata": {},
     "output_type": "display_data"
    },
    {
     "data": {
      "text/plain": [
       "<Figure size 640x480 with 0 Axes>"
      ]
     },
     "metadata": {},
     "output_type": "display_data"
    }
   ],
   "source": [
    "# Create data for heatmap\n",
    "x = chat_only_df[\"dec_norm_diff\"]\n",
    "y = chat_only_df[\"beta_ratio_reconstruction\"]\n",
    "\n",
    "# Remove NaN values and limit beta ratio range\n",
    "mask = ~(np.isnan(x) | np.isnan(y))\n",
    "x = x[mask]\n",
    "y = y[mask]\n",
    "\n",
    "# Apply beta ratio limits\n",
    "mask_limits = (y >= -0.1) & (y <= 1.1)\n",
    "x = x[mask_limits]\n",
    "y = y[mask_limits]\n",
    "\n",
    "# Create 2D histogram\n",
    "plt.figure(figsize=(10, 8))\n",
    "plt.rcParams['text.usetex'] = True\n",
    "plt.rcParams.update({'font.size': 16})\n",
    "\n",
    "# Plot heatmap using hist2d\n",
    "plt.hist2d(x, y, bins=50, cmap='viridis', norm='log')\n",
    "plt.colorbar(label='Count')\n",
    "\n",
    "# Update layout\n",
    "plt.xlabel(\"Decoder Norm Difference\")\n",
    "plt.ylabel(\"Beta Ratio\")\n",
    "plt.title(\"Heatmap of Decoder Norm vs Beta Ratio\")\n",
    "\n",
    "# Set y-axis limits\n",
    "plt.ylim(-0.1, 1.1)\n",
    "\n",
    "plt.tight_layout()\n",
    "plt.show()\n",
    "plt.savefig(PLOTS / \"dec_norm_beta_ratio_heatmap.pdf\", bbox_inches='tight')"
   ]
  },
  {
   "cell_type": "markdown",
   "metadata": {},
   "source": [
    "# Statistical Analysis"
   ]
  },
  {
   "cell_type": "code",
   "execution_count": 18,
   "metadata": {},
   "outputs": [
    {
     "name": "stdout",
     "output_type": "stream",
     "text": [
      "0.75 0.25\n"
     ]
    }
   ],
   "source": [
    "import numpy as np\n",
    "from scipy import stats\n",
    "from scipy.integrate import quad\n",
    "import numpy as np\n",
    "import matplotlib.pyplot as plt\n",
    "import pandas as pd\n",
    "import scipy.stats as st\n",
    "\n",
    "# baseline_ratio = betas[\"baselines\"][\"base\"][\"reconstruction\"] / betas[\"normal\"][\"it\"][\"reconstruction\"]\n",
    "# measurement_ratio = betas[\"normal\"][\"base\"][\"reconstruction\"] / betas[\"normal\"][\"it\"][\"reconstruction\"]\n",
    "\n",
    "# nan_mask = th.isnan(baseline_ratio) | th.isnan(measurement_ratio)\n",
    "# baseline_ratio = baseline_ratio[~nan_mask].numpy()\n",
    "# measurement_ratio = measurement_ratio[~nan_mask].numpy()\n",
    "\n",
    "def calculate_z_scores(baseline, comparison):\n",
    "    # Calculate baseline statistics\n",
    "    baseline_mean = np.mean(baseline)\n",
    "    baseline_std = np.std(baseline)\n",
    "    # Calculate z-scores for comparison values\n",
    "    z_scores = (comparison - baseline_mean) / baseline_std\n",
    "\n",
    "    return z_scores\n",
    "\n",
    "def normalProbabilityDensity(x):\n",
    "    constant = 1.0 / np.sqrt(2*np.pi)\n",
    "    return(constant * np.exp((-x**2) / 2.0) )\n",
    "\n",
    "z_scores = calculate_z_scores(shared_df[\"beta_ratio_reconstruction\"], chat_only_df[\"beta_ratio_reconstruction\"])\n",
    "# Get confidence interval\n",
    "confidence_level = 0.5\n",
    "upper_score = (1+confidence_level)/2\n",
    "upper_limit = st.norm.ppf(upper_score)\n",
    "lower_score = (1-confidence_level)/2\n",
    "lower_limit = st.norm.ppf(lower_score)\n",
    "print(upper_score, lower_score)\n",
    "same_as_shared_mask = (z_scores > lower_limit) & (z_scores < upper_limit)"
   ]
  },
  {
   "cell_type": "code",
   "execution_count": 19,
   "metadata": {},
   "outputs": [
    {
     "name": "stdout",
     "output_type": "stream",
     "text": [
      "Number of chat-only indices in shared 95% confidence interval: 3\n",
      "Total number of chat-only indices: 265\n",
      "Percentage: 1.1%\n"
     ]
    }
   ],
   "source": [
    "print(f\"Number of chat-only indices in shared 95% confidence interval: {same_as_shared_mask.sum()}\")\n",
    "print(f\"Total number of chat-only indices: {len(same_as_shared_mask)}\")\n",
    "print(f\"Percentage: {100 * same_as_shared_mask.sum() / len(same_as_shared_mask):.1f}%\")"
   ]
  },
  {
   "cell_type": "code",
   "execution_count": 17,
   "metadata": {},
   "outputs": [
    {
     "name": "stdout",
     "output_type": "stream",
     "text": [
      "Number of chat-only indices in shared 50% confidence interval: 47\n",
      "Total number of chat-only indices: 265\n",
      "Percentage: 17.7%\n"
     ]
    }
   ],
   "source": [
    "print(f\"Number of chat-only indices in shared 50% confidence interval: {same_as_shared_mask.sum()}\")\n",
    "print(f\"Total number of chat-only indices: {len(same_as_shared_mask)}\")\n",
    "print(f\"Percentage: {100 * same_as_shared_mask.sum() / len(same_as_shared_mask):.1f}%\")"
   ]
  },
  {
   "cell_type": "code",
   "execution_count": 140,
   "metadata": {},
   "outputs": [
    {
     "data": {
      "image/png": "[encoded data removed]",
      "text/plain": [
       "<Figure size 1200x600 with 1 Axes>"
      ]
     },
     "metadata": {},
     "output_type": "display_data"
    }
   ],
   "source": [
    "plt.figure(figsize=(12, 6))\n",
    "plt.rcParams['text.usetex'] = True\n",
    "plt.rcParams.update({'font.size': 16})\n",
    "\n",
    "bins = np.linspace(-1, 2, 300)\n",
    "\n",
    "# Plot histograms\n",
    "plt.hist(reconstruction_ratio_filtered[same_as_shared_mask], bins=bins, alpha=0.5, color='red', label=f'In Shared 95% confidence interval')\n",
    "plt.hist(reconstruction_ratio_filtered[~same_as_shared_mask], bins=bins, alpha=0.7, color='blue', label=f'Outside Shared 95% confidence interval')\n",
    "\n",
    "plt.hist(reconstruction_ratio_shared_filtered, bins=bins, alpha=0.2, label='Shared', color='gray')\n",
    "plt.xlabel('$\\\\nu^r$')\n",
    "plt.ylabel('Count')\n",
    "plt.title('Distribution of $\\\\nu^r$')\n",
    "plt.legend()\n",
    "plt.grid(True, alpha=0.3)\n",
    "plt.show()"
   ]
  },
  {
   "cell_type": "code",
   "execution_count": null,
   "metadata": {},
   "outputs": [],
   "source": [
    "def analyze_with_z_scores(baseline_ratio, measurement_ratio, confidence_level=0.95):\n",
    "    # Calculate z-scores\n",
    "    baseline_mean = np.mean(baseline_ratio)\n",
    "    baseline_std = np.std(baseline_ratio)\n",
    "    z_scores = (measurement_ratio - baseline_mean) / baseline_std\n",
    "    \n",
    "    # Get critical values for the confidence interval\n",
    "    critical_value = st.norm.ppf((1 + confidence_level) / 2)\n",
    "    \n",
    "    # Identify measurements that fall outside the confidence interval\n",
    "    significant_mask = np.abs(z_scores) > critical_value\n",
    "    \n",
    "    # Calculate percentages\n",
    "    pct_significant = 100 * np.mean(significant_mask)\n",
    "    pct_above = 100 * np.mean(z_scores > critical_value)\n",
    "    pct_below = 100 * np.mean(z_scores < -critical_value)\n",
    "    \n",
    "    return {\n",
    "        'z_scores': z_scores,\n",
    "        'significant_mask': significant_mask,\n",
    "        'pct_significant': pct_significant,\n",
    "        'pct_above': pct_above,\n",
    "        'pct_below': pct_below,\n",
    "        'critical_value': critical_value\n",
    "    }\n",
    "\n",
    "# Analyze the data\n",
    "results = analyze_with_z_scores(reconstruction_ratio_shared_filtered, reconstruction_ratio_filtered)\n",
    "\n",
    "# Visualization\n",
    "plt.figure(figsize=(12, 6))\n",
    "\n",
    "# Plot histograms\n",
    "bins = np.linspace(-1, 2, 300)\n",
    "plt.hist(reconstruction_ratio_filtered[~results['significant_mask']], \n",
    "         bins=bins, alpha=0.5, color='blue', \n",
    "         label='Within Shared 95% confidence interval')\n",
    "plt.hist(reconstruction_ratio_filtered[results['significant_mask']], \n",
    "         bins=bins, alpha=0.5, color='red',\n",
    "         label='Significantly different')\n",
    "plt.hist(reconstruction_ratio_shared_filtered, bins=bins, alpha=0.2, \n",
    "         label='Shared', color='gray')\n",
    "\n",
    "plt.xlabel('Ratio Values')\n",
    "plt.ylabel('Count')\n",
    "plt.title(f'Distribution of Ratios\\n'\n",
    "          f'{results[\"pct_significant\"]:.1f}% significantly different from baseline\\n'\n",
    "          f'({results[\"pct_above\"]:.1f}% above, {results[\"pct_below\"]:.1f}% below)')\n",
    "plt.legend()\n",
    "plt.grid(True, alpha=0.3)\n",
    "plt.show()"
   ]
  },
  {
   "cell_type": "code",
   "execution_count": null,
   "metadata": {},
   "outputs": [],
   "source": [
    "baseline_ratio_filtered = betas[\"baselines\"][\"base\"][\"reconstruction\"] / betas[\"normal\"][\"it\"][\"reconstruction\"]\n",
    "measurement_ratio_filtered = betas[\"normal\"][\"base\"][\"reconstruction\"] / betas[\"normal\"][\"it\"][\"reconstruction\"]\n",
    "\n",
    "nan_mask = th.isnan(baseline_ratio_filtered) | th.isnan(measurement_ratio_filtered)\n",
    "baseline_ratio_filtered = baseline_ratio_filtered[~nan_mask].numpy()\n",
    "measurement_ratio_filtered = measurement_ratio_filtered[~nan_mask].numpy()\n",
    "thres = count_active[\"baselines\"][\"base\"][\"reconstruction\"][~nan_mask].quantile(0.01)\n",
    "print(thres)\n",
    "baseline_ratio_filtered = baseline_ratio_filtered[count_active[\"baselines\"][\"base\"][\"reconstruction\"][~nan_mask]>thres]\n",
    "measurement_ratio_filtered = measurement_ratio_filtered[count_active[\"normal\"][\"base\"][\"reconstruction\"][~nan_mask]>thres]"
   ]
  },
  {
   "cell_type": "code",
   "execution_count": null,
   "metadata": {},
   "outputs": [],
   "source": [
    "plt.figure(figsize=(12,6))\n",
    "plt.hist(z_scores, bins=100, density=True, alpha=0.7, color='blue', range=(-1, 1))\n",
    "plt.xlabel('Z-Score')\n",
    "plt.ylabel('Density')\n",
    "plt.title('Distribution of Z-Scores')\n",
    "\n",
    "plt.legend()\n",
    "plt.grid(True, alpha=0.3)\n",
    "plt.show()\n",
    "\n",
    "plt.figure(figsize=(12,6))\n",
    "plt.hist(percentiles, bins=100, density=True, alpha=0.7, color='blue', range=(-1, 1))\n",
    "plt.xlabel('Percentile under standard normal')\n",
    "plt.ylabel('Density')\n",
    "plt.title('Distribution of percentiles')\n",
    "\n",
    "plt.legend()\n",
    "plt.grid(True, alpha=0.3)\n",
    "plt.show()\n"
   ]
  },
  {
   "cell_type": "code",
   "execution_count": null,
   "metadata": {},
   "outputs": [],
   "source": [
    "\n",
    "def compute_likelihood_under_baseline(baseline, comparison, bandwidth=None, normalize=True):\n",
    "    \"\"\"\n",
    "    Computes the likelihood of each sample in comparison under the baseline distribution.\n",
    "    Uses kernel density estimation to approximate the baseline distribution.\n",
    "    \n",
    "    Args:\n",
    "        baseline (array-like): Baseline samples used to estimate the distribution\n",
    "        comparison (array-like): Samples to evaluate likelihood for\n",
    "        bandwidth (float): Bandwidth parameter for kernel density estimation\n",
    "        \n",
    "    Returns:\n",
    "        array-like: Log likelihood for each comparison sample\n",
    "    \"\"\"\n",
    "\n",
    "    # Fit KDE to baseline distribution\n",
    "    kde = stats.gaussian_kde(baseline, bw_method=bandwidth)\n",
    "    \n",
    "    # Compute pdf of comparison samples\n",
    "    pdf = kde.pdf(comparison)\n",
    "\n",
    "    if normalize:\n",
    "        # Normalize to [0,1] range\n",
    "        pdf = pdf / pdf.max()\n",
    "        \n",
    "    return pdf\n",
    "\n",
    "likelihood = compute_likelihood_under_baseline(baseline_ratio, measurement_ratio, normalize=True)\n",
    "\n",
    "plt.figure(figsize=(12, 6))\n",
    "plt.hist(likelihood, bins=50, density=True)\n",
    "plt.xlabel('Likelihood')\n",
    "plt.ylabel('Density')\n",
    "plt.title('Distribution of Likelihoods under Baseline Model')\n",
    "plt.grid(True, alpha=0.3)\n",
    "plt.show()"
   ]
  },
  {
   "cell_type": "code",
   "execution_count": null,
   "metadata": {},
   "outputs": [],
   "source": []
  },
  {
   "cell_type": "code",
   "execution_count": null,
   "metadata": {},
   "outputs": [],
   "source": [
    "plt.figure(figsize=(12, 6))\n",
    "\n",
    "threshold = 0.4\n",
    "\n",
    "# Get indices where likelihood is below 0.4\n",
    "low_likelihood_mask = likelihood < threshold\n",
    "\n",
    "bins = np.linspace(-1, 2, 300)\n",
    "\n",
    "# Plot histograms\n",
    "plt.hist(reconstruction_ratio_filtered[~low_likelihood_mask], bins=bins, alpha=0.5, color='blue', label='Normal Measurements')\n",
    "plt.hist(reconstruction_ratio_filtered[low_likelihood_mask], bins=bins, alpha=0.7, color='red', label=f'Likelihood under baseline < {threshold}')\n",
    "\n",
    "plt.hist(reconstruction_ratio_shared_filtered, bins=bins, alpha=0.2, label='Shared', color='gray')\n",
    "plt.xlabel('Ratio Values')\n",
    "plt.ylabel('Density')\n",
    "plt.title('Distribution of Measurement Ratios')\n",
    "plt.legend()\n",
    "plt.grid(True, alpha=0.3)\n",
    "plt.show()"
   ]
  },
  {
   "cell_type": "code",
   "execution_count": null,
   "metadata": {},
   "outputs": [],
   "source": [
    "measurement_ratio.shape, likelihood.shape, measurement_ratio.shape"
   ]
  },
  {
   "cell_type": "code",
   "execution_count": null,
   "metadata": {},
   "outputs": [],
   "source": [
    "import matplotlib.pyplot as plt\n",
    "\n",
    "# Create figure and axis\n",
    "plt.figure(figsize=(12, 6))\n",
    "zoom = [-1, 2]\n",
    "# Plot histograms\n",
    "plt.hist(baseline_ratio.numpy(), bins=100, alpha=0.5, label='Baseline Ratio', density=True, range=zoom)\n",
    "plt.hist(measurement_ratio.numpy(), bins=100, alpha=0.5, label='Measurement Ratio', density=True, range=zoom)\n",
    "\n",
    "# Highlight significant values\n",
    "plt.hist(significant_values, bins=100, alpha=0.7, color='red', label='Significant Values', density=True, range=zoom)\n",
    "\n",
    "plt.xlabel('Ratio Values')\n",
    "plt.ylabel('Density')\n",
    "plt.title('Distribution of Ratios with Significant Values Highlighted')\n",
    "plt.legend()\n",
    "\n",
    "# Add vertical line at mean of baseline\n",
    "plt.axvline(x=np.mean(baseline_ratio.numpy()), color='k', linestyle='--', alpha=0.5)\n",
    "\n",
    "plt.tight_layout()\n",
    "plt.show()\n"
   ]
  },
  {
   "cell_type": "code",
   "execution_count": 55,
   "metadata": {},
   "outputs": [],
   "source": [
    "import numpy as np\n",
    "from scipy import stats\n",
    "import matplotlib.pyplot as plt\n",
    "\n",
    "def analyze_distributions(baseline, comparison, alpha=0.05):\n",
    "    nan_mask = th.isnan(baseline) | th.isnan(comparison)\n",
    "    baseline = baseline[~nan_mask].numpy()\n",
    "    comparison = comparison[~nan_mask].numpy()\n",
    "    zoom = [-1, 2]\n",
    "    # Perform KS test\n",
    "    ks_statistic, p_value = stats.ks_2samp(baseline, comparison)\n",
    "    \n",
    "    # Calculate basic statistics\n",
    "    baseline_mean = np.mean(baseline)\n",
    "    baseline_std = np.std(baseline)\n",
    "    comparison_mean = np.mean(comparison)\n",
    "    comparison_std = np.std(comparison)\n",
    "    \n",
    "    # Create visualization\n",
    "    plt.figure(figsize=(12, 6))\n",
    "    \n",
    "    # Plot histograms\n",
    "    plt.hist(baseline, bins=30, alpha=0.5, label='Baseline', density=True)\n",
    "    plt.hist(comparison, bins=30, alpha=0.5, label='Comparison', density=True)\n",
    "    \n",
    "    # Plot CDFs (Cumulative Distribution Functions)\n",
    "    baseline_sorted = np.sort(baseline)\n",
    "    comparison_sorted = np.sort(comparison)\n",
    "    plt.step(baseline_sorted, np.arange(1, len(baseline) + 1) / len(baseline), \n",
    "             'b--', alpha=0.5, label='Baseline CDF')\n",
    "    plt.step(comparison_sorted, np.arange(1, len(comparison) + 1) / len(comparison), \n",
    "             'r--', alpha=0.5, label='Comparison CDF')\n",
    "    \n",
    "    plt.legend()\n",
    "    plt.title('Distribution Comparison with KS Test')\n",
    "    plt.xlabel('Value')\n",
    "    plt.ylabel('Density')\n",
    "    plt.xlim(zoom)\n",
    "    \n",
    "    # Print results\n",
    "    print(f\"KS Test Results:\")\n",
    "    print(f\"Statistic: {ks_statistic:.4f}\")\n",
    "    print(f\"P-value: {p_value:.4f}\")\n",
    "    print(f\"\\nDistribution Statistics:\")\n",
    "    print(f\"Baseline - Mean: {baseline_mean:.4f}, Std: {baseline_std:.4f}\")\n",
    "    print(f\"Comparison - Mean: {comparison_mean:.4f}, Std: {comparison_std:.4f}\")\n",
    "    \n",
    "    # Interpret results\n",
    "    print(\"\\nInterpretation:\")\n",
    "    if p_value < alpha:\n",
    "        print(f\"The distributions are significantly different (p < {alpha})\")\n",
    "    else:\n",
    "        print(f\"Cannot reject the null hypothesis that the distributions are the same (p >= {alpha})\")\n",
    "    \n",
    "    return ks_statistic, p_value"
   ]
  },
  {
   "cell_type": "code",
   "execution_count": null,
   "metadata": {},
   "outputs": [],
   "source": [
    "\n",
    "ks_statistic, p_value = analyze_distributions(baseline_ratio, measurement_ratio)\n",
    "ks_statistic, p_value\n"
   ]
  },
  {
   "cell_type": "code",
   "execution_count": 65,
   "metadata": {},
   "outputs": [],
   "source": [
    "def find_optimal_threshold(baseline, comparison):\n",
    "    # Combine and sort all values\n",
    "    all_values = np.sort(np.concatenate([baseline, comparison]))\n",
    "    \n",
    "    best_threshold = None\n",
    "    best_separation = -np.inf\n",
    "    \n",
    "    for threshold in all_values:  # Sample every 10th point for efficiency\n",
    "        # Calculate separation metric\n",
    "        true_positive_rate = np.mean(comparison > threshold)\n",
    "        false_positive_rate = np.mean(baseline > threshold)\n",
    "        \n",
    "        # Use Youden's J statistic\n",
    "        separation = true_positive_rate - false_positive_rate\n",
    "        \n",
    "        if separation > best_separation:\n",
    "            best_separation = separation\n",
    "            best_threshold = threshold\n",
    "    \n",
    "    return best_threshold, best_separation\n",
    "\n",
    "# Visualization of the results\n",
    "def plot_threshold_analysis(baseline, comparison, threshold, zoom=[-1, 2]):\n",
    "    plt.figure(figsize=(12, 6))\n",
    "    \n",
    "    # Plot histograms\n",
    "    plt.hist(baseline, bins=50, alpha=0.5, density=True, label='Baseline', range=zoom)\n",
    "    plt.hist(comparison, bins=50, alpha=0.5, density=True, label='Comparison', range=zoom)\n",
    "    \n",
    "    # Plot threshold line\n",
    "    plt.axvline(x=threshold, color='r', linestyle='--', \n",
    "                label=f'Threshold = {threshold:.3f}')\n",
    "    \n",
    "    # Calculate percentages above threshold\n",
    "    baseline_above = 100 * np.mean(baseline > threshold)\n",
    "    comparison_above = 100 * np.mean(comparison > threshold)\n",
    "    \n",
    "    plt.title(f'Distribution Comparison with Threshold\\n' +\n",
    "              f'Baseline above: {baseline_above:.1f}%, ' +\n",
    "              f'Comparison above: {comparison_above:.1f}%')\n",
    "    plt.legend()\n",
    "    plt.xlabel('Value')\n",
    "    plt.ylabel('Density')\n",
    "    plt.show()"
   ]
  },
  {
   "cell_type": "code",
   "execution_count": 61,
   "metadata": {},
   "outputs": [],
   "source": [
    "non_nan_mask = ~th.isnan(baseline_ratio) & ~th.isnan(measurement_ratio)\n",
    "baseline_ratio = baseline_ratio[non_nan_mask].numpy()\n",
    "measurement_ratio = measurement_ratio[non_nan_mask].numpy()\n"
   ]
  },
  {
   "cell_type": "code",
   "execution_count": null,
   "metadata": {},
   "outputs": [],
   "source": [
    "# Find optimal threshold\n",
    "threshold, separation = find_optimal_threshold(baseline_ratio, measurement_ratio)\n",
    "print(f\"Optimal threshold: {threshold:.3f}\")\n",
    "print(f\"Separation score: {separation:.3f}\")\n",
    "\n",
    "# Visualize results\n",
    "plot_threshold_analysis(baseline_ratio, measurement_ratio, threshold)"
   ]
  },
  {
   "cell_type": "code",
   "execution_count": null,
   "metadata": {},
   "outputs": [],
   "source": [
    "fig = plot_scaler_histograms(betas, \"error\", title=\"Scaler Histogram Analysis for Error\", xpos_legend=0.08, xpos_inset=0.72)\n",
    "fig.add_annotation(\n",
    "    x=-2,\n",
    "    y=100,\n",
    "    ax=-170,\n",
    "    ay=-80,\n",
    "    xref=\"x3\",\n",
    "    yref=\"y3\",\n",
    "    text=\"\",\n",
    "    showarrow=True,\n",
    "    arrowhead=2,\n",
    ")\n",
    "fig.write_image(PLOTS / \"error_ratio.png\")\n",
    "fig.show()"
   ]
  },
  {
   "cell_type": "code",
   "execution_count": null,
   "metadata": {},
   "outputs": [],
   "source": [
    "betas[\"normal\"][\"base\"][\"error\"]"
   ]
  },
  {
   "cell_type": "code",
   "execution_count": null,
   "metadata": {},
   "outputs": [],
   "source": [
    "df[\"lmsys_ctrl_freq\"].hist(bins=100)"
   ]
  },
  {
   "cell_type": "code",
   "execution_count": null,
   "metadata": {},
   "outputs": [],
   "source": []
  },
  {
   "cell_type": "code",
   "execution_count": null,
   "metadata": {},
   "outputs": [],
   "source": [
    "C_0_latents = df[df[\"tag\"] == \"IT only\"]\n",
    "C_0_latents"
   ]
  },
  {
   "cell_type": "code",
   "execution_count": null,
   "metadata": {},
   "outputs": [],
   "source": [
    "C_0_latents.sort_values(by=\"beta_ratio_error\", key=abs).head(20).index\n"
   ]
  },
  {
   "cell_type": "code",
   "execution_count": null,
   "metadata": {},
   "outputs": [],
   "source": [
    "# Sort by absolute beta ratio error and get 20 lowest\n",
    "C_0_latents.sort_values(by=\"beta_ratio_error\", key=abs).head(100)[\"lmsys_ctrl_%\"].hist(bins=50)\n",
    "plt.title(\"Distribution of lmsys_ctrl_% for Latents with Low Beta Ratio Error\")\n",
    "plt.xlabel(\"lmsys_ctrl_%\")\n",
    "plt.ylabel(\"Count\")\n",
    "plt.show()"
   ]
  },
  {
   "cell_type": "code",
   "execution_count": null,
   "metadata": {},
   "outputs": [],
   "source": [
    "# Sort by absolute beta ratio error and get 20 lowest\n",
    "C_0_latents.sort_values(by=\"beta_ratio_error\", key=abs)[\"lmsys_ctrl_%\"].hist(bins=50)\n",
    "plt.title(\"Distribution of lmsys_ctrl_% for Latents with Low Beta Ratio Error\")\n",
    "plt.xlabel(\"lmsys_ctrl_%\")\n",
    "plt.ylabel(\"Count\")\n",
    "plt.show()"
   ]
  },
  {
   "cell_type": "code",
   "execution_count": 56,
   "metadata": {},
   "outputs": [],
   "source": [
    "# Get C_S latents (those with very small beta ratio error)\n",
    "C_S_latents = df[df[\"beta_ratio_error\"].abs() < 0.1]\n",
    "C_S_indices = C_S_latents.index.to_numpy()\n"
   ]
  },
  {
   "cell_type": "code",
   "execution_count": null,
   "metadata": {},
   "outputs": [],
   "source": [
    "# Get ranks of C_1 latents based on dec_norm_diff in full set\n",
    "all_latent_ranks = df.loc[latent_indices, \"dec_norm_diff\"].rank()\n",
    "C_S_ranks = all_latent_ranks[C_S_indices].sort_values()\n",
    "\n",
    "# Calculate fractions\n",
    "total_C_S_latents = len(C_S_indices)\n",
    "fractions = np.arange(1, len(C_S_ranks) + 1) / total_C_S_latents\n",
    "\n",
    "# Create figure\n",
    "fig = go.Figure()\n",
    "\n",
    "# Add scatter plot with step shape\n",
    "fig.add_trace(go.Scatter(\n",
    "    x=C1_ranks,\n",
    "    y=fractions,\n",
    "    mode='lines',\n",
    "    name='Fraction of C_S Latents',\n",
    "    line=dict(shape='hv')  # Use 'hv' for horizontal-vertical steps\n",
    "))\n",
    "\n",
    "# Update layout\n",
    "fig.update_layout(\n",
    "    title=\"Distribution of C_S Latents by Rank\",\n",
    "    xaxis_title=\"Rank in C_0 Latent Set\", \n",
    "    yaxis_title=\"Fraction of C_S Latents\",\n",
    "    width=800,\n",
    "    height=500\n",
    ")\n",
    "fig.show()\n",
    "fig.write_image(plots_dir / \"C_S_latents_rank_distribution.png\")"
   ]
  },
  {
   "cell_type": "code",
   "execution_count": null,
   "metadata": {},
   "outputs": [],
   "source": [
    "# Get C_R latents (those with very small beta ratio reconstruction)\n",
    "C_R_latents = df[df[\"beta_ratio_reconstruction\"].abs() < 0.1]\n",
    "C_R_indices = C_R_latents.index.to_numpy()\n",
    "C_R_indices"
   ]
  },
  {
   "cell_type": "code",
   "execution_count": null,
   "metadata": {},
   "outputs": [],
   "source": [
    "# Get ranks of C_1 latents based on dec_norm_diff in full set\n",
    "all_latent_ranks = df.loc[latent_indices, \"dec_norm_diff\"].rank()\n",
    "C_R_ranks = all_latent_ranks[C_R_indices].sort_values()\n",
    "\n",
    "# Calculate fractions\n",
    "total_C_R_latents = len(C_R_indices)\n",
    "fractions = np.arange(1, len(C_R_ranks) + 1) / total_C_R_latents\n",
    "\n",
    "# Create figure\n",
    "fig = go.Figure()\n",
    "\n",
    "# Add scatter plot with step shape\n",
    "fig.add_trace(go.Scatter(\n",
    "    x=C_R_ranks,\n",
    "    y=fractions,\n",
    "    mode='lines',\n",
    "    name='Fraction of C_R Latents',\n",
    "    line=dict(shape='hv')  # Use 'hv' for horizontal-vertical steps\n",
    "))\n",
    "\n",
    "# Update layout\n",
    "fig.update_layout(\n",
    "    title=\"Distribution of C_R Latents by Rank\",\n",
    "    xaxis_title=\"Rank in C_0 Latent Set\", \n",
    "    yaxis_title=\"Fraction of C_R Latents\",\n",
    "    width=800,\n",
    "    height=500\n",
    ")\n",
    "fig.show()\n",
    "fig.write_image(plots_dir / \"C_R_latents_rank_distribution.png\")"
   ]
  },
  {
   "cell_type": "code",
   "execution_count": null,
   "metadata": {},
   "outputs": [],
   "source": [
    "# Get ranks of C_1 latents based on beta ratio reconstruction in full set\n",
    "all_latent_ranks = df.loc[latent_indices, \"beta_ratio_reconstruction\"].rank()\n",
    "C_S_ranks = all_latent_ranks[C_S_indices].sort_values()\n",
    "\n",
    "# Calculate fractions\n",
    "total_C_S_latents = len(C_S_indices)\n",
    "fractions = np.arange(1, len(C_S_ranks) + 1) / total_C_S_latents\n",
    "\n",
    "# Create figure\n",
    "fig = go.Figure()\n",
    "\n",
    "# Add scatter plot with step shape\n",
    "fig.add_trace(go.Scatter(\n",
    "    x=C1_ranks,\n",
    "    y=fractions,\n",
    "    mode='lines',\n",
    "    name='Fraction of C_S Latents',\n",
    "    line=dict(shape='hv')  # Use 'hv' for horizontal-vertical steps\n",
    "))\n",
    "\n",
    "# Update layout\n",
    "fig.update_layout(\n",
    "    title=\"Distribution of C_S Latents by Beta Ratio Reconstruction Rank\",\n",
    "    xaxis_title=\"Rank in C_0 Latent Set\", \n",
    "    yaxis_title=\"Fraction of C_S Latents\",\n",
    "    width=800,\n",
    "    height=500\n",
    ")\n",
    "fig.show()\n",
    "fig.write_image(plots_dir / \"C_S_latents_beta_ratio_rank_distribution.png\")"
   ]
  },
  {
   "cell_type": "code",
   "execution_count": null,
   "metadata": {},
   "outputs": [],
   "source": [
    "# Plot heatmap between beta_ratio_error and beta_ratio_reconstruction\n",
    "import matplotlib.pyplot as plt\n",
    "from matplotlib.colors import LogNorm\n",
    "\n",
    "# Create figure and axis\n",
    "fig, ax = plt.subplots(figsize=(8, 5))\n",
    "\n",
    "# Create 2D histogram\n",
    "error_ratio = df[\"beta_ratio_error\"]\n",
    "reconstruction_ratio = df[\"beta_ratio_reconstruction\"]\n",
    "nans = np.isnan(error_ratio) | np.isnan(reconstruction_ratio)\n",
    "error_ratio = error_ratio[~nans]\n",
    "reconstruction_ratio = reconstruction_ratio[~nans]\n",
    "\n",
    "h = ax.hist2d(\n",
    "    error_ratio,\n",
    "    reconstruction_ratio,\n",
    "    bins=100,\n",
    "    norm=LogNorm()\n",
    ")\n",
    "\n",
    "# Add colorbar\n",
    "plt.colorbar(h[3], ax=ax)\n",
    "\n",
    "# Update layout\n",
    "ax.set_title(f\"Beta Ratio Error vs Beta Ratio Reconstruction\")\n",
    "ax.set_xlabel(\"Beta Ratio Error\")\n",
    "ax.set_ylabel(\"Beta Ratio Reconstruction\")\n",
    "\n",
    "plt.tight_layout()\n",
    "plt.savefig(PLOTS / \"beta_ratio_error_vs_reconstruction.png\")\n",
    "plt.show()\n"
   ]
  },
  {
   "cell_type": "code",
   "execution_count": null,
   "metadata": {},
   "outputs": [],
   "source": [
    "# Plot heatmap between beta_ratio_error and beta_ratio_reconstruction\n",
    "import matplotlib.pyplot as plt\n",
    "\n",
    "start = 0\n",
    "end = 1\n",
    "size = 0.01\n",
    "bins = int((end - start) / size)\n",
    "\n",
    "# Create figure and axis\n",
    "fig, ax = plt.subplots(figsize=(8, 5))\n",
    "\n",
    "# Create 2D histogram\n",
    "h = ax.hist2d(\n",
    "    df[\"beta_ratio_error\"],\n",
    "    df[\"beta_ratio_reconstruction\"],\n",
    "    bins=bins,\n",
    "    range=[[start, end], [start, end]]\n",
    ")\n",
    "\n",
    "# Add colorbar\n",
    "plt.colorbar(h[3], ax=ax)\n",
    "\n",
    "# Update layout\n",
    "ax.set_title(f\"Beta Ratio Error vs Beta Ratio Reconstruction (zoomed, {start} to {end})\")\n",
    "ax.set_xlabel(\"Beta Ratio Error\")\n",
    "ax.set_ylabel(\"Beta Ratio Reconstruction\")\n",
    "ax.set_xlim(start, end)\n",
    "ax.set_ylim(start, end)\n",
    "\n",
    "plt.tight_layout()\n",
    "plt.savefig(PLOTS / \"beta_ratio_error_vs_reconstruction_zoomed.png\")\n",
    "plt.show()\n"
   ]
  },
  {
   "cell_type": "code",
   "execution_count": null,
   "metadata": {},
   "outputs": [],
   "source": [
    "C_SR_latents = df[(df[\"beta_ratio_error\"].abs() < 0.2) & (df[\"beta_ratio_reconstruction\"].abs() < 0.2)]\n",
    "C_SR_indices = C_SR_latents.index.to_numpy()\n",
    "C_SR_indices\n"
   ]
  },
  {
   "cell_type": "code",
   "execution_count": 9,
   "metadata": {},
   "outputs": [],
   "source": [
    "test_indices = [69810, 15338, 21760, 38337, 51823, 55432,57717,68066, 51408]\n",
    "test_names = [\"Code\", \"Code\", \"Model Refuses, User Persists\", \"Story, Scene or Poem\", \"Questions?\", \"Discuss, Explain, Describe\", \"up-to-date information\", \"model's capabilities\", \"Global Sensitivity\"]"
   ]
  },
  {
   "cell_type": "code",
   "execution_count": null,
   "metadata": {},
   "outputs": [],
   "source": [
    "# Plot beta ratio error and reconstruction for test indices\n",
    "fig = go.Figure()\n",
    "\n",
    "# Add scatter points for test indices\n",
    "fig.add_trace(go.Scatter(\n",
    "    x=df.loc[test_indices, \"beta_ratio_error\"],\n",
    "    y=df.loc[test_indices, \"beta_ratio_reconstruction\"],\n",
    "    mode='markers+text',\n",
    "    marker=dict(\n",
    "        size=10,\n",
    "        color='red',\n",
    "        symbol='x'\n",
    "    ),\n",
    "    text=[f'{i}' for i in test_names],\n",
    "    textposition='top center',\n",
    "    name='Test Points'\n",
    "))\n",
    "\n",
    "# Update layout\n",
    "fig.update_layout(\n",
    "    title=\"Beta Ratio Error vs Beta Ratio Reconstruction (Test Points)\",\n",
    "    xaxis_title=\"Beta Ratio Error\",\n",
    "    yaxis_title=\"Beta Ratio Reconstruction\", \n",
    "    width=800,\n",
    "    height=500\n",
    ")\n",
    "\n",
    "fig.show()\n",
    "fig.write_image(PLOTS / \"beta_ratio_error_vs_reconstruction_test_points.png\")"
   ]
  },
  {
   "cell_type": "code",
   "execution_count": null,
   "metadata": {},
   "outputs": [],
   "source": [
    "\n",
    "# Plot beta ratio error and reconstruction for test indices\n",
    "fig = go.Figure()\n",
    "\n",
    "# Add scatter points for test indices\n",
    "fig.add_trace(go.Scatter(\n",
    "    x=df.loc[test_indices, \"beta_base_error\"],\n",
    "    y=df.loc[test_indices, \"beta_chat_error\"],\n",
    "    mode='markers+text',\n",
    "    marker=dict(\n",
    "        size=10,\n",
    "        color='red',\n",
    "        symbol='x'\n",
    "    ),\n",
    "    text=[f'{i}' for i in test_names],\n",
    "    textposition='top center',\n",
    "    name='Test Points'\n",
    "))\n",
    "\n",
    "# Update layout\n",
    "fig.update_layout(\n",
    "    title=\"Beta Base Error vs Beta Chat Error (Test Points)\",\n",
    "    xaxis_title=\"Beta Base Error\",\n",
    "    yaxis_title=\"Beta Chat Error\", \n",
    "    width=800,\n",
    "    height=500\n",
    ")\n",
    "\n",
    "fig.show()\n",
    "fig.write_image(plots_dir / \"beta_base_error_vs_chat_error_test_points.png\")"
   ]
  },
  {
   "cell_type": "code",
   "execution_count": null,
   "metadata": {},
   "outputs": [],
   "source": [
    "\n",
    "# Plot beta ratio error and reconstruction for test indices\n",
    "fig = go.Figure()\n",
    "\n",
    "# Add scatter points for test indices\n",
    "fig.add_trace(go.Scatter(\n",
    "    x=df.loc[test_indices, \"beta_base_error\"],\n",
    "    y=df.loc[test_indices, \"beta_base_reconstruction\"],\n",
    "    mode='markers+text',\n",
    "    marker=dict(\n",
    "        size=10,\n",
    "        color='red',\n",
    "        symbol='x'\n",
    "    ),\n",
    "    text=[f'{i}' for i in test_names],\n",
    "    textposition='top center',\n",
    "    name='Test Points'\n",
    "))\n",
    "\n",
    "# Update layout\n",
    "fig.update_layout(\n",
    "    title=\"Beta Base Error vs Beta Base Reconstruction (Test Points)\",\n",
    "    xaxis_title=\"Beta Base Error\",\n",
    "    yaxis_title=\"Beta Base Reconstruction\", \n",
    "    width=800,\n",
    "    height=500\n",
    ")\n",
    "\n",
    "# Set axis ranges to -1 to 1\n",
    "start = -2\n",
    "fig.update_xaxes(range=[-1, 1])\n",
    "fig.update_yaxes(range=[0, 4])\n",
    "\n",
    "\n",
    "fig.show()\n",
    "fig.write_image(plots_dir / \"beta_base_error_vs_base_reconstruction_test_points.png\")"
   ]
  },
  {
   "cell_type": "markdown",
   "metadata": {},
   "source": [
    "#### High Scalers Investigation"
   ]
  },
  {
   "cell_type": "code",
   "execution_count": null,
   "metadata": {},
   "outputs": [],
   "source": [
    "df"
   ]
  },
  {
   "cell_type": "code",
   "execution_count": null,
   "metadata": {},
   "outputs": [],
   "source": [
    "error_base = betas[\"normal\"][\"base\"][\"error\"].cpu().numpy()\n",
    "it_norm = df[\"dec_instruct_norm\"].iloc[latent_indices].to_numpy()\n",
    "\n",
    "fig = go.Figure()\n",
    "# Calculate outliers using IQR method\n",
    "x_q1, x_q3 = np.percentile(error_base, [25, 75])\n",
    "y_q1, y_q3 = np.percentile(it_norm, [25, 75])\n",
    "x_iqr = x_q3 - x_q1\n",
    "y_iqr = y_q3 - y_q1\n",
    "x_outliers = (error_base < (x_q1 - 1.5 * x_iqr)) | (error_base > (x_q3 + 1.5 * x_iqr))\n",
    "y_outliers = (it_norm < (y_q1 - 1.5 * y_iqr)) | (it_norm > (y_q3 + 1.5 * y_iqr))\n",
    "outliers = x_outliers | y_outliers\n",
    "\n",
    "# Add scatter points for outliers only\n",
    "fig.add_trace(go.Scatter(\n",
    "    x=error_base[outliers],\n",
    "    y=it_norm[outliers], \n",
    "    mode='markers',\n",
    "    showlegend=False,\n",
    "    marker=dict(\n",
    "        symbol='x',\n",
    "        opacity=0.7,\n",
    "        color='white',\n",
    "        size=8,\n",
    "        line=dict(width=1),\n",
    "    )\n",
    "))\n",
    "\n",
    "# Add 2D histogram\n",
    "fig.add_trace(go.Histogram2d(\n",
    "    x=error_base,\n",
    "    y=it_norm,\n",
    "))\n",
    "\n",
    "# Update layout\n",
    "fig.update_layout(\n",
    "    title=\"2D Histogram of Base Error vs IT Norm<br><sub>Outliers (>1.5 IQR) shown as x</sub>\",\n",
    "    xaxis_title=\"Base Error\",\n",
    "    yaxis_title=\"IT Norm\", \n",
    "    xaxis=dict(ticks='', showgrid=False, zeroline=False),\n",
    "    yaxis=dict(ticks='', showgrid=False, zeroline=False),\n",
    "    width=800,\n",
    "    height=600,\n",
    "    hovermode='closest'\n",
    ")\n",
    "\n",
    "fig.show()\n",
    "fig.write_image(plots_dir / \"C_S_latents_base_error_vs_it_norm.png\")"
   ]
  },
  {
   "cell_type": "markdown",
   "metadata": {},
   "source": [
    "### Qualitative Analysis\n",
    "\n",
    "Use dashboard to get interpretability information"
   ]
  },
  {
   "cell_type": "code",
   "execution_count": 93,
   "metadata": {},
   "outputs": [],
   "source": [
    "interpretability_information = {}"
   ]
  },
  {
   "cell_type": "markdown",
   "metadata": {},
   "source": [
    "### Stats"
   ]
  },
  {
   "cell_type": "code",
   "execution_count": 96,
   "metadata": {},
   "outputs": [],
   "source": [
    "from tools.utils import CCLatent"
   ]
  },
  {
   "cell_type": "code",
   "execution_count": null,
   "metadata": {},
   "outputs": [],
   "source": [
    "stats_error = th.load(\"/workspace/data/results/closed_form_scalars/Butanium_gemma-2-2b-crosscoder-l13-mu4.1e-02-lr1e-04/stats_base_error_.pt\")\n",
    "stats_reconstruction = th.load(\"/workspace/data/results/closed_form_scalars/Butanium_gemma-2-2b-crosscoder-l13-mu4.1e-02-lr1e-04/stats_base_reconstruction_.pt\")"
   ]
  },
  {
   "cell_type": "code",
   "execution_count": null,
   "metadata": {},
   "outputs": [],
   "source": [
    "stats_error = th.load(\"/workspace/data/results/closed_form_scalars/Butanium_gemma-2-2b-crosscoder-l13-mu4.1e-02-lr1e-04/stats_base_error_.pt\")\n",
    "stats_reconstruction = th.load(\"/workspace/data/results/closed_form_scalars/Butanium_gemma-2-2b-crosscoder-l13-mu4.1e-02-lr1e-04/stats_base_reconstruction_.pt\")"
   ]
  },
  {
   "cell_type": "code",
   "execution_count": null,
   "metadata": {},
   "outputs": [],
   "source": [
    "stats_error[\"mse\"], stats_error[\"mse_before\"]"
   ]
  },
  {
   "cell_type": "code",
   "execution_count": null,
   "metadata": {},
   "outputs": [],
   "source": [
    "\n",
    "plt.figure(figsize=(10,5))\n",
    "plt.hist(stats_error[\"mse\"][-1, :], bins=100)\n",
    "plt.title(\"MSE Buckets for Error\")\n",
    "plt.xlabel(\"MSE\")\n",
    "plt.ylabel(\"Count\")\n",
    "plt.show()\n"
   ]
  },
  {
   "cell_type": "code",
   "execution_count": null,
   "metadata": {},
   "outputs": [],
   "source": [
    "SAME_Y = True\n",
    "mse_buckets = stats_error[\"mse_buckets\"]\n",
    "mse_buckets_before = stats_error[\"mse_before_buckets\"]\n",
    "perc_improvement = (mse_buckets - mse_buckets_before) / mse_buckets_before \n",
    "\n",
    "# Create histogram of differences between MSE buckets\n",
    "plt.figure(figsize=(15, 5))\n",
    "plt.suptitle(\"MSE Percentage Improvement by Activation Bucket\")\n",
    "\n",
    "# Get max count across all buckets for consistent y-axis\n",
    "max_count = 0\n",
    "for i in range(4):\n",
    "    counts, _ = np.histogram(perc_improvement[i][~np.isnan(perc_improvement[i])], bins=100)\n",
    "    max_count = max(max_count, counts.max())\n",
    "\n",
    "bucket_labels = [\"0-5%\", \"5-33%\", \"33-66%\", \"66-100%\"]\n",
    "for i in range(4):\n",
    "    plt.subplot(1, 4, i+1)\n",
    "    plt.hist(perc_improvement[i][~np.isnan(perc_improvement[i])], bins=100)\n",
    "    plt.title(f\"Bucket {bucket_labels[i]}\")\n",
    "    plt.xlabel(\"Percentage Improvement\")\n",
    "    plt.ylabel(\"Count\")\n",
    "    if SAME_Y:\n",
    "        plt.ylim(0, max_count*1.1)\n",
    "\n",
    "plt.tight_layout()\n",
    "plt.show()\n"
   ]
  },
  {
   "cell_type": "code",
   "execution_count": null,
   "metadata": {},
   "outputs": [],
   "source": [
    "import numpy as np\n",
    "max_idx = np.nanargmax(perc_improvement[-1])\n",
    "max_idx"
   ]
  },
  {
   "cell_type": "code",
   "execution_count": null,
   "metadata": {},
   "outputs": [],
   "source": [
    "from tools.utils import offline_dashboard\n",
    "offline_dashboard().display()"
   ]
  },
  {
   "cell_type": "code",
   "execution_count": null,
   "metadata": {},
   "outputs": [],
   "source": [
    "CCLatent(latent_indices[max_idx]).stats"
   ]
  },
  {
   "cell_type": "code",
   "execution_count": null,
   "metadata": {},
   "outputs": [],
   "source": [
    "for k in k:\n",
    "    if \"max\" in k:\n",
    "        print(k)\n",
    "        print(CCLatent(latent_indices[max_idx]).stats[k])"
   ]
  },
  {
   "cell_type": "code",
   "execution_count": null,
   "metadata": {},
   "outputs": [],
   "source": [
    "SAME_Y = True\n",
    "mse_buckets = stats_error[\"mse_buckets\"]\n",
    "mse_buckets_before = stats_error[\"mse_before_buckets\"]\n",
    "perc_improvement = (mse_buckets - mse_buckets_before) / mse_buckets_before \n",
    "\n",
    "# Create histogram of differences between MSE buckets\n",
    "plt.figure(figsize=(15, 5))\n",
    "plt.suptitle(\"MSE Percentage Improvement by Activation Bucket (only negative values)\")\n",
    "\n",
    "# Calculate and print percentage of negative improvements per bucket\n",
    "print(\"Percentage of features with negative improvement per bucket:\")\n",
    "for i, label in enumerate(bucket_labels):\n",
    "    total_values = perc_improvement[i].shape[0]\n",
    "    nan_count = np.isnan(perc_improvement[i]).sum()\n",
    "    neg_values = perc_improvement[i][(~np.isnan(perc_improvement[i])) & (perc_improvement[i] < 0)]\n",
    "    pct_negative = (len(neg_values) / total_values) * 100\n",
    "    print(f\"{label}: \")\n",
    "    print(f\"\\t Nan: {nan_count/total_values*100:.2f}%\")\n",
    "    print(f\"\\t Negative: {pct_negative:.2f}%\")\n",
    "print()\n",
    "\n",
    "\n",
    "# Get max count across all buckets for consistent y-axis\n",
    "max_count = 0\n",
    "for i in range(4):\n",
    "    neg_values = perc_improvement[i][(~np.isnan(perc_improvement[i])) & (perc_improvement[i] < 0)]\n",
    "    counts, _ = np.histogram(neg_values, bins=100)\n",
    "    max_count = max(max_count, counts.max())\n",
    "\n",
    "bucket_labels = [\"0-5%\", \"5-33%\", \"33-66%\", \"66-100%\"]\n",
    "for i in range(4):\n",
    "    plt.subplot(1, 4, i+1)\n",
    "    neg_values = perc_improvement[i][(~np.isnan(perc_improvement[i])) & (perc_improvement[i] < 0)]\n",
    "    plt.hist(neg_values, bins=100)\n",
    "    plt.title(f\"Bucket {bucket_labels[i]}\")\n",
    "    plt.xlabel(\"Percentage Improvement\")\n",
    "    plt.ylabel(\"Count\")\n",
    "    if SAME_Y:\n",
    "        plt.ylim(0, max_count*1.1)\n",
    "\n",
    "plt.tight_layout()\n",
    "plt.show()\n"
   ]
  },
  {
   "cell_type": "code",
   "execution_count": null,
   "metadata": {},
   "outputs": [],
   "source": [
    "SAME_Y = True\n",
    "mse_buckets = stats_error[\"mse_buckets\"]\n",
    "mse_buckets_before = stats_error[\"mse_before_buckets\"]\n",
    "perc_improvement = (mse_buckets - mse_buckets_before) / mse_buckets_before \n",
    "\n",
    "# Create histogram of differences between MSE buckets\n",
    "plt.figure(figsize=(15, 5))\n",
    "plt.suptitle(\"MSE Percentage Improvement by Activation Bucket (only negative values)\")\n",
    "\n",
    "# Calculate and print percentage of negative improvements per bucket\n",
    "print(\"Percentage of features with negative improvement per bucket:\")\n",
    "for i, label in enumerate(bucket_labels):\n",
    "    total_values = perc_improvement[i].shape[0]\n",
    "    nan_count = np.isnan(perc_improvement[i]).sum()\n",
    "    neg_values = perc_improvement[i][(~np.isnan(perc_improvement[i])) & (perc_improvement[i] < 0)]\n",
    "    pct_negative = (len(neg_values) / total_values) * 100\n",
    "    print(f\"{label}: \")\n",
    "    print(f\"\\t Nan: {nan_count/total_values*100:.2f}%\")\n",
    "    print(f\"\\t Negative: {pct_negative:.2f}%\")\n",
    "print()\n",
    "\n",
    "\n",
    "# Get max count across all buckets for consistent y-axis\n",
    "max_count = 0\n",
    "for i in range(4):\n",
    "    neg_values = perc_improvement[i][(~np.isnan(perc_improvement[i])) & (perc_improvement[i] < 0)]\n",
    "    counts, _ = np.histogram(neg_values, bins=100)\n",
    "    max_count = max(max_count, counts.max())\n",
    "\n",
    "bucket_labels = [\"0-5%\", \"5-33%\", \"33-66%\", \"66-100%\"]\n",
    "for i in range(4):\n",
    "    plt.subplot(1, 4, i+1)\n",
    "    neg_values = perc_improvement[i][(~np.isnan(perc_improvement[i])) & (perc_improvement[i] < 0)]\n",
    "    plt.hist(neg_values, bins=100)\n",
    "    plt.title(f\"Bucket {bucket_labels[i]}\")\n",
    "    plt.xlabel(\"Percentage Improvement\")\n",
    "    plt.ylabel(\"Count\")\n",
    "    if SAME_Y:\n",
    "        plt.ylim(0, max_count*1.1)\n",
    "\n",
    "plt.tight_layout()\n",
    "plt.show()\n"
   ]
  },
  {
   "cell_type": "code",
   "execution_count": null,
   "metadata": {},
   "outputs": [],
   "source": [
    "mse_buckets = stats[\"mse_buckets\"]\n",
    "mse_buckets_before = stats[\"mse_before_buckets\"]\n",
    "perc_improvement = (mse_buckets - mse_buckets_before) / mse_buckets_before \n",
    "\n",
    "# Create histogram of differences between MSE buckets\n",
    "plt.figure(figsize=(10, 5))\n",
    "plt.suptitle(\"MSE Percentage Improvement by Activation Bucket\")\n",
    "\n",
    "# Get max count across all buckets for consistent y-axis\n",
    "max_count = 0\n",
    "for i in range(4):\n",
    "    counts, _ = np.histogram(perc_improvement[i][~np.isnan(perc_improvement[i])], bins=100, range=(-10, 10))\n",
    "    max_count = max(max_count, counts.max())\n",
    "\n",
    "bucket_labels = [\"0-5%\", \"5-33%\", \"33-66%\", \"66-100%\"]\n",
    "for i in range(4):\n",
    "    plt.subplot(1, 4, i+1)\n",
    "    plt.hist(perc_improvement[i][~np.isnan(perc_improvement[i])], bins=100)\n",
    "    plt.title(f\"Bucket {bucket_labels[i]}\")\n",
    "    plt.xlabel(\"Percentage Improvement\")\n",
    "    plt.ylabel(\"Count\")\n",
    "    # plt.ylim(0, max_count)\n",
    "\n",
    "plt.tight_layout()\n",
    "plt.show()\n"
   ]
  },
  {
   "cell_type": "code",
   "execution_count": null,
   "metadata": {},
   "outputs": [],
   "source": [
    "perc_improvement[~np.isnan(perc_improvement)].min()"
   ]
  },
  {
   "cell_type": "code",
   "execution_count": null,
   "metadata": {},
   "outputs": [],
   "source": [
    "# Count number of negative percentage improvements per bucket\n",
    "neg_improvements = (perc_improvement < 0).sum(axis=1)\n",
    "print(\"Number of negative percentage improvements per bucket:\")\n",
    "for i in range(3):\n",
    "    print(f\"Bucket {i}: {neg_improvements[i]}\")\n",
    "    print(f\" Min: {perc_improvement[i][perc_improvement[i] < 0].min()}\")\n",
    "    print(f\" Max: {perc_improvement[i][perc_improvement[i] < 0].max()}\")\n"
   ]
  },
  {
   "cell_type": "markdown",
   "metadata": {},
   "source": [
    "## Connor CrossCoder"
   ]
  },
  {
   "cell_type": "code",
   "execution_count": null,
   "metadata": {},
   "outputs": [],
   "source": [
    "name = \"ckkissane_crosscoder-gemma-2-2b-model-diff\"\n",
    "\n",
    "all_results = results_dir / name\n",
    "\n",
    "plots_dir = Path(\"/workspace/data/plots/closed_form_scalars/\") / name\n",
    "plots_dir.mkdir(parents=True, exist_ok=True)\n",
    "\n",
    "latent_indices_path = Path(\"/workspace/data/connor_chat_only_latent_indices.pt\")\n",
    "latent_indices = th.load(latent_indices_path)\n",
    "\n",
    "not_dead_mask = th.ones(len(latent_indices), dtype=bool)\n",
    "\n",
    "latent_indices = latent_indices[not_dead_mask]\n",
    "betas = load_results(all_results, configs, not_dead_mask, \"betas_\")\n",
    "count_active = load_results(all_results, configs, not_dead_mask, \"count_active_\")\n",
    "\n",
    "error_base = betas[\"normal\"][\"base\"][\"error\"].cpu().numpy()\n",
    "error_chat = betas[\"normal\"][\"it\"][\"error\"].cpu().numpy()\n",
    "\n",
    "plt.figure(figsize=(10,5))\n",
    "\n",
    "plt.subplot(1,2,1)\n",
    "plt.hist(error_base/error_chat, bins=100)\n",
    "plt.title(\"Base Model Error / Chat Model Error\")\n",
    "plt.xlabel(\"Error Value\")\n",
    "plt.ylabel(\"Count\")\n"
   ]
  },
  {
   "cell_type": "code",
   "execution_count": null,
   "metadata": {},
   "outputs": [],
   "source": [
    "fig = plot_scaler_histograms(betas, \"error\", title=\"Scaler Histogram Analysis for Error\", xpos_legend=0.02, xpos_inset=0.72)\n",
    "fig.add_annotation(\n",
    "    x=-1.5,\n",
    "    y=10,\n",
    "    ax=-170,\n",
    "    ay=-30,\n",
    "    xref=\"x3\",\n",
    "    yref=\"y3\",\n",
    "    text=\"\",\n",
    "    showarrow=True,\n",
    "    arrowhead=2,\n",
    ")\n",
    "fig.write_image(plots_dir / \"error_scaler_histogram.png\", scale=2)\n",
    "fig.show()"
   ]
  },
  {
   "cell_type": "code",
   "execution_count": null,
   "metadata": {},
   "outputs": [],
   "source": [
    "fig = plot_scaler_histograms(betas, \"reconstruction\", title=\"Scaler Histogram Analysis for Reconstruction\", xpos_legend=0.08, xpos_inset=0.85)\n",
    "fig.add_annotation(\n",
    "    x=3,\n",
    "    y=5,\n",
    "    ax=190,\n",
    "    ay=-30,\n",
    "    xref=\"x3\",\n",
    "    yref=\"y3\",\n",
    "    text=\"\",\n",
    "    showarrow=True,\n",
    "    arrowhead=2,\n",
    ")\n",
    "fig.write_image(plots_dir / \"reconstruction_scaler_histogram.png\", scale=2)\n",
    "fig.show()"
   ]
  },
  {
   "cell_type": "markdown",
   "metadata": {},
   "source": [
    "### Compare to SGD trained scalers"
   ]
  },
  {
   "cell_type": "code",
   "execution_count": 16,
   "metadata": {},
   "outputs": [],
   "source": [
    "from matplotlib.colors import LogNorm"
   ]
  },
  {
   "cell_type": "code",
   "execution_count": null,
   "metadata": {},
   "outputs": [],
   "source": [
    "joint_base_uselessness_score = df[\"base uselessness score\"].iloc[latent_indices]\n",
    "joint_scalers = np.exp(-joint_base_uselessness_score.to_numpy() + 1e-10)\n",
    "joint_scalers.shape"
   ]
  },
  {
   "cell_type": "code",
   "execution_count": 13,
   "metadata": {},
   "outputs": [],
   "source": [
    "betas_error = betas[\"normal\"][\"base\"][\"error\"].cpu().numpy()"
   ]
  },
  {
   "cell_type": "code",
   "execution_count": null,
   "metadata": {},
   "outputs": [],
   "source": [
    "trained_scalers = th.load(\"/workspace/data/checkpoints/feature_scaler/L13-mu0.0e+00-lr1e-03-s42-Individual-alllatents/model_final.pt\")[\"scaler\"]"
   ]
  },
  {
   "cell_type": "code",
   "execution_count": null,
   "metadata": {},
   "outputs": [],
   "source": [
    "# Create 2D histogram of trained scalers vs error base, filtering outliers\n",
    "plt.figure(figsize=(10,5))\n",
    "\n",
    "# Get data and remove outliers\n",
    "x_data = joint_scalers \n",
    "y_data = betas_error\n",
    "\n",
    "nan_mask = ~np.isnan(x_data) & ~np.isnan(y_data)\n",
    "x_data = x_data[nan_mask]\n",
    "y_data = y_data[nan_mask]\n",
    "\n",
    "plt.hist2d(x_data, y_data,\n",
    "           bins=50, norm=LogNorm(), cmap='viridis')\n",
    "plt.colorbar(label='Count (log scale)')\n",
    "plt.xlabel('Trained Scaler Value')\n",
    "plt.ylabel('Error Base Value')\n",
    "\n",
    "plt.title('2D Histogram: (Jointly) Trained Scalers vs Error Base\\n(Dead Features Removed)')\n",
    "plt.show()"
   ]
  },
  {
   "cell_type": "code",
   "execution_count": null,
   "metadata": {},
   "outputs": [],
   "source": [
    "# Create 2D histograms of joint scalers vs error base, with different zoom levels\n",
    "fig, (ax1, ax2) = plt.subplots(1, 2, figsize=(15,5))\n",
    "\n",
    "norm = LogNorm()\n",
    "# Get data\n",
    "x_data = joint_trained_scalers\n",
    "y_data = error_base\n",
    "\n",
    "# Calculate percentile thresholds for both axes for left plot\n",
    "x_low, x_high = np.percentile(x_data, [1, 99])\n",
    "y_low, y_high = np.percentile(y_data, [1, 99])\n",
    "\n",
    "# Create mask for non-outlier data points\n",
    "mask = (x_data >= x_low) & (x_data <= x_high) & (y_data >= y_low) & (y_data <= y_high)\n",
    "\n",
    "# Left plot with percentile filtering\n",
    "h1 = ax1.hist2d(x_data[mask], y_data[mask], bins=50, norm=norm, cmap='viridis')\n",
    "fig.colorbar(h1[3], ax=ax1, label='Count (log scale)')\n",
    "ax1.set_xlabel('Joint Trained Scaler Value')\n",
    "ax1.set_ylabel('Error Base Value')\n",
    "ax1.set_title('1-99 Percentile Filtered')\n",
    "\n",
    "# Right plot zoomed in on error_base between -1 and 2\n",
    "h2 = ax2.hist2d(x_data, y_data, bins=50, norm=norm, cmap='viridis',\n",
    "                range=[[np.min(x_data), np.max(x_data)], [-1, 2]])\n",
    "fig.colorbar(h2[3], ax=ax2, label='Count (log scale)')\n",
    "ax2.set_xlabel('Joint Trained Scaler Value')\n",
    "ax2.set_ylabel('Error Base Value')\n",
    "ax2.set_title('Zoomed to Error Base [-1, 2]')\n",
    "\n",
    "plt.suptitle('2D Histograms: Joint Trained Scalers vs Error Base')\n",
    "plt.tight_layout()\n",
    "plt.show()"
   ]
  }
 ],
 "metadata": {
  "kernelspec": {
   "display_name": "default",
   "language": "python",
   "name": "python3"
  },
  "language_info": {
   "codemirror_mode": {
    "name": "ipython",
    "version": 3
   },
   "file_extension": ".py",
   "mimetype": "text/x-python",
   "name": "python",
   "nbconvert_exporter": "python",
   "pygments_lexer": "ipython3",
   "version": "3.11.11"
  }
 },
 "nbformat": 4,
 "nbformat_minor": 2
}
