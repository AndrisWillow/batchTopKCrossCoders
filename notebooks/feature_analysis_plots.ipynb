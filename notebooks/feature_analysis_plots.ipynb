{
 "cells": [
  {
   "cell_type": "code",
   "execution_count": null,
   "metadata": {},
   "outputs": [],
   "source": [
    "! pip install -U kaleido && pip install git+https://github.com/jkminder/pycolors.git && pip install -e .../dictionary_learning"
   ]
  },
  {
   "cell_type": "code",
   "execution_count": 1,
   "metadata": {},
   "outputs": [],
   "source": [
    "%load_ext autoreload\n",
    "%autoreload 2\n",
    "import sys\n",
    "\n",
    "sys.path.append(\"../\")\n",
    "from transformers import AutoModelForCausalLM, AutoTokenizer\n",
    "from dictionary_learning.cache import ActivationCache\n",
    "from dictionary_learning.dictionary import CrossCoder\n",
    "from datasets import load_from_disk, load_dataset\n",
    "from loguru import logger\n",
    "import torch as th\n",
    "from nnsight import LanguageModel\n",
    "from pathlib import Path\n",
    "from pycolors import TailwindColorPalette\n",
    "import os\n",
    "from tools.feature_analysis import plot_feature_freq, plot_feature_diff\n",
    "from pathlib import Path\n",
    "from dlabutils import model_path"
   ]
  },
  {
   "cell_type": "code",
   "execution_count": null,
   "metadata": {},
   "outputs": [],
   "source": [
    "cc_name = \"l13-mu4.1e-02-lr1e-04\"\n",
    "stats_path = Path(\"../stats/\")\n",
    "save_dir = Path(f\"../plots/\") / model_name\n",
    "base_dir = Path(f\"../results/eval_crosscoder/{cc_name}_ae_final/data\")\n",
    "\n",
    "os.makedirs(save_dir, exist_ok=True)\n",
    "\n",
    "stats_fineweb = th.load(stats_path / model_name / \"fineweb.pt\").to(\"cpu\")\n",
    "stats_lmsys = th.load(stats_path / model_name / \"lmsys.pt\").to(\"cpu\")"
   ]
  },
  {
   "cell_type": "code",
   "execution_count": null,
   "metadata": {},
   "outputs": [],
   "source": [
    "for rescaled in [True, False]:\n",
    "    for split in [\"joint\", \"instruction\", \"base\"]:\n",
    "        plot_feature_freq(\n",
    "            save_dir,\n",
    "            stats_fineweb,\n",
    "            stats_lmsys,\n",
    "            group_name=\"base\",\n",
    "            split=split,\n",
    "            rescaled=True,\n",
    "            topk=200,\n",
    "            indices_path=base_dir,\n",
    "            save=True,\n",
    "        )\n",
    "        plot_feature_freq(\n",
    "            save_dir,\n",
    "            stats_fineweb,\n",
    "            stats_lmsys,\n",
    "            group_name=\"instruction\",\n",
    "            split=split,\n",
    "            rescaled=True,\n",
    "            topk=200,\n",
    "            indices_path=base_dir,\n",
    "            save=True,\n",
    "        )\n",
    "        plot_feature_freq(\n",
    "            save_dir,\n",
    "            stats_fineweb,\n",
    "            stats_lmsys,\n",
    "            group_name=\"shared\",\n",
    "            split=split,\n",
    "            rescaled=True,\n",
    "            topk=200,\n",
    "            indices_path=base_dir,\n",
    "            save=True,\n",
    "        )\n",
    "        plot_feature_freq(\n",
    "            save_dir,\n",
    "            stats_fineweb,\n",
    "            stats_lmsys,\n",
    "            group_name=None,\n",
    "            split=split,\n",
    "            rescaled=True,\n",
    "            topk=200,\n",
    "            indices_path=base_dir,\n",
    "            save=True,\n",
    "        )"
   ]
  },
  {
   "cell_type": "code",
   "execution_count": null,
   "metadata": {},
   "outputs": [],
   "source": [
    "for rescaled in [True, False]:\n",
    "    for group in [\"base\", \"instruction\", \"shared\", None]:\n",
    "        plot_feature_diff(\n",
    "            save_dir,\n",
    "            stats_fineweb,\n",
    "            stats_lmsys,\n",
    "            group_name=group,\n",
    "            rescaled=rescaled,\n",
    "            indices_path=base_dir,\n",
    "            save=True,\n",
    "        )"
   ]
  },
  {
   "cell_type": "code",
   "execution_count": null,
   "metadata": {},
   "outputs": [],
   "source": []
  }
 ],
 "metadata": {
  "kernelspec": {
   "display_name": "default",
   "language": "python",
   "name": "python3"
  },
  "language_info": {
   "codemirror_mode": {
    "name": "ipython",
    "version": 3
   },
   "file_extension": ".py",
   "mimetype": "text/x-python",
   "name": "python",
   "nbconvert_exporter": "python",
   "pygments_lexer": "ipython3",
   "version": "3.11.9"
  }
 },
 "nbformat": 4,
 "nbformat_minor": 2
}
