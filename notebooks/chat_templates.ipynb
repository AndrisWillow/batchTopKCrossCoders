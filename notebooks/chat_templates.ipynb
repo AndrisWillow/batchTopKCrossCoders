{
 "cells": [
  {
   "cell_type": "code",
   "execution_count": 3,
   "metadata": {},
   "outputs": [
    {
     "name": "stdout",
     "output_type": "stream",
     "text": [
      "The autoreload extension is already loaded. To reload it, use:\n",
      "  %reload_ext autoreload\n"
     ]
    }
   ],
   "source": [
    "import sys\n",
    "\n",
    "sys.path.append(\"..\")\n",
    "%load_ext autoreload\n",
    "%autoreload 2\n",
    "from nnterp import load_model\n",
    "from utils import chat_template, compute_cross_entropy\n",
    "import torch as th\n",
    "import plotly.graph_objects as go\n",
    "import plotly.subplots as sp\n",
    "import pandas as pd\n",
    "import numpy as np\n",
    "\n",
    "\n",
    "th.set_grad_enabled(False)\n",
    "base_device = \"cuda:0\"\n",
    "chat_device = f\"cuda:{th.cuda.device_count()-1}\"\n",
    "base_model = load_model(\"google/gemma-2-2b\", device_map=base_device)\n",
    "chat_model = load_model(\n",
    "    \"google/gemma-2-2b-it\",\n",
    "    tokenizer_kwargs={\"chat_template\": chat_template, \"padding_side\": \"right\"},\n",
    "    device_map=chat_device,\n",
    ")\n",
    "chat_tokenizer = chat_model.tokenizer"
   ]
  },
  {
   "cell_type": "code",
   "execution_count": 4,
   "metadata": {},
   "outputs": [
    {
     "name": "stdout",
     "output_type": "stream",
     "text": [
      "['<bos>', '<start_of_turn>', 'user', '\\n', 'Hello', ',', '▁how', '▁are', '▁you', '?', '<end_of_turn>', '\\n', '<start_of_turn>', 'model', '\\n', 'I', \"'\", 'm', '▁fine', ',', '▁thank', '▁you', '!', '<end_of_turn>', '\\n', '<start_of_turn>', 'user', '\\n', 'What', '▁is', '▁your', '▁name', '?', '<end_of_turn>', '\\n', '<start_of_turn>', 'model', '\\n', 'My', '▁name', '▁is', '▁Gemma', '.', '<end_of_turn>', '\\n']\n"
     ]
    }
   ],
   "source": [
    "sample_chat = [\n",
    "    {\"role\": \"user\", \"content\": \"Hello, how are you?\"},\n",
    "    {\"role\": \"assistant\", \"content\": \"I'm fine, thank you!\"},\n",
    "    {\"role\": \"user\", \"content\": \"What is your name?\"},\n",
    "    {\"role\": \"assistant\", \"content\": \"My name is Gemma.\"},\n",
    "]\n",
    "toks = chat_tokenizer.apply_chat_template(sample_chat, tokenize=True)\n",
    "print(chat_tokenizer.convert_ids_to_tokens(toks))"
   ]
  },
  {
   "cell_type": "code",
   "execution_count": 3,
   "metadata": {},
   "outputs": [
    {
     "data": {
      "text/plain": [
       "['user']"
      ]
     },
     "execution_count": 3,
     "metadata": {},
     "output_type": "execute_result"
    }
   ],
   "source": [
    "chat_model.tokenizer.tokenize(\"user\")"
   ]
  },
  {
   "cell_type": "code",
   "execution_count": 4,
   "metadata": {},
   "outputs": [
    {
     "data": {
      "text/plain": [
       "['<>',\n",
       " '<b>',\n",
       " '<blockquote>',\n",
       " '<caption>',\n",
       " '<code>',\n",
       " '<em>',\n",
       " '<h1>',\n",
       " '<h2>',\n",
       " '<h3>',\n",
       " '<h4>',\n",
       " '<h5>',\n",
       " '<h6>',\n",
       " '<i>',\n",
       " '<s>',\n",
       " '<strong>',\n",
       " '<sub>',\n",
       " '<sup>',\n",
       " '<table>',\n",
       " '<tbody>',\n",
       " '<td>',\n",
       " '<tfoot>',\n",
       " '<th>',\n",
       " '<thead>',\n",
       " '<tr>',\n",
       " '<u>']"
      ]
     },
     "execution_count": 4,
     "metadata": {},
     "output_type": "execute_result"
    }
   ],
   "source": [
    "toks = [t for t in base_model.tokenizer.vocab if t.startswith(\"<\")]\n",
    "# filter out <.x..> patterns\n",
    "import re\n",
    "\n",
    "toks = [\n",
    "    t\n",
    "    for t in toks\n",
    "    if not re.match(r\"<.x..>\", t) and not t.startswith(\"<unused\") and t.endswith(\">\")\n",
    "]\n",
    "\n",
    "\n",
    "def has_other(tok):\n",
    "    if tok.startswith(\"</\"):\n",
    "        return tok[0] + tok[2:] in toks\n",
    "    return tok[0] + \"/\" + tok[1:] in toks\n",
    "\n",
    "\n",
    "toks = [tok for tok in toks if has_other(tok) and not tok.startswith(\"</\")]\n",
    "sorted(toks)"
   ]
  },
  {
   "cell_type": "code",
   "execution_count": 5,
   "metadata": {},
   "outputs": [
    {
     "data": {
      "text/plain": [
       "['\\n',\n",
       " '\\n\\n',\n",
       " '\\n\\n\\n',\n",
       " '\\n\\n\\n\\n',\n",
       " '\\n\\n\\n\\n\\n',\n",
       " '\\n\\n\\n\\n\\n\\n',\n",
       " '\\n\\n\\n\\n\\n\\n\\n',\n",
       " '\\n\\n\\n\\n\\n\\n\\n\\n',\n",
       " '\\n\\n\\n\\n\\n\\n\\n\\n\\n',\n",
       " '\\n\\n\\n\\n\\n\\n\\n\\n\\n\\n',\n",
       " '\\n\\n\\n\\n\\n\\n\\n\\n\\n\\n\\n',\n",
       " '\\n\\n\\n\\n\\n\\n\\n\\n\\n\\n\\n\\n',\n",
       " '\\n\\n\\n\\n\\n\\n\\n\\n\\n\\n\\n\\n\\n',\n",
       " '\\n\\n\\n\\n\\n\\n\\n\\n\\n\\n\\n\\n\\n\\n',\n",
       " '\\n\\n\\n\\n\\n\\n\\n\\n\\n\\n\\n\\n\\n\\n\\n',\n",
       " '\\n\\n\\n\\n\\n\\n\\n\\n\\n\\n\\n\\n\\n\\n\\n\\n',\n",
       " '\\n\\n\\n\\n\\n\\n\\n\\n\\n\\n\\n\\n\\n\\n\\n\\n\\n',\n",
       " '\\n\\n\\n\\n\\n\\n\\n\\n\\n\\n\\n\\n\\n\\n\\n\\n\\n\\n',\n",
       " '\\n\\n\\n\\n\\n\\n\\n\\n\\n\\n\\n\\n\\n\\n\\n\\n\\n\\n\\n',\n",
       " '\\n\\n\\n\\n\\n\\n\\n\\n\\n\\n\\n\\n\\n\\n\\n\\n\\n\\n\\n\\n',\n",
       " '\\n\\n\\n\\n\\n\\n\\n\\n\\n\\n\\n\\n\\n\\n\\n\\n\\n\\n\\n\\n\\n',\n",
       " '\\n\\n\\n\\n\\n\\n\\n\\n\\n\\n\\n\\n\\n\\n\\n\\n\\n\\n\\n\\n\\n\\n',\n",
       " '\\n\\n\\n\\n\\n\\n\\n\\n\\n\\n\\n\\n\\n\\n\\n\\n\\n\\n\\n\\n\\n\\n\\n',\n",
       " '\\n\\n\\n\\n\\n\\n\\n\\n\\n\\n\\n\\n\\n\\n\\n\\n\\n\\n\\n\\n\\n\\n\\n\\n',\n",
       " '\\n\\n\\n\\n\\n\\n\\n\\n\\n\\n\\n\\n\\n\\n\\n\\n\\n\\n\\n\\n\\n\\n\\n\\n\\n',\n",
       " '\\n\\n\\n\\n\\n\\n\\n\\n\\n\\n\\n\\n\\n\\n\\n\\n\\n\\n\\n\\n\\n\\n\\n\\n\\n\\n',\n",
       " '\\n\\n\\n\\n\\n\\n\\n\\n\\n\\n\\n\\n\\n\\n\\n\\n\\n\\n\\n\\n\\n\\n\\n\\n\\n\\n\\n',\n",
       " '\\n\\n\\n\\n\\n\\n\\n\\n\\n\\n\\n\\n\\n\\n\\n\\n\\n\\n\\n\\n\\n\\n\\n\\n\\n\\n\\n\\n',\n",
       " '\\n\\n\\n\\n\\n\\n\\n\\n\\n\\n\\n\\n\\n\\n\\n\\n\\n\\n\\n\\n\\n\\n\\n\\n\\n\\n\\n\\n\\n',\n",
       " '\\n\\n\\n\\n\\n\\n\\n\\n\\n\\n\\n\\n\\n\\n\\n\\n\\n\\n\\n\\n\\n\\n\\n\\n\\n\\n\\n\\n\\n\\n',\n",
       " '\\n\\n\\n\\n\\n\\n\\n\\n\\n\\n\\n\\n\\n\\n\\n\\n\\n\\n\\n\\n\\n\\n\\n\\n\\n\\n\\n\\n\\n\\n\\n']"
      ]
     },
     "execution_count": 5,
     "metadata": {},
     "output_type": "execute_result"
    }
   ],
   "source": [
    "nl_tokens = [tok for tok in base_model.tokenizer.vocab if tok.startswith(\"\\n\")]\n",
    "sorted(nl_tokens)\n"
   ]
  },
  {
   "cell_type": "code",
   "execution_count": 6,
   "metadata": {},
   "outputs": [
    {
     "data": {
      "text/plain": [
       "['\\r',\n",
       " '\\r\\r',\n",
       " '!\\r',\n",
       " '!\")\\r',\n",
       " '!\");\\r',\n",
       " '\"\\r',\n",
       " '\"\"\"\\r',\n",
       " '\"\",\\r',\n",
       " '\")\\r',\n",
       " '\"))\\r',\n",
       " '\")));\\r',\n",
       " '\"));\\r',\n",
       " '\")){\\r',\n",
       " '\"),\\r',\n",
       " '\"):\\r',\n",
       " '\");\\r',\n",
       " '\")]\\r',\n",
       " '\"){\\r',\n",
       " '\"+\\r',\n",
       " '\",\\r',\n",
       " '\".\\r',\n",
       " '\"/>\\r',\n",
       " '\":\\r',\n",
       " '\";\\r',\n",
       " '\">\\r',\n",
       " '\">\\r\\r',\n",
       " '\"]\\r',\n",
       " '\"])\\r',\n",
       " '\"]);\\r',\n",
       " '\"],\\r',\n",
       " '\"];\\r',\n",
       " '\"},\\r',\n",
       " '#\\r',\n",
       " '##\\r',\n",
       " '#%%\\r',\n",
       " '$\\r',\n",
       " '$$\\r',\n",
       " '$,\\r',\n",
       " '$.\\r',\n",
       " '%\\r',\n",
       " '%%\\r',\n",
       " '%;\\r',\n",
       " '&\\r',\n",
       " \"'\\r\",\n",
       " \"'''\\r\",\n",
       " \"')\\r\",\n",
       " \"'))\\r\",\n",
       " \"'));\\r\",\n",
       " \"'),\\r\",\n",
       " \"'):\\r\",\n",
       " \"');\\r\",\n",
       " \"'){\\r\",\n",
       " \"',\\r\",\n",
       " \"',\\r\\r\",\n",
       " \"':\\r\",\n",
       " \"';\\r\",\n",
       " \"'>\\r\",\n",
       " \"']\\r\",\n",
       " \"'])\\r\",\n",
       " \"']))\\r\",\n",
       " \"'])){\\r\",\n",
       " \"']);\\r\",\n",
       " \"'],\\r\",\n",
       " \"'];\\r\",\n",
       " \"'},\\r\",\n",
       " '(\\r',\n",
       " '(\"\")\\r',\n",
       " '(\"\");\\r',\n",
       " '(\"\")]\\r',\n",
       " \"('');\\r\",\n",
       " '()\\r',\n",
       " '())\\r',\n",
       " '()))\\r',\n",
       " '()));\\r',\n",
       " '());\\r',\n",
       " '()){\\r',\n",
       " '(),\\r',\n",
       " '():\\r',\n",
       " '();\\r',\n",
       " '();\\r\\r',\n",
       " '()]\\r',\n",
       " '(){\\r',\n",
       " '([\\r',\n",
       " '({\\r',\n",
       " ')\\r',\n",
       " ')\\r\\r',\n",
       " ')\");\\r',\n",
       " ')\";\\r',\n",
       " '))\\r',\n",
       " ')))\\r',\n",
       " ')));\\r',\n",
       " ')),\\r',\n",
       " ')):\\r',\n",
       " '));\\r',\n",
       " ')){\\r',\n",
       " '),\\r',\n",
       " ').\\r',\n",
       " '):\\r',\n",
       " ');\\r',\n",
       " ');\\r\\r',\n",
       " ')=>{\\r',\n",
       " ')]\\r',\n",
       " ')];\\r',\n",
       " '){\\r',\n",
       " ')}\\r',\n",
       " '*\\r',\n",
       " '**\\r',\n",
       " '**/\\r',\n",
       " '*/\\r',\n",
       " '*/\\r\\r',\n",
       " '*}\\r',\n",
       " '+\\r',\n",
       " '++\\r',\n",
       " '++)\\r',\n",
       " '++){\\r',\n",
       " '++;\\r',\n",
       " ',\\r',\n",
       " ',\\r\\r',\n",
       " '-\\r',\n",
       " '--\\r',\n",
       " '--)\\r',\n",
       " '---\\r',\n",
       " '-------\\r',\n",
       " '----------\\r',\n",
       " '--;\\r',\n",
       " '-->\\r',\n",
       " '.\\r',\n",
       " '.\")\\r',\n",
       " '.\");\\r',\n",
       " '.\",\\r',\n",
       " '.\";\\r',\n",
       " '.*;\\r',\n",
       " '...\\r',\n",
       " '...\");\\r',\n",
       " '/\\r',\n",
       " '/*\\r',\n",
       " '/*!\\r',\n",
       " '/**\\r',\n",
       " '/**\\r\\r',\n",
       " '/***\\r',\n",
       " '//\\r',\n",
       " '//!\\r',\n",
       " '///\\r',\n",
       " '//{\\r',\n",
       " '//}\\r',\n",
       " '/>\\r',\n",
       " ':\\r',\n",
       " ':\");\\r',\n",
       " ':{\\r',\n",
       " ';\\r',\n",
       " ';\\r\\r',\n",
       " ';\">\\r',\n",
       " ';}\\r',\n",
       " '<!--\\r',\n",
       " '</>\\r',\n",
       " '<>\\r',\n",
       " '<>();\\r',\n",
       " '<?\\r',\n",
       " '=\\r',\n",
       " '=\"\";\\r',\n",
       " '=\"\">\\r',\n",
       " \"='';\\r\",\n",
       " '=[]\\r',\n",
       " '=[];\\r',\n",
       " '={\\r',\n",
       " '>\\r',\n",
       " '>\\r\\r',\n",
       " '>\");\\r',\n",
       " '>\",\\r',\n",
       " '>\";\\r',\n",
       " \">';\\r\",\n",
       " '>();\\r',\n",
       " '?\\r',\n",
       " '?>\\r',\n",
       " '[\\r',\n",
       " '[]\\r',\n",
       " '[])\\r',\n",
       " '[];\\r',\n",
       " '\\\\\\r',\n",
       " '\\\\[\\r',\n",
       " '\\\\\\\\\\r',\n",
       " '\\\\]\\r',\n",
       " ']\\r',\n",
       " '])\\r',\n",
       " ']))\\r',\n",
       " ']));\\r',\n",
       " ']),\\r',\n",
       " ']);\\r',\n",
       " ']){\\r',\n",
       " '],\\r',\n",
       " ']:\\r',\n",
       " '];\\r',\n",
       " ']]\\r',\n",
       " '_\\r',\n",
       " '_;\\r',\n",
       " '__\":\\r',\n",
       " \"__':\\r\",\n",
       " '`\\r',\n",
       " '`,\\r',\n",
       " '`;\\r',\n",
       " '```\\r',\n",
       " '{\\r',\n",
       " '{\\r\\r',\n",
       " '{}\\r',\n",
       " '|\\r',\n",
       " '}\\r',\n",
       " '}\\r\\r',\n",
       " '}\")\\r',\n",
       " '}%\\r',\n",
       " '})\\r',\n",
       " '})();\\r',\n",
       " '}))\\r',\n",
       " '}));\\r',\n",
       " '}),\\r',\n",
       " '});\\r',\n",
       " '});\\r\\r',\n",
       " '}*/\\r',\n",
       " '},\\r',\n",
       " '},{\\r',\n",
       " '}.\\r',\n",
       " '};\\r',\n",
       " '}>\\r',\n",
       " '}]\\r',\n",
       " '}],\\r',\n",
       " '}}\\r',\n",
       " '}}}\\r',\n",
       " '▁\\r',\n",
       " '▁\\r\\r',\n",
       " '▁\"\\r',\n",
       " '▁\"\"\\r',\n",
       " '▁\"\"\"\\r',\n",
       " '▁\"\")\\r',\n",
       " '▁\"\");\\r',\n",
       " '▁\"\",\\r',\n",
       " '▁\"\";\\r',\n",
       " '▁\")\\r',\n",
       " '▁\");\\r',\n",
       " '▁\";\\r',\n",
       " '▁&&\\r',\n",
       " \"▁'\\r\",\n",
       " \"▁''\\r\",\n",
       " \"▁'',\\r\",\n",
       " \"▁'';\\r\",\n",
       " \"▁')\\r\",\n",
       " \"▁';\\r\",\n",
       " '▁(\\r',\n",
       " '▁()\\r',\n",
       " '▁();\\r',\n",
       " '▁)\\r',\n",
       " '▁),\\r',\n",
       " '▁);\\r',\n",
       " '▁){\\r',\n",
       " '▁*\\r',\n",
       " '▁*\\r\\r',\n",
       " '▁**/\\r',\n",
       " '▁*/\\r',\n",
       " '▁*/\\r\\r',\n",
       " '▁+\\r',\n",
       " '▁,\\r',\n",
       " '▁-->\\r',\n",
       " '▁.\\r',\n",
       " '▁...\\r',\n",
       " '▁/**\\r',\n",
       " '▁//\\r',\n",
       " '▁/>\\r',\n",
       " '▁:\\r',\n",
       " '▁;\\r',\n",
       " '▁=\\r',\n",
       " '▁=>\\r',\n",
       " '▁>\\r',\n",
       " '▁?>\\r',\n",
       " '▁[\\r',\n",
       " '▁[]\\r',\n",
       " '▁[],\\r',\n",
       " '▁[];\\r',\n",
       " '▁[{\\r',\n",
       " '▁\\\\\\r',\n",
       " '▁\\\\\\\\\\r',\n",
       " '▁]\\r',\n",
       " '▁__\\r',\n",
       " '▁{\\r',\n",
       " '▁{\\r\\r',\n",
       " '▁{}\\r',\n",
       " '▁{},\\r',\n",
       " '▁{};\\r',\n",
       " '▁|\\r',\n",
       " '▁||\\r',\n",
       " '▁}\\r',\n",
       " '▁})\\r',\n",
       " '▁});\\r',\n",
       " '▁},\\r',\n",
       " '▁};\\r',\n",
       " '。\\r',\n",
       " '\\ufeff\\r',\n",
       " '：\\r']"
      ]
     },
     "execution_count": 6,
     "metadata": {},
     "output_type": "execute_result"
    }
   ],
   "source": [
    "nl_tokens = [tok for tok in base_model.tokenizer.vocab if tok.startswith(\"\\r\") or tok.endswith(\"\\r\")]\n",
    "sorted(nl_tokens)"
   ]
  },
  {
   "cell_type": "code",
   "execution_count": 6,
   "metadata": {},
   "outputs": [],
   "source": [
    "from datasets import load_dataset\n",
    "\n",
    "dataset = load_dataset(\"HuggingFaceH4/ultrachat_200k\")\n",
    "sample_batch = list(dataset[\"test_sft\"][range(10)][\"messages\"]) + [sample_chat]"
   ]
  },
  {
   "cell_type": "code",
   "execution_count": 8,
   "metadata": {},
   "outputs": [
    {
     "name": "stdout",
     "output_type": "stream",
     "text": [
      "<bos><start_of_turn>user\n",
      "How does the author propose to fix the problem of science alienation in our educational system? What changes does she suggest should be made to science education? Answer according to: Science education should be split into two tracks.\n",
      "Split K-12 science education into two tracks, for majors and nonmajors.\n",
      "Those who want to specialize in science could take math and complex chemistry. Nonmajors would focus on science of the everyday—things like kitchen chemistry and CSI-style crime investigations.\n",
      "Some years ago, when I was working as a newspaper science writer in California, I fell into a rather idle conversation with a physicist on the subject of science education. Idle for him, at least, because what he said—the way he defined the American system of teaching K-12 students about science—has stayed with me since.\n",
      "This conversation has returned to me many times over the years. On the day my older son, who spent his childhood joyfully chasing insects and reading natural history books, came home from high school to announce that “biology is the most boring subject in the world.” The time the student adviser at the University of Wisconsin journalism school, where I teach, told me that undergrads don’t want to take science-writing classes because they already felt “beaten up by science.” Even on days when I read science literacy statistics and am startled by the percentage of people who think that antibiotics kill viruses as well as bacteria or that the sun revolves around the Earth.\n",
      "It’s easy for me to join with the chorus of concern over whether we are keeping up as a science-literate country. But even so, science literacy is the wrong term for the worried point I’m making here. I’m concerned about science alienation. The way we teach K-12 science, with its emphasis on the intricacies of formula and mathematical structure necessary for the next generation of scientists and engineers, shuts too many people out. I don’t mean just shut out of the priesthood here; there’s no reason for everyone to become a scientist. But shut out of the comfort zone, of the ability to think of science as something useful in daily life.\n",
      "And it’s the science-alienated who matter to me. Partly because as a science writer I find them the most interesting audience—I love the idea of seducing someone convinced that science is boring or meaningless into reading a research-centered story. Partly because I worry that what The New Yorker’s Michael Specter describes as a culture of science denialism is having a profound—possibly dangerous—effect on public policies. Think, for instance, of recent moves in Virginia, Texas, and North Carolina to deny that sea level rise is related to global climate change. And partly I just think that the filtered-out are cheated. They endure the mandatory classes, but they never really learn the main lesson—the way that science helps us understand ourselves and the world around us.\n",
      "The great psychologist and philosopher William James wrote more than 100 years ago that the science establishment would face consequences if it dismissed the importance of the lay public. In the year 1909, he said, it was easy to find people who no longer paid attention to the teachings of researchers. “They are indifferent to science,” he explained, “because science is so callously indifferent to their experiences.” Today, this is very relevant to K-12 science education: Our system breeds that indifference.\n",
      "How can we fix it? By requiring even more science education—but changing it dramatically. All high school students should have to take four years of science, instead of the minimal two usually required for graduation. Along with that, we should also offer separate “science tracks”—something like the old tracks for vocational or college-bound students. Those who want to specialize in science could take math, physics, and complex chemistry (and the kind of genetically detailed biology that my son disliked). Nonmajors, by contrast, would focus on what I think of as science of the everyday—things like kitchen chemistry, CSI-style crime investigation, the biology of health, and a class in the physics of sports that would include playing the games.\n",
      "My tracking system could easily build on existing science electives. My son’s school, for instance, teaches a forensic science unit which uses the classroom as an ever changing “crime scene,” exploring everything from DNA analysis to blood typing. It’s a way of putting science in context. More students would take such classes; more would be exposed to these ideas as they did the coursework needed to complete each track. Ideally, the tracks could be coordinated with the science classes offered for majors and nonmajors at the college level. Of course, occasionally a student might want to switch tracks—and we should allow for that, too. It could go both ways: Would-be scientists might realize that the field isn’t really for them and switch to the nonmajor track, while some students might be inspired by the CSI class to move into the more difficult sciences.\n",
      "We need to stop trying to teach every child as either a future scientist or a future failed scientist. We don’t want or need every student to be a scientist, but we do want each one to be a success. And success includes a solid understanding and appreciation of science, one that will remain useful to both themselves and society throughout their lives.\n",
      "Also in Slate’s special issue on science education: Fred Kaplan explains why another “Sputnik moment” would be impossible; Philip Plait explains why he became the “Bad Astronomer”; Paul Plotz describes how almost blowing up his parents’ basement made him a scientist; Tom Kalil says that the Obama administration is using the Make movement to encourage science education; and Dana Goldstein explains why you should make your daughter play video games. Also, share your ideas for fixing science education in the Hive. This article arises from Future Tense, a joint partnership of Slate, the New America Foundation, and Arizona State University.<end_of_turn>\n",
      "<start_of_turn>model\n",
      "The author proposes to fix the problem of science alienation in our educational system by splitting K-12 science education into two tracks, for majors and nonmajors. Those who want to specialize in science could take math and complex chemistry, while nonmajors would focus on science of the everyday – things like kitchen chemistry and CSI-style crime investigations. All high school students should take four years of science, and the tracking system could build on existing science electives. The goal is to teach every student a solid understanding and appreciation of science, one that will remain useful to both themselves and society throughout their lives.<end_of_turn>\n",
      "<start_of_turn>user\n",
      "Can you provide examples of how the proposed tracking system for science education could be implemented in schools?<end_of_turn>\n",
      "<start_of_turn>model\n",
      "There are several ways in which the proposed tracking system for science education could be implemented in schools. Here are a few examples:\n",
      "\n",
      "1. One approach could be to offer different science courses for majors and nonmajors starting in middle school. For example, in 6th grade, students could be divided into two tracks, and each track would take a different science course. In the major track, students would take a course that focuses on the foundations of science, including an emphasis on mathematics and physics. In the nonmajor track, students would take a course that focuses on science concepts that are relevant to everyday life, such as health and nutrition.\n",
      "\n",
      "2. Another approach could be to offer more advanced science courses in high school for students who wish to pursue a career in science. This could include courses in advanced physics, chemistry, and biology. For students who are not interested in a science career, science courses could be focused on more practical applications of science, such as environmental science or food science.\n",
      "\n",
      "3. Schools could also offer a wider range of science electives to cater to the varied interests of students. For example, students interested in engineering could take courses in robotics or renewable energy, while those interested in the medical field could take courses in anatomy and physiology.\n",
      "\n",
      "4. Hands-on science experiments and projects could be incorporated into science classes to make learning more engaging and relevant. For example, students could conduct experiments in their own kitchens to learn about chemical reactions, or participate in a mock crime scene investigation to learn about forensic science.\n",
      "\n",
      "Overall, the tracking system for science education proposed by the author could be implemented in a variety of ways, depending on the specific needs and interests of students in each school.<end_of_turn>\n",
      "<start_of_turn>user\n",
      "Can you explain how the proposed tracking system for science education would benefit students who are not interested in pursuing a career in science?<end_of_turn>\n",
      "<start_of_turn>model\n",
      "The proposed tracking system for science education would benefit students who are not interested in pursuing a career in science in several ways. First, it would help them develop an understanding and appreciation of science concepts that are relevant to everyday life, such as health, nutrition, and the environment. This would help them make informed decisions in their personal lives and understand how science impacts society as a whole.\n",
      "\n",
      "Second, focusing on science concepts that are practical and engaging would make science more interesting and relevant to non-science students. This could help them overcome their science alienation and develop a sense of curiosity and wonder about science.\n",
      "\n",
      "Lastly, the proposed tracking system would offer non-science students a wider range of science courses and electives to choose from, which would allow them to explore different areas of science according to their interests. For example, a student who is interested in sports could take a physics of sports class, while a student who is interested in cooking could take a kitchen chemistry class.\n",
      "\n",
      "Overall, the proposed tracking system for science education would benefit non-science students by providing them with a solid understanding and appreciation of science concepts that are relevant to their everyday lives, increasing their interest in science, and offering them more opportunities to explore science according to their interests.<end_of_turn>\n",
      "<start_of_turn>user\n",
      "Can you elaborate on how offering separate science tracks would inspire students to explore science further and possibly change their career path?<end_of_turn>\n",
      "<start_of_turn>model\n",
      "Offering separate science tracks would inspire students to explore science further and possibly change their career path by exposing them to a wider range of science concepts that are relevant to their interests and providing them with the opportunity to engage in hands-on, practical science activities that they may enjoy.\n",
      "\n",
      "For example, a student who takes a kitchen chemistry class in the non-major track may discover a newfound interest in food science and decide to pursue a career in that field. Similarly, a student who takes a physics of sports class may develop an interest in sports science and decide to pursue that field.\n",
      "\n",
      "Furthermore, by offering science courses that are more practical and engaging, students who may have previously been disinterested in science may discover a passion for a particular subject or field within science. This could motivate them to pursue further studies in that area and even consider a career in science.\n",
      "\n",
      "Overall, by offering separate science tracks, schools would be creating opportunities for students to explore science according to their interests and discover new areas of science that they may be passionate about. This could inspire them to change their career path and pursue a career in science, even if they had not previously considered it. The more science-literate our society is, the more equipped we are to tackle challenges and advance scientific discoveries.<end_of_turn>\n",
      "\n"
     ]
    }
   ],
   "source": [
    "print(\n",
    "    chat_model.tokenizer.apply_chat_template(\n",
    "        dataset[\"test_sft\"][0][\"messages\"], tokenize=False\n",
    "    )\n",
    ")"
   ]
  },
  {
   "cell_type": "code",
   "execution_count": 7,
   "metadata": {},
   "outputs": [],
   "source": [
    "from utils import RunningMeanStd\n",
    "\n",
    "base_chat_template = open(\"../templates/base_gemma_chat_template.jinja\").read()\n",
    "\n",
    "def sanitize(tok):\n",
    "    return tok.replace(\"\\r\", \"\\\\r\").replace(\"\\n\", \"\\\\n\")\n",
    "\n",
    "def custom_template(\n",
    "    *,\n",
    "    start_of_turn_token=\"<start_of_turn>\",\n",
    "    end_of_turn_token=\"<end_of_turn>\",\n",
    "    user_token=\"user\",\n",
    "    assistant_token=\"model\",\n",
    "    enforce_length=True,\n",
    "):\n",
    "    if enforce_length:\n",
    "        assert (\n",
    "            len(base_model.tokenizer.tokenize(start_of_turn_token)) == 1\n",
    "        ), \"start_of_turn_token must be a single token\"\n",
    "        assert (\n",
    "            len(base_model.tokenizer.tokenize(end_of_turn_token)) == 1\n",
    "        ), \"end_of_turn_token must be a single token\"\n",
    "        assert (\n",
    "            len(base_model.tokenizer.tokenize(user_token)) == 1\n",
    "        ), \"user_token must be a single token\"\n",
    "        assert (\n",
    "            len(base_model.tokenizer.tokenize(assistant_token)) == 1\n",
    "        ), \"assistant_token must be a single token\"\n",
    "    template = (\n",
    "        base_chat_template.replace(\"<start_of_turn>\", sanitize(start_of_turn_token))\n",
    "        .replace(\"<end_of_turn>\", sanitize(end_of_turn_token))\n",
    "        .replace(\"<user>\", sanitize(user_token))\n",
    "        .replace(\"model\", sanitize(assistant_token))\n",
    "    )\n",
    "    if enforce_length:\n",
    "        tokenized = chat_model.tokenizer.apply_chat_template(\n",
    "            sample_batch,\n",
    "            chat_template=chat_template,\n",
    "            return_dict=True,\n",
    "            return_assistant_tokens_mask=True,\n",
    "        )\n",
    "        custom_tokenized = chat_model.tokenizer.apply_chat_template(\n",
    "            sample_batch,\n",
    "            chat_template=template,\n",
    "            return_dict=True,\n",
    "            return_assistant_tokens_mask=True,\n",
    "        )\n",
    "        gt_inp_len = list(map(len, tokenized[\"input_ids\"]))\n",
    "        custom_inp_len = list(map(len, custom_tokenized[\"input_ids\"]))\n",
    "        assert (\n",
    "            gt_inp_len == custom_inp_len\n",
    "        ), f\"input_ids lens are not the same: {gt_inp_len} != {custom_inp_len}\"\n",
    "        assert (\n",
    "            tokenized[\"assistant_masks\"] == custom_tokenized[\"assistant_masks\"]\n",
    "        ), f\"assistant_masks are not the same: {tokenized['assistant_masks']} != {custom_tokenized['assistant_masks']}\"\n",
    "    return template\n",
    "\n",
    "\n",
    "role_setups = {\n",
    "    \"default\": dict(assistant_token=\"model\", user_token=\"user\"),\n",
    "    \"assistant\": dict(assistant_token=\"assistant\", user_token=\"user\"),\n",
    "    \"human\": dict(assistant_token=\"model\", user_token=\"human\"),\n",
    "    \"assistant_human\": dict(assistant_token=\"assistant\", user_token=\"human\"),\n",
    "    \"human_human\": dict(assistant_token=\"human\", user_token=\"human\"),\n",
    "    \"user_user\": dict(assistant_token=\"user\", user_token=\"user\"),\n",
    "    \"assistant_assistant\": dict(assistant_token=\"assistant\", user_token=\"assistant\"),\n",
    "    \"model_model\": dict(assistant_token=\"model\", user_token=\"model\"),\n",
    "    \"4chan\": dict(assistant_token=\"Anon123\", user_token=\"MemeMaster\", enforce_length=False),\n",
    "}\n",
    "delimiter_setups = {\n",
    "    \"default\": dict(start_of_turn_token=\"<start_of_turn>\", end_of_turn_token=\"<end_of_turn>\"),\n",
    "    \"blockquote\": dict(start_of_turn_token=\"<blockquote>\", end_of_turn_token=\"</blockquote>\"),\n",
    "    \"code\": dict(start_of_turn_token=\"<code>\", end_of_turn_token=\"</code>\"),\n",
    "    \"em\": dict(start_of_turn_token=\"<em>\", end_of_turn_token=\"</em>\"),\n",
    "}\n",
    "templates = {}\n",
    "for role_setup, r_kwargs in role_setups.items():\n",
    "    for delimiter_setup, d_kwargs in delimiter_setups.items():\n",
    "        templates[(role_setup, delimiter_setup)] = custom_template(**r_kwargs, **d_kwargs)"
   ]
  },
  {
   "cell_type": "code",
   "execution_count": 9,
   "metadata": {},
   "outputs": [
    {
     "data": {
      "application/vnd.jupyter.widget-view+json": {
       "model_id": "d20788ed50644d209b00b61e94839bc1",
       "version_major": 2,
       "version_minor": 0
      },
      "text/plain": [
       "  0%|          | 0/36 [00:00<?, ?it/s]"
      ]
     },
     "metadata": {},
     "output_type": "display_data"
    },
    {
     "name": "stdout",
     "output_type": "stream",
     "text": [
      "('default', 'default')\n"
     ]
    },
    {
     "data": {
      "application/vnd.jupyter.widget-view+json": {
       "model_id": "b8326067f95e427597dbfb2e090b4435",
       "version_major": 2,
       "version_minor": 0
      },
      "text/plain": [
       "Token processed:   0%|          | 0/100000 [00:00<?, ?it/s]"
      ]
     },
     "metadata": {},
     "output_type": "display_data"
    },
    {
     "data": {
      "application/vnd.jupyter.widget-view+json": {
       "model_id": "01c15c77d97f4ebabeee84f873e7b6c3",
       "version_major": 2,
       "version_minor": 0
      },
      "text/plain": [
       "Batch processed:   0%|          | 0/2889 [00:00<?, ?it/s]"
      ]
     },
     "metadata": {},
     "output_type": "display_data"
    },
    {
     "data": {
      "application/vnd.jupyter.widget-view+json": {
       "model_id": "89eafc7aa6fb482dbb00e2bf4955a05a",
       "version_major": 2,
       "version_minor": 0
      },
      "text/plain": [
       "Loading checkpoint shards:   0%|          | 0/3 [00:00<?, ?it/s]"
      ]
     },
     "metadata": {},
     "output_type": "display_data"
    },
    {
     "name": "stderr",
     "output_type": "stream",
     "text": [
      "The 'batch_size' argument of HybridCache is deprecated and will be removed in v4.49. Use the more precisely named 'max_batch_size' argument instead.\n",
      "The 'batch_size' attribute of HybridCache is deprecated and will be removed in v4.49. Use the more precisely named 'self.max_batch_size' attribute instead.\n"
     ]
    },
    {
     "data": {
      "application/vnd.jupyter.widget-view+json": {
       "model_id": "ba5f060a49614fc180fd3ef79d8ebe87",
       "version_major": 2,
       "version_minor": 0
      },
      "text/plain": [
       "Loading checkpoint shards:   0%|          | 0/2 [00:00<?, ?it/s]"
      ]
     },
     "metadata": {},
     "output_type": "display_data"
    },
    {
     "name": "stderr",
     "output_type": "stream",
     "text": [
      "Exception ignored in: <function tqdm.__del__ at 0x7ff4e5378b80>\n",
      "Traceback (most recent call last):\n",
      "  File \"/root/repos/representation-structure-comparison/.env/lib/python3.10/site-packages/tqdm/std.py\", line 1147, in __del__\n",
      "    def __del__(self):\n",
      "KeyboardInterrupt: \n"
     ]
    },
    {
     "name": "stdout",
     "output_type": "stream",
     "text": [
      "('default', 'blockquote')\n"
     ]
    },
    {
     "data": {
      "application/vnd.jupyter.widget-view+json": {
       "model_id": "713b4ff283904aa29e79a7ad3f695911",
       "version_major": 2,
       "version_minor": 0
      },
      "text/plain": [
       "Token processed:   0%|          | 0/100000 [00:00<?, ?it/s]"
      ]
     },
     "metadata": {},
     "output_type": "display_data"
    },
    {
     "data": {
      "application/vnd.jupyter.widget-view+json": {
       "model_id": "e6f5f395e4624e3abf4f3bf5bc80198d",
       "version_major": 2,
       "version_minor": 0
      },
      "text/plain": [
       "Batch processed:   0%|          | 0/2889 [00:00<?, ?it/s]"
      ]
     },
     "metadata": {},
     "output_type": "display_data"
    },
    {
     "ename": "KeyboardInterrupt",
     "evalue": "",
     "output_type": "error",
     "traceback": [
      "\u001b[0;31m---------------------------------------------------------------------------\u001b[0m",
      "\u001b[0;31mKeyboardInterrupt\u001b[0m                         Traceback (most recent call last)",
      "Cell \u001b[0;32mIn[9], line 72\u001b[0m\n\u001b[1;32m     70\u001b[0m \u001b[38;5;28;01mfor\u001b[39;00m name, template \u001b[38;5;129;01min\u001b[39;00m tqdm(templates\u001b[38;5;241m.\u001b[39mitems()):\n\u001b[1;32m     71\u001b[0m     \u001b[38;5;28mprint\u001b[39m(name)\n\u001b[0;32m---> 72\u001b[0m     results[name] \u001b[38;5;241m=\u001b[39m \u001b[43mevaluate_template\u001b[49m\u001b[43m(\u001b[49m\n\u001b[1;32m     73\u001b[0m \u001b[43m        \u001b[49m\u001b[43mbase_model\u001b[49m\u001b[43m,\u001b[49m\n\u001b[1;32m     74\u001b[0m \u001b[43m        \u001b[49m\u001b[43mchat_model\u001b[49m\u001b[43m,\u001b[49m\n\u001b[1;32m     75\u001b[0m \u001b[43m        \u001b[49m\u001b[43mtemplate\u001b[49m\u001b[43m,\u001b[49m\n\u001b[1;32m     76\u001b[0m \u001b[43m        \u001b[49m\u001b[43mdataset\u001b[49m\u001b[43m,\u001b[49m\n\u001b[1;32m     77\u001b[0m \u001b[43m        \u001b[49m\u001b[43mmax_num_tokens\u001b[49m\u001b[38;5;241;43m=\u001b[39;49m\u001b[38;5;241;43m100_000\u001b[39;49m\u001b[43m,\u001b[49m\n\u001b[1;32m     78\u001b[0m \u001b[43m    \u001b[49m\u001b[43m)\u001b[49m\n",
      "Cell \u001b[0;32mIn[9], line 44\u001b[0m, in \u001b[0;36mevaluate_template\u001b[0;34m(base_model, chat_model, template, dataset, batch_size, max_num_tokens)\u001b[0m\n\u001b[1;32m     42\u001b[0m chat_batch[\u001b[38;5;124m\"\u001b[39m\u001b[38;5;124minput_ids\u001b[39m\u001b[38;5;124m\"\u001b[39m] \u001b[38;5;241m=\u001b[39m chat_batch[\u001b[38;5;124m\"\u001b[39m\u001b[38;5;124minput_ids\u001b[39m\u001b[38;5;124m\"\u001b[39m]\u001b[38;5;241m.\u001b[39mto(chat_device)\n\u001b[1;32m     43\u001b[0m chat_batch[\u001b[38;5;124m\"\u001b[39m\u001b[38;5;124mattention_mask\u001b[39m\u001b[38;5;124m\"\u001b[39m] \u001b[38;5;241m=\u001b[39m chat_batch[\u001b[38;5;124m\"\u001b[39m\u001b[38;5;124mattention_mask\u001b[39m\u001b[38;5;124m\"\u001b[39m]\u001b[38;5;241m.\u001b[39mto(chat_device)\n\u001b[0;32m---> 44\u001b[0m batch_chat_entropy \u001b[38;5;241m=\u001b[39m \u001b[43mcompute_cross_entropy\u001b[49m\u001b[43m(\u001b[49m\n\u001b[1;32m     45\u001b[0m \u001b[43m    \u001b[49m\u001b[43mchat_batch\u001b[49m\u001b[43m,\u001b[49m\n\u001b[1;32m     46\u001b[0m \u001b[43m    \u001b[49m\u001b[43mchat_model\u001b[49m\u001b[43m,\u001b[49m\n\u001b[1;32m     47\u001b[0m \u001b[43m    \u001b[49m\u001b[43massistant_mask\u001b[49m\u001b[43m,\u001b[49m\n\u001b[1;32m     48\u001b[0m \u001b[43m\u001b[49m\u001b[43m)\u001b[49m\n\u001b[1;32m     49\u001b[0m chat_entropy_metric\u001b[38;5;241m.\u001b[39mupdate(batch_chat_entropy)\n\u001b[1;32m     50\u001b[0m chat_entropy\u001b[38;5;241m.\u001b[39mupdate(batch_chat_entropy)\n",
      "File \u001b[0;32m~/repos/representation-structure-comparison/notebooks/../utils.py:213\u001b[0m, in \u001b[0;36mcompute_cross_entropy\u001b[0;34m(batch, model, pred_mask)\u001b[0m\n\u001b[1;32m    201\u001b[0m \u001b[38;5;28;01mdef\u001b[39;00m\u001b[38;5;250m \u001b[39m\u001b[38;5;21mcompute_cross_entropy\u001b[39m(batch, model, pred_mask):\n\u001b[1;32m    202\u001b[0m \u001b[38;5;250m    \u001b[39m\u001b[38;5;124;03m\"\"\"\u001b[39;00m\n\u001b[1;32m    203\u001b[0m \u001b[38;5;124;03m    Compute the cross entropy loss for the given tokens and model. A mask is provided to indicate which tokens are predicted.\u001b[39;00m\n\u001b[1;32m    204\u001b[0m \n\u001b[0;32m   (...)\u001b[0m\n\u001b[1;32m    211\u001b[0m \u001b[38;5;124;03m        loss: shape (pred_mask[:, 1:].sum(),) Tensor of cross entropy loss for each predicted token\u001b[39;00m\n\u001b[1;32m    212\u001b[0m \u001b[38;5;124;03m    \"\"\"\u001b[39;00m\n\u001b[0;32m--> 213\u001b[0m     \u001b[38;5;28;01mwith\u001b[39;00m model\u001b[38;5;241m.\u001b[39mtrace(batch):\n\u001b[1;32m    214\u001b[0m         logits \u001b[38;5;241m=\u001b[39m model\u001b[38;5;241m.\u001b[39moutput\u001b[38;5;241m.\u001b[39mlogits[:, :\u001b[38;5;241m-\u001b[39m\u001b[38;5;241m1\u001b[39m][\n\u001b[1;32m    215\u001b[0m             pred_mask[:, \u001b[38;5;241m1\u001b[39m:]\n\u001b[1;32m    216\u001b[0m         ]\u001b[38;5;241m.\u001b[39msave()  \u001b[38;5;66;03m# shift by 1 to the left\u001b[39;00m\n\u001b[1;32m    217\u001b[0m     target_tokens \u001b[38;5;241m=\u001b[39m batch[\u001b[38;5;124m\"\u001b[39m\u001b[38;5;124minput_ids\u001b[39m\u001b[38;5;124m\"\u001b[39m][:, \u001b[38;5;241m1\u001b[39m:][\n\u001b[1;32m    218\u001b[0m         pred_mask[:, \u001b[38;5;241m1\u001b[39m:]\n\u001b[1;32m    219\u001b[0m     ]  \u001b[38;5;66;03m# actual token with mask = 1\u001b[39;00m\n",
      "File \u001b[0;32m~/repos/representation-structure-comparison/.env/lib/python3.10/site-packages/nnsight/intervention/contexts/interleaving.py:96\u001b[0m, in \u001b[0;36mInterleavingTracer.__exit__\u001b[0;34m(self, exc_type, exc_val, exc_tb)\u001b[0m\n\u001b[1;32m     92\u001b[0m     \u001b[38;5;28mself\u001b[39m\u001b[38;5;241m.\u001b[39minvoker\u001b[38;5;241m.\u001b[39m\u001b[38;5;21m__exit__\u001b[39m(\u001b[38;5;28;01mNone\u001b[39;00m, \u001b[38;5;28;01mNone\u001b[39;00m, \u001b[38;5;28;01mNone\u001b[39;00m)\n\u001b[1;32m     94\u001b[0m \u001b[38;5;28mself\u001b[39m\u001b[38;5;241m.\u001b[39m_model\u001b[38;5;241m.\u001b[39m_envoy\u001b[38;5;241m.\u001b[39m_reset()\n\u001b[0;32m---> 96\u001b[0m \u001b[38;5;28;43msuper\u001b[39;49m\u001b[43m(\u001b[49m\u001b[43m)\u001b[49m\u001b[38;5;241;43m.\u001b[39;49m\u001b[38;5;21;43m__exit__\u001b[39;49m\u001b[43m(\u001b[49m\u001b[43mexc_type\u001b[49m\u001b[43m,\u001b[49m\u001b[43m \u001b[49m\u001b[43mexc_val\u001b[49m\u001b[43m,\u001b[49m\u001b[43m \u001b[49m\u001b[43mexc_tb\u001b[49m\u001b[43m)\u001b[49m\n",
      "File \u001b[0;32m~/repos/representation-structure-comparison/.env/lib/python3.10/site-packages/nnsight/tracing/contexts/tracer.py:25\u001b[0m, in \u001b[0;36mTracer.__exit__\u001b[0;34m(self, exc_type, exc_val, exc_tb)\u001b[0m\n\u001b[1;32m     21\u001b[0m \u001b[38;5;28;01mfrom\u001b[39;00m\u001b[38;5;250m \u001b[39m\u001b[38;5;21;01m.\u001b[39;00m\u001b[38;5;21;01mglobals\u001b[39;00m\u001b[38;5;250m \u001b[39m\u001b[38;5;28;01mimport\u001b[39;00m GlobalTracingContext\n\u001b[1;32m     23\u001b[0m GlobalTracingContext\u001b[38;5;241m.\u001b[39mtry_deregister(\u001b[38;5;28mself\u001b[39m)\n\u001b[0;32m---> 25\u001b[0m \u001b[38;5;28;01mreturn\u001b[39;00m \u001b[38;5;28;43msuper\u001b[39;49m\u001b[43m(\u001b[49m\u001b[43m)\u001b[49m\u001b[38;5;241;43m.\u001b[39;49m\u001b[38;5;21;43m__exit__\u001b[39;49m\u001b[43m(\u001b[49m\u001b[43mexc_type\u001b[49m\u001b[43m,\u001b[49m\u001b[43m \u001b[49m\u001b[43mexc_val\u001b[49m\u001b[43m,\u001b[49m\u001b[43m \u001b[49m\u001b[43mexc_tb\u001b[49m\u001b[43m)\u001b[49m\n",
      "File \u001b[0;32m~/repos/representation-structure-comparison/.env/lib/python3.10/site-packages/nnsight/tracing/contexts/base.py:82\u001b[0m, in \u001b[0;36mContext.__exit__\u001b[0;34m(self, exc_type, exc_val, exc_tb)\u001b[0m\n\u001b[1;32m     78\u001b[0m graph \u001b[38;5;241m=\u001b[39m graph\u001b[38;5;241m.\u001b[39mstack\u001b[38;5;241m.\u001b[39mpop()\n\u001b[1;32m     80\u001b[0m graph\u001b[38;5;241m.\u001b[39malive \u001b[38;5;241m=\u001b[39m \u001b[38;5;28;01mFalse\u001b[39;00m\n\u001b[0;32m---> 82\u001b[0m \u001b[38;5;28;43mself\u001b[39;49m\u001b[38;5;241;43m.\u001b[39;49m\u001b[43mbackend\u001b[49m\u001b[43m(\u001b[49m\u001b[43mgraph\u001b[49m\u001b[43m)\u001b[49m\n",
      "File \u001b[0;32m~/repos/representation-structure-comparison/.env/lib/python3.10/site-packages/nnsight/tracing/backends/base.py:24\u001b[0m, in \u001b[0;36mExecutionBackend.__call__\u001b[0;34m(self, graph)\u001b[0m\n\u001b[1;32m     20\u001b[0m \u001b[38;5;28;01mdef\u001b[39;00m\u001b[38;5;250m \u001b[39m\u001b[38;5;21m__call__\u001b[39m(\u001b[38;5;28mself\u001b[39m, graph: Graph) \u001b[38;5;241m-\u001b[39m\u001b[38;5;241m>\u001b[39m \u001b[38;5;28;01mNone\u001b[39;00m:\n\u001b[1;32m     22\u001b[0m     \u001b[38;5;28;01mtry\u001b[39;00m:\n\u001b[0;32m---> 24\u001b[0m         \u001b[43mgraph\u001b[49m\u001b[38;5;241;43m.\u001b[39;49m\u001b[43mnodes\u001b[49m\u001b[43m[\u001b[49m\u001b[38;5;241;43m-\u001b[39;49m\u001b[38;5;241;43m1\u001b[39;49m\u001b[43m]\u001b[49m\u001b[38;5;241;43m.\u001b[39;49m\u001b[43mexecute\u001b[49m\u001b[43m(\u001b[49m\u001b[43m)\u001b[49m\n\u001b[1;32m     26\u001b[0m         \u001b[38;5;28;01mif\u001b[39;00m \u001b[38;5;28mself\u001b[39m\u001b[38;5;241m.\u001b[39minjection:\n\u001b[1;32m     28\u001b[0m             \u001b[38;5;28;01mfrom\u001b[39;00m\u001b[38;5;250m \u001b[39m\u001b[38;5;21;01m.\u001b[39;00m\u001b[38;5;21;01m.\u001b[39;00m\u001b[38;5;21;01mcontexts\u001b[39;00m\u001b[38;5;250m \u001b[39m\u001b[38;5;28;01mimport\u001b[39;00m Context\n",
      "File \u001b[0;32m~/repos/representation-structure-comparison/.env/lib/python3.10/site-packages/nnsight/tracing/graph/node.py:289\u001b[0m, in \u001b[0;36mNode.execute\u001b[0;34m(self)\u001b[0m\n\u001b[1;32m    285\u001b[0m \u001b[38;5;28;01mtry\u001b[39;00m:\n\u001b[1;32m    287\u001b[0m     \u001b[38;5;28;01mif\u001b[39;00m \u001b[38;5;28misinstance\u001b[39m(\u001b[38;5;28mself\u001b[39m\u001b[38;5;241m.\u001b[39mtarget, \u001b[38;5;28mtype\u001b[39m) \u001b[38;5;129;01mand\u001b[39;00m \u001b[38;5;28missubclass\u001b[39m(\u001b[38;5;28mself\u001b[39m\u001b[38;5;241m.\u001b[39mtarget, Protocol):\n\u001b[0;32m--> 289\u001b[0m         \u001b[38;5;28;43mself\u001b[39;49m\u001b[38;5;241;43m.\u001b[39;49m\u001b[43mtarget\u001b[49m\u001b[38;5;241;43m.\u001b[39;49m\u001b[43mexecute\u001b[49m\u001b[43m(\u001b[49m\u001b[38;5;28;43mself\u001b[39;49m\u001b[43m)\u001b[49m\n\u001b[1;32m    291\u001b[0m     \u001b[38;5;28;01melse\u001b[39;00m:\n\u001b[1;32m    292\u001b[0m \n\u001b[1;32m    293\u001b[0m         \u001b[38;5;66;03m# Prepare arguments.\u001b[39;00m\n\u001b[1;32m    294\u001b[0m         args, kwargs \u001b[38;5;241m=\u001b[39m \u001b[38;5;28mself\u001b[39m\u001b[38;5;241m.\u001b[39mprepare_inputs((\u001b[38;5;28mself\u001b[39m\u001b[38;5;241m.\u001b[39margs, \u001b[38;5;28mself\u001b[39m\u001b[38;5;241m.\u001b[39mkwargs))\n",
      "File \u001b[0;32m~/repos/representation-structure-comparison/.env/lib/python3.10/site-packages/nnsight/intervention/contexts/interleaving.py:161\u001b[0m, in \u001b[0;36mInterleavingTracer.execute\u001b[0;34m(cls, node)\u001b[0m\n\u001b[1;32m    157\u001b[0m graph\u001b[38;5;241m.\u001b[39mexecute()\n\u001b[1;32m    159\u001b[0m interleaver \u001b[38;5;241m=\u001b[39m Interleaver(graph, batch_groups\u001b[38;5;241m=\u001b[39mbatch_groups)\n\u001b[0;32m--> 161\u001b[0m \u001b[43mgraph\u001b[49m\u001b[38;5;241;43m.\u001b[39;49m\u001b[43mmodel\u001b[49m\u001b[38;5;241;43m.\u001b[39;49m\u001b[43minterleave\u001b[49m\u001b[43m(\u001b[49m\u001b[43minterleaver\u001b[49m\u001b[43m,\u001b[49m\u001b[43m \u001b[49m\u001b[38;5;241;43m*\u001b[39;49m\u001b[43minvoker_args\u001b[49m\u001b[43m,\u001b[49m\u001b[43m \u001b[49m\u001b[43mfn\u001b[49m\u001b[38;5;241;43m=\u001b[39;49m\u001b[43mmethod\u001b[49m\u001b[43m,\u001b[49m\u001b[38;5;241;43m*\u001b[39;49m\u001b[38;5;241;43m*\u001b[39;49m\u001b[43mkwargs\u001b[49m\u001b[43m,\u001b[49m\u001b[43m \u001b[49m\u001b[38;5;241;43m*\u001b[39;49m\u001b[38;5;241;43m*\u001b[39;49m\u001b[43minvoker_kwargs\u001b[49m\u001b[43m)\u001b[49m\n\u001b[1;32m    163\u001b[0m graph\u001b[38;5;241m.\u001b[39mcleanup()\n",
      "File \u001b[0;32m~/repos/representation-structure-comparison/.env/lib/python3.10/site-packages/nnsight/modeling/mixins/meta.py:49\u001b[0m, in \u001b[0;36mMetaMixin.interleave\u001b[0;34m(self, *args, **kwargs)\u001b[0m\n\u001b[1;32m     46\u001b[0m \u001b[38;5;28;01mif\u001b[39;00m \u001b[38;5;129;01mnot\u001b[39;00m \u001b[38;5;28mself\u001b[39m\u001b[38;5;241m.\u001b[39mdispatched:\n\u001b[1;32m     47\u001b[0m     \u001b[38;5;28mself\u001b[39m\u001b[38;5;241m.\u001b[39mdispatch()\n\u001b[0;32m---> 49\u001b[0m \u001b[38;5;28;01mreturn\u001b[39;00m \u001b[38;5;28;43msuper\u001b[39;49m\u001b[43m(\u001b[49m\u001b[43m)\u001b[49m\u001b[38;5;241;43m.\u001b[39;49m\u001b[43minterleave\u001b[49m\u001b[43m(\u001b[49m\u001b[38;5;241;43m*\u001b[39;49m\u001b[43margs\u001b[49m\u001b[43m,\u001b[49m\u001b[43m \u001b[49m\u001b[38;5;241;43m*\u001b[39;49m\u001b[38;5;241;43m*\u001b[39;49m\u001b[43mkwargs\u001b[49m\u001b[43m)\u001b[49m\n",
      "File \u001b[0;32m~/repos/representation-structure-comparison/.env/lib/python3.10/site-packages/nnsight/intervention/base.py:340\u001b[0m, in \u001b[0;36mNNsight.interleave\u001b[0;34m(self, interleaver, fn, *args, **kwargs)\u001b[0m\n\u001b[1;32m    337\u001b[0m     fn \u001b[38;5;241m=\u001b[39m \u001b[38;5;28mgetattr\u001b[39m(\u001b[38;5;28mself\u001b[39m, fn)\n\u001b[1;32m    339\u001b[0m \u001b[38;5;28;01mwith\u001b[39;00m interleaver:\n\u001b[0;32m--> 340\u001b[0m     \u001b[38;5;28;01mreturn\u001b[39;00m \u001b[43mfn\u001b[49m\u001b[43m(\u001b[49m\u001b[38;5;241;43m*\u001b[39;49m\u001b[43margs\u001b[49m\u001b[43m,\u001b[49m\u001b[43m \u001b[49m\u001b[38;5;241;43m*\u001b[39;49m\u001b[38;5;241;43m*\u001b[39;49m\u001b[43mkwargs\u001b[49m\u001b[43m)\u001b[49m\n",
      "File \u001b[0;32m~/repos/representation-structure-comparison/.env/lib/python3.10/site-packages/nnsight/modeling/language.py:287\u001b[0m, in \u001b[0;36mLanguageModel._execute\u001b[0;34m(self, inputs, **kwargs)\u001b[0m\n\u001b[1;32m    283\u001b[0m \u001b[38;5;28;01mdef\u001b[39;00m\u001b[38;5;250m \u001b[39m\u001b[38;5;21m_execute\u001b[39m(\u001b[38;5;28mself\u001b[39m, inputs: BatchEncoding, \u001b[38;5;241m*\u001b[39m\u001b[38;5;241m*\u001b[39mkwargs) \u001b[38;5;241m-\u001b[39m\u001b[38;5;241m>\u001b[39m Any:\n\u001b[1;32m    285\u001b[0m     inputs \u001b[38;5;241m=\u001b[39m inputs\u001b[38;5;241m.\u001b[39mto(\u001b[38;5;28mself\u001b[39m\u001b[38;5;241m.\u001b[39mdevice)\n\u001b[0;32m--> 287\u001b[0m     \u001b[38;5;28;01mreturn\u001b[39;00m \u001b[38;5;28;43mself\u001b[39;49m\u001b[38;5;241;43m.\u001b[39;49m\u001b[43m_model\u001b[49m\u001b[43m(\u001b[49m\n\u001b[1;32m    288\u001b[0m \u001b[43m        \u001b[49m\u001b[38;5;241;43m*\u001b[39;49m\u001b[38;5;241;43m*\u001b[39;49m\u001b[43minputs\u001b[49m\u001b[43m,\u001b[49m\n\u001b[1;32m    289\u001b[0m \u001b[43m        \u001b[49m\u001b[38;5;241;43m*\u001b[39;49m\u001b[38;5;241;43m*\u001b[39;49m\u001b[43mkwargs\u001b[49m\u001b[43m,\u001b[49m\n\u001b[1;32m    290\u001b[0m \u001b[43m    \u001b[49m\u001b[43m)\u001b[49m\n",
      "File \u001b[0;32m~/repos/representation-structure-comparison/.env/lib/python3.10/site-packages/torch/nn/modules/module.py:1553\u001b[0m, in \u001b[0;36mModule._wrapped_call_impl\u001b[0;34m(self, *args, **kwargs)\u001b[0m\n\u001b[1;32m   1551\u001b[0m     \u001b[38;5;28;01mreturn\u001b[39;00m \u001b[38;5;28mself\u001b[39m\u001b[38;5;241m.\u001b[39m_compiled_call_impl(\u001b[38;5;241m*\u001b[39margs, \u001b[38;5;241m*\u001b[39m\u001b[38;5;241m*\u001b[39mkwargs)  \u001b[38;5;66;03m# type: ignore[misc]\u001b[39;00m\n\u001b[1;32m   1552\u001b[0m \u001b[38;5;28;01melse\u001b[39;00m:\n\u001b[0;32m-> 1553\u001b[0m     \u001b[38;5;28;01mreturn\u001b[39;00m \u001b[38;5;28;43mself\u001b[39;49m\u001b[38;5;241;43m.\u001b[39;49m\u001b[43m_call_impl\u001b[49m\u001b[43m(\u001b[49m\u001b[38;5;241;43m*\u001b[39;49m\u001b[43margs\u001b[49m\u001b[43m,\u001b[49m\u001b[43m \u001b[49m\u001b[38;5;241;43m*\u001b[39;49m\u001b[38;5;241;43m*\u001b[39;49m\u001b[43mkwargs\u001b[49m\u001b[43m)\u001b[49m\n",
      "File \u001b[0;32m~/repos/representation-structure-comparison/.env/lib/python3.10/site-packages/torch/nn/modules/module.py:1603\u001b[0m, in \u001b[0;36mModule._call_impl\u001b[0;34m(self, *args, **kwargs)\u001b[0m\n\u001b[1;32m   1600\u001b[0m     bw_hook \u001b[38;5;241m=\u001b[39m hooks\u001b[38;5;241m.\u001b[39mBackwardHook(\u001b[38;5;28mself\u001b[39m, full_backward_hooks, backward_pre_hooks)\n\u001b[1;32m   1601\u001b[0m     args \u001b[38;5;241m=\u001b[39m bw_hook\u001b[38;5;241m.\u001b[39msetup_input_hook(args)\n\u001b[0;32m-> 1603\u001b[0m result \u001b[38;5;241m=\u001b[39m \u001b[43mforward_call\u001b[49m\u001b[43m(\u001b[49m\u001b[38;5;241;43m*\u001b[39;49m\u001b[43margs\u001b[49m\u001b[43m,\u001b[49m\u001b[43m \u001b[49m\u001b[38;5;241;43m*\u001b[39;49m\u001b[38;5;241;43m*\u001b[39;49m\u001b[43mkwargs\u001b[49m\u001b[43m)\u001b[49m\n\u001b[1;32m   1604\u001b[0m \u001b[38;5;28;01mif\u001b[39;00m _global_forward_hooks \u001b[38;5;129;01mor\u001b[39;00m \u001b[38;5;28mself\u001b[39m\u001b[38;5;241m.\u001b[39m_forward_hooks:\n\u001b[1;32m   1605\u001b[0m     \u001b[38;5;28;01mfor\u001b[39;00m hook_id, hook \u001b[38;5;129;01min\u001b[39;00m (\n\u001b[1;32m   1606\u001b[0m         \u001b[38;5;241m*\u001b[39m_global_forward_hooks\u001b[38;5;241m.\u001b[39mitems(),\n\u001b[1;32m   1607\u001b[0m         \u001b[38;5;241m*\u001b[39m\u001b[38;5;28mself\u001b[39m\u001b[38;5;241m.\u001b[39m_forward_hooks\u001b[38;5;241m.\u001b[39mitems(),\n\u001b[1;32m   1608\u001b[0m     ):\n\u001b[1;32m   1609\u001b[0m         \u001b[38;5;66;03m# mark that always called hook is run\u001b[39;00m\n",
      "File \u001b[0;32m~/repos/representation-structure-comparison/.env/lib/python3.10/site-packages/transformers/models/gemma2/modeling_gemma2.py:842\u001b[0m, in \u001b[0;36mGemma2ForCausalLM.forward\u001b[0;34m(self, input_ids, attention_mask, position_ids, past_key_values, inputs_embeds, labels, use_cache, output_attentions, output_hidden_states, return_dict, cache_position, num_logits_to_keep, **loss_kwargs)\u001b[0m\n\u001b[1;32m    840\u001b[0m return_dict \u001b[38;5;241m=\u001b[39m return_dict \u001b[38;5;28;01mif\u001b[39;00m return_dict \u001b[38;5;129;01mis\u001b[39;00m \u001b[38;5;129;01mnot\u001b[39;00m \u001b[38;5;28;01mNone\u001b[39;00m \u001b[38;5;28;01melse\u001b[39;00m \u001b[38;5;28mself\u001b[39m\u001b[38;5;241m.\u001b[39mconfig\u001b[38;5;241m.\u001b[39muse_return_dict\n\u001b[1;32m    841\u001b[0m \u001b[38;5;66;03m# decoder outputs consists of (dec_features, layer_state, dec_hidden, dec_attn)\u001b[39;00m\n\u001b[0;32m--> 842\u001b[0m outputs \u001b[38;5;241m=\u001b[39m \u001b[38;5;28;43mself\u001b[39;49m\u001b[38;5;241;43m.\u001b[39;49m\u001b[43mmodel\u001b[49m\u001b[43m(\u001b[49m\n\u001b[1;32m    843\u001b[0m \u001b[43m    \u001b[49m\u001b[43minput_ids\u001b[49m\u001b[38;5;241;43m=\u001b[39;49m\u001b[43minput_ids\u001b[49m\u001b[43m,\u001b[49m\n\u001b[1;32m    844\u001b[0m \u001b[43m    \u001b[49m\u001b[43mattention_mask\u001b[49m\u001b[38;5;241;43m=\u001b[39;49m\u001b[43mattention_mask\u001b[49m\u001b[43m,\u001b[49m\n\u001b[1;32m    845\u001b[0m \u001b[43m    \u001b[49m\u001b[43mposition_ids\u001b[49m\u001b[38;5;241;43m=\u001b[39;49m\u001b[43mposition_ids\u001b[49m\u001b[43m,\u001b[49m\n\u001b[1;32m    846\u001b[0m \u001b[43m    \u001b[49m\u001b[43mpast_key_values\u001b[49m\u001b[38;5;241;43m=\u001b[39;49m\u001b[43mpast_key_values\u001b[49m\u001b[43m,\u001b[49m\n\u001b[1;32m    847\u001b[0m \u001b[43m    \u001b[49m\u001b[43minputs_embeds\u001b[49m\u001b[38;5;241;43m=\u001b[39;49m\u001b[43minputs_embeds\u001b[49m\u001b[43m,\u001b[49m\n\u001b[1;32m    848\u001b[0m \u001b[43m    \u001b[49m\u001b[43muse_cache\u001b[49m\u001b[38;5;241;43m=\u001b[39;49m\u001b[43muse_cache\u001b[49m\u001b[43m,\u001b[49m\n\u001b[1;32m    849\u001b[0m \u001b[43m    \u001b[49m\u001b[43moutput_attentions\u001b[49m\u001b[38;5;241;43m=\u001b[39;49m\u001b[43moutput_attentions\u001b[49m\u001b[43m,\u001b[49m\n\u001b[1;32m    850\u001b[0m \u001b[43m    \u001b[49m\u001b[43moutput_hidden_states\u001b[49m\u001b[38;5;241;43m=\u001b[39;49m\u001b[43moutput_hidden_states\u001b[49m\u001b[43m,\u001b[49m\n\u001b[1;32m    851\u001b[0m \u001b[43m    \u001b[49m\u001b[43mreturn_dict\u001b[49m\u001b[38;5;241;43m=\u001b[39;49m\u001b[43mreturn_dict\u001b[49m\u001b[43m,\u001b[49m\n\u001b[1;32m    852\u001b[0m \u001b[43m    \u001b[49m\u001b[43mcache_position\u001b[49m\u001b[38;5;241;43m=\u001b[39;49m\u001b[43mcache_position\u001b[49m\u001b[43m,\u001b[49m\n\u001b[1;32m    853\u001b[0m \u001b[43m\u001b[49m\u001b[43m)\u001b[49m\n\u001b[1;32m    855\u001b[0m hidden_states \u001b[38;5;241m=\u001b[39m outputs[\u001b[38;5;241m0\u001b[39m]\n\u001b[1;32m    856\u001b[0m \u001b[38;5;66;03m# Only compute necessary logits, and do not upcast them to float if we are not computing the loss\u001b[39;00m\n",
      "File \u001b[0;32m~/repos/representation-structure-comparison/.env/lib/python3.10/site-packages/torch/nn/modules/module.py:1553\u001b[0m, in \u001b[0;36mModule._wrapped_call_impl\u001b[0;34m(self, *args, **kwargs)\u001b[0m\n\u001b[1;32m   1551\u001b[0m     \u001b[38;5;28;01mreturn\u001b[39;00m \u001b[38;5;28mself\u001b[39m\u001b[38;5;241m.\u001b[39m_compiled_call_impl(\u001b[38;5;241m*\u001b[39margs, \u001b[38;5;241m*\u001b[39m\u001b[38;5;241m*\u001b[39mkwargs)  \u001b[38;5;66;03m# type: ignore[misc]\u001b[39;00m\n\u001b[1;32m   1552\u001b[0m \u001b[38;5;28;01melse\u001b[39;00m:\n\u001b[0;32m-> 1553\u001b[0m     \u001b[38;5;28;01mreturn\u001b[39;00m \u001b[38;5;28;43mself\u001b[39;49m\u001b[38;5;241;43m.\u001b[39;49m\u001b[43m_call_impl\u001b[49m\u001b[43m(\u001b[49m\u001b[38;5;241;43m*\u001b[39;49m\u001b[43margs\u001b[49m\u001b[43m,\u001b[49m\u001b[43m \u001b[49m\u001b[38;5;241;43m*\u001b[39;49m\u001b[38;5;241;43m*\u001b[39;49m\u001b[43mkwargs\u001b[49m\u001b[43m)\u001b[49m\n",
      "File \u001b[0;32m~/repos/representation-structure-comparison/.env/lib/python3.10/site-packages/torch/nn/modules/module.py:1603\u001b[0m, in \u001b[0;36mModule._call_impl\u001b[0;34m(self, *args, **kwargs)\u001b[0m\n\u001b[1;32m   1600\u001b[0m     bw_hook \u001b[38;5;241m=\u001b[39m hooks\u001b[38;5;241m.\u001b[39mBackwardHook(\u001b[38;5;28mself\u001b[39m, full_backward_hooks, backward_pre_hooks)\n\u001b[1;32m   1601\u001b[0m     args \u001b[38;5;241m=\u001b[39m bw_hook\u001b[38;5;241m.\u001b[39msetup_input_hook(args)\n\u001b[0;32m-> 1603\u001b[0m result \u001b[38;5;241m=\u001b[39m \u001b[43mforward_call\u001b[49m\u001b[43m(\u001b[49m\u001b[38;5;241;43m*\u001b[39;49m\u001b[43margs\u001b[49m\u001b[43m,\u001b[49m\u001b[43m \u001b[49m\u001b[38;5;241;43m*\u001b[39;49m\u001b[38;5;241;43m*\u001b[39;49m\u001b[43mkwargs\u001b[49m\u001b[43m)\u001b[49m\n\u001b[1;32m   1604\u001b[0m \u001b[38;5;28;01mif\u001b[39;00m _global_forward_hooks \u001b[38;5;129;01mor\u001b[39;00m \u001b[38;5;28mself\u001b[39m\u001b[38;5;241m.\u001b[39m_forward_hooks:\n\u001b[1;32m   1605\u001b[0m     \u001b[38;5;28;01mfor\u001b[39;00m hook_id, hook \u001b[38;5;129;01min\u001b[39;00m (\n\u001b[1;32m   1606\u001b[0m         \u001b[38;5;241m*\u001b[39m_global_forward_hooks\u001b[38;5;241m.\u001b[39mitems(),\n\u001b[1;32m   1607\u001b[0m         \u001b[38;5;241m*\u001b[39m\u001b[38;5;28mself\u001b[39m\u001b[38;5;241m.\u001b[39m_forward_hooks\u001b[38;5;241m.\u001b[39mitems(),\n\u001b[1;32m   1608\u001b[0m     ):\n\u001b[1;32m   1609\u001b[0m         \u001b[38;5;66;03m# mark that always called hook is run\u001b[39;00m\n",
      "File \u001b[0;32m~/repos/representation-structure-comparison/.env/lib/python3.10/site-packages/transformers/models/gemma2/modeling_gemma2.py:629\u001b[0m, in \u001b[0;36mGemma2Model.forward\u001b[0;34m(self, input_ids, attention_mask, position_ids, past_key_values, inputs_embeds, use_cache, output_attentions, output_hidden_states, return_dict, cache_position, **flash_attn_kwargs)\u001b[0m\n\u001b[1;32m    617\u001b[0m     layer_outputs \u001b[38;5;241m=\u001b[39m \u001b[38;5;28mself\u001b[39m\u001b[38;5;241m.\u001b[39m_gradient_checkpointing_func(\n\u001b[1;32m    618\u001b[0m         decoder_layer\u001b[38;5;241m.\u001b[39m\u001b[38;5;21m__call__\u001b[39m,\n\u001b[1;32m    619\u001b[0m         hidden_states,\n\u001b[0;32m   (...)\u001b[0m\n\u001b[1;32m    626\u001b[0m         cache_position,\n\u001b[1;32m    627\u001b[0m     )\n\u001b[1;32m    628\u001b[0m \u001b[38;5;28;01melse\u001b[39;00m:\n\u001b[0;32m--> 629\u001b[0m     layer_outputs \u001b[38;5;241m=\u001b[39m \u001b[43mdecoder_layer\u001b[49m\u001b[43m(\u001b[49m\n\u001b[1;32m    630\u001b[0m \u001b[43m        \u001b[49m\u001b[43mhidden_states\u001b[49m\u001b[43m,\u001b[49m\n\u001b[1;32m    631\u001b[0m \u001b[43m        \u001b[49m\u001b[43mposition_embeddings\u001b[49m\u001b[38;5;241;43m=\u001b[39;49m\u001b[43mposition_embeddings\u001b[49m\u001b[43m,\u001b[49m\n\u001b[1;32m    632\u001b[0m \u001b[43m        \u001b[49m\u001b[43mattention_mask\u001b[49m\u001b[38;5;241;43m=\u001b[39;49m\u001b[43mcausal_mask\u001b[49m\u001b[43m,\u001b[49m\n\u001b[1;32m    633\u001b[0m \u001b[43m        \u001b[49m\u001b[43mposition_ids\u001b[49m\u001b[38;5;241;43m=\u001b[39;49m\u001b[43mposition_ids\u001b[49m\u001b[43m,\u001b[49m\n\u001b[1;32m    634\u001b[0m \u001b[43m        \u001b[49m\u001b[43mpast_key_value\u001b[49m\u001b[38;5;241;43m=\u001b[39;49m\u001b[43mpast_key_values\u001b[49m\u001b[43m,\u001b[49m\n\u001b[1;32m    635\u001b[0m \u001b[43m        \u001b[49m\u001b[43moutput_attentions\u001b[49m\u001b[38;5;241;43m=\u001b[39;49m\u001b[43moutput_attentions\u001b[49m\u001b[43m,\u001b[49m\n\u001b[1;32m    636\u001b[0m \u001b[43m        \u001b[49m\u001b[43muse_cache\u001b[49m\u001b[38;5;241;43m=\u001b[39;49m\u001b[43muse_cache\u001b[49m\u001b[43m,\u001b[49m\n\u001b[1;32m    637\u001b[0m \u001b[43m        \u001b[49m\u001b[43mcache_position\u001b[49m\u001b[38;5;241;43m=\u001b[39;49m\u001b[43mcache_position\u001b[49m\u001b[43m,\u001b[49m\n\u001b[1;32m    638\u001b[0m \u001b[43m        \u001b[49m\u001b[38;5;241;43m*\u001b[39;49m\u001b[38;5;241;43m*\u001b[39;49m\u001b[43mflash_attn_kwargs\u001b[49m\u001b[43m,\u001b[49m\n\u001b[1;32m    639\u001b[0m \u001b[43m    \u001b[49m\u001b[43m)\u001b[49m\n\u001b[1;32m    641\u001b[0m hidden_states \u001b[38;5;241m=\u001b[39m layer_outputs[\u001b[38;5;241m0\u001b[39m]\n\u001b[1;32m    643\u001b[0m \u001b[38;5;28;01mif\u001b[39;00m output_attentions:\n",
      "File \u001b[0;32m~/repos/representation-structure-comparison/.env/lib/python3.10/site-packages/torch/nn/modules/module.py:1553\u001b[0m, in \u001b[0;36mModule._wrapped_call_impl\u001b[0;34m(self, *args, **kwargs)\u001b[0m\n\u001b[1;32m   1551\u001b[0m     \u001b[38;5;28;01mreturn\u001b[39;00m \u001b[38;5;28mself\u001b[39m\u001b[38;5;241m.\u001b[39m_compiled_call_impl(\u001b[38;5;241m*\u001b[39margs, \u001b[38;5;241m*\u001b[39m\u001b[38;5;241m*\u001b[39mkwargs)  \u001b[38;5;66;03m# type: ignore[misc]\u001b[39;00m\n\u001b[1;32m   1552\u001b[0m \u001b[38;5;28;01melse\u001b[39;00m:\n\u001b[0;32m-> 1553\u001b[0m     \u001b[38;5;28;01mreturn\u001b[39;00m \u001b[38;5;28;43mself\u001b[39;49m\u001b[38;5;241;43m.\u001b[39;49m\u001b[43m_call_impl\u001b[49m\u001b[43m(\u001b[49m\u001b[38;5;241;43m*\u001b[39;49m\u001b[43margs\u001b[49m\u001b[43m,\u001b[49m\u001b[43m \u001b[49m\u001b[38;5;241;43m*\u001b[39;49m\u001b[38;5;241;43m*\u001b[39;49m\u001b[43mkwargs\u001b[49m\u001b[43m)\u001b[49m\n",
      "File \u001b[0;32m~/repos/representation-structure-comparison/.env/lib/python3.10/site-packages/torch/nn/modules/module.py:1603\u001b[0m, in \u001b[0;36mModule._call_impl\u001b[0;34m(self, *args, **kwargs)\u001b[0m\n\u001b[1;32m   1600\u001b[0m     bw_hook \u001b[38;5;241m=\u001b[39m hooks\u001b[38;5;241m.\u001b[39mBackwardHook(\u001b[38;5;28mself\u001b[39m, full_backward_hooks, backward_pre_hooks)\n\u001b[1;32m   1601\u001b[0m     args \u001b[38;5;241m=\u001b[39m bw_hook\u001b[38;5;241m.\u001b[39msetup_input_hook(args)\n\u001b[0;32m-> 1603\u001b[0m result \u001b[38;5;241m=\u001b[39m \u001b[43mforward_call\u001b[49m\u001b[43m(\u001b[49m\u001b[38;5;241;43m*\u001b[39;49m\u001b[43margs\u001b[49m\u001b[43m,\u001b[49m\u001b[43m \u001b[49m\u001b[38;5;241;43m*\u001b[39;49m\u001b[38;5;241;43m*\u001b[39;49m\u001b[43mkwargs\u001b[49m\u001b[43m)\u001b[49m\n\u001b[1;32m   1604\u001b[0m \u001b[38;5;28;01mif\u001b[39;00m _global_forward_hooks \u001b[38;5;129;01mor\u001b[39;00m \u001b[38;5;28mself\u001b[39m\u001b[38;5;241m.\u001b[39m_forward_hooks:\n\u001b[1;32m   1605\u001b[0m     \u001b[38;5;28;01mfor\u001b[39;00m hook_id, hook \u001b[38;5;129;01min\u001b[39;00m (\n\u001b[1;32m   1606\u001b[0m         \u001b[38;5;241m*\u001b[39m_global_forward_hooks\u001b[38;5;241m.\u001b[39mitems(),\n\u001b[1;32m   1607\u001b[0m         \u001b[38;5;241m*\u001b[39m\u001b[38;5;28mself\u001b[39m\u001b[38;5;241m.\u001b[39m_forward_hooks\u001b[38;5;241m.\u001b[39mitems(),\n\u001b[1;32m   1608\u001b[0m     ):\n\u001b[1;32m   1609\u001b[0m         \u001b[38;5;66;03m# mark that always called hook is run\u001b[39;00m\n",
      "File \u001b[0;32m~/repos/representation-structure-comparison/.env/lib/python3.10/site-packages/transformers/models/gemma2/modeling_gemma2.py:299\u001b[0m, in \u001b[0;36mGemma2DecoderLayer.forward\u001b[0;34m(self, hidden_states, position_embeddings, attention_mask, position_ids, past_key_value, output_attentions, use_cache, cache_position)\u001b[0m\n\u001b[1;32m    296\u001b[0m hidden_states \u001b[38;5;241m=\u001b[39m \u001b[38;5;28mself\u001b[39m\u001b[38;5;241m.\u001b[39minput_layernorm(hidden_states)\n\u001b[1;32m    298\u001b[0m \u001b[38;5;66;03m# Self Attention\u001b[39;00m\n\u001b[0;32m--> 299\u001b[0m hidden_states, self_attn_weights \u001b[38;5;241m=\u001b[39m \u001b[38;5;28;43mself\u001b[39;49m\u001b[38;5;241;43m.\u001b[39;49m\u001b[43mself_attn\u001b[49m\u001b[43m(\u001b[49m\n\u001b[1;32m    300\u001b[0m \u001b[43m    \u001b[49m\u001b[43mhidden_states\u001b[49m\u001b[38;5;241;43m=\u001b[39;49m\u001b[43mhidden_states\u001b[49m\u001b[43m,\u001b[49m\n\u001b[1;32m    301\u001b[0m \u001b[43m    \u001b[49m\u001b[43mposition_embeddings\u001b[49m\u001b[38;5;241;43m=\u001b[39;49m\u001b[43mposition_embeddings\u001b[49m\u001b[43m,\u001b[49m\n\u001b[1;32m    302\u001b[0m \u001b[43m    \u001b[49m\u001b[43mattention_mask\u001b[49m\u001b[38;5;241;43m=\u001b[39;49m\u001b[43mattention_mask\u001b[49m\u001b[43m,\u001b[49m\n\u001b[1;32m    303\u001b[0m \u001b[43m    \u001b[49m\u001b[43mposition_ids\u001b[49m\u001b[38;5;241;43m=\u001b[39;49m\u001b[43mposition_ids\u001b[49m\u001b[43m,\u001b[49m\n\u001b[1;32m    304\u001b[0m \u001b[43m    \u001b[49m\u001b[43mpast_key_value\u001b[49m\u001b[38;5;241;43m=\u001b[39;49m\u001b[43mpast_key_value\u001b[49m\u001b[43m,\u001b[49m\n\u001b[1;32m    305\u001b[0m \u001b[43m    \u001b[49m\u001b[43moutput_attentions\u001b[49m\u001b[38;5;241;43m=\u001b[39;49m\u001b[43moutput_attentions\u001b[49m\u001b[43m,\u001b[49m\n\u001b[1;32m    306\u001b[0m \u001b[43m    \u001b[49m\u001b[43muse_cache\u001b[49m\u001b[38;5;241;43m=\u001b[39;49m\u001b[43muse_cache\u001b[49m\u001b[43m,\u001b[49m\n\u001b[1;32m    307\u001b[0m \u001b[43m    \u001b[49m\u001b[43mcache_position\u001b[49m\u001b[38;5;241;43m=\u001b[39;49m\u001b[43mcache_position\u001b[49m\u001b[43m,\u001b[49m\n\u001b[1;32m    308\u001b[0m \u001b[43m\u001b[49m\u001b[43m)\u001b[49m\n\u001b[1;32m    309\u001b[0m hidden_states \u001b[38;5;241m=\u001b[39m \u001b[38;5;28mself\u001b[39m\u001b[38;5;241m.\u001b[39mpost_attention_layernorm(hidden_states)\n\u001b[1;32m    310\u001b[0m hidden_states \u001b[38;5;241m=\u001b[39m residual \u001b[38;5;241m+\u001b[39m hidden_states\n",
      "File \u001b[0;32m~/repos/representation-structure-comparison/.env/lib/python3.10/site-packages/torch/nn/modules/module.py:1553\u001b[0m, in \u001b[0;36mModule._wrapped_call_impl\u001b[0;34m(self, *args, **kwargs)\u001b[0m\n\u001b[1;32m   1551\u001b[0m     \u001b[38;5;28;01mreturn\u001b[39;00m \u001b[38;5;28mself\u001b[39m\u001b[38;5;241m.\u001b[39m_compiled_call_impl(\u001b[38;5;241m*\u001b[39margs, \u001b[38;5;241m*\u001b[39m\u001b[38;5;241m*\u001b[39mkwargs)  \u001b[38;5;66;03m# type: ignore[misc]\u001b[39;00m\n\u001b[1;32m   1552\u001b[0m \u001b[38;5;28;01melse\u001b[39;00m:\n\u001b[0;32m-> 1553\u001b[0m     \u001b[38;5;28;01mreturn\u001b[39;00m \u001b[38;5;28;43mself\u001b[39;49m\u001b[38;5;241;43m.\u001b[39;49m\u001b[43m_call_impl\u001b[49m\u001b[43m(\u001b[49m\u001b[38;5;241;43m*\u001b[39;49m\u001b[43margs\u001b[49m\u001b[43m,\u001b[49m\u001b[43m \u001b[49m\u001b[38;5;241;43m*\u001b[39;49m\u001b[38;5;241;43m*\u001b[39;49m\u001b[43mkwargs\u001b[49m\u001b[43m)\u001b[49m\n",
      "File \u001b[0;32m~/repos/representation-structure-comparison/.env/lib/python3.10/site-packages/torch/nn/modules/module.py:1603\u001b[0m, in \u001b[0;36mModule._call_impl\u001b[0;34m(self, *args, **kwargs)\u001b[0m\n\u001b[1;32m   1600\u001b[0m     bw_hook \u001b[38;5;241m=\u001b[39m hooks\u001b[38;5;241m.\u001b[39mBackwardHook(\u001b[38;5;28mself\u001b[39m, full_backward_hooks, backward_pre_hooks)\n\u001b[1;32m   1601\u001b[0m     args \u001b[38;5;241m=\u001b[39m bw_hook\u001b[38;5;241m.\u001b[39msetup_input_hook(args)\n\u001b[0;32m-> 1603\u001b[0m result \u001b[38;5;241m=\u001b[39m \u001b[43mforward_call\u001b[49m\u001b[43m(\u001b[49m\u001b[38;5;241;43m*\u001b[39;49m\u001b[43margs\u001b[49m\u001b[43m,\u001b[49m\u001b[43m \u001b[49m\u001b[38;5;241;43m*\u001b[39;49m\u001b[38;5;241;43m*\u001b[39;49m\u001b[43mkwargs\u001b[49m\u001b[43m)\u001b[49m\n\u001b[1;32m   1604\u001b[0m \u001b[38;5;28;01mif\u001b[39;00m _global_forward_hooks \u001b[38;5;129;01mor\u001b[39;00m \u001b[38;5;28mself\u001b[39m\u001b[38;5;241m.\u001b[39m_forward_hooks:\n\u001b[1;32m   1605\u001b[0m     \u001b[38;5;28;01mfor\u001b[39;00m hook_id, hook \u001b[38;5;129;01min\u001b[39;00m (\n\u001b[1;32m   1606\u001b[0m         \u001b[38;5;241m*\u001b[39m_global_forward_hooks\u001b[38;5;241m.\u001b[39mitems(),\n\u001b[1;32m   1607\u001b[0m         \u001b[38;5;241m*\u001b[39m\u001b[38;5;28mself\u001b[39m\u001b[38;5;241m.\u001b[39m_forward_hooks\u001b[38;5;241m.\u001b[39mitems(),\n\u001b[1;32m   1608\u001b[0m     ):\n\u001b[1;32m   1609\u001b[0m         \u001b[38;5;66;03m# mark that always called hook is run\u001b[39;00m\n",
      "File \u001b[0;32m~/repos/representation-structure-comparison/.env/lib/python3.10/site-packages/transformers/models/gemma2/modeling_gemma2.py:219\u001b[0m, in \u001b[0;36mGemma2Attention.forward\u001b[0;34m(self, hidden_states, position_embeddings, attention_mask, past_key_value, cache_position, **kwargs)\u001b[0m\n\u001b[1;32m    216\u001b[0m value_states \u001b[38;5;241m=\u001b[39m \u001b[38;5;28mself\u001b[39m\u001b[38;5;241m.\u001b[39mv_proj(hidden_states)\u001b[38;5;241m.\u001b[39mview(hidden_shape)\u001b[38;5;241m.\u001b[39mtranspose(\u001b[38;5;241m1\u001b[39m, \u001b[38;5;241m2\u001b[39m)\n\u001b[1;32m    218\u001b[0m cos, sin \u001b[38;5;241m=\u001b[39m position_embeddings\n\u001b[0;32m--> 219\u001b[0m query_states, key_states \u001b[38;5;241m=\u001b[39m \u001b[43mapply_rotary_pos_emb\u001b[49m\u001b[43m(\u001b[49m\u001b[43mquery_states\u001b[49m\u001b[43m,\u001b[49m\u001b[43m \u001b[49m\u001b[43mkey_states\u001b[49m\u001b[43m,\u001b[49m\u001b[43m \u001b[49m\u001b[43mcos\u001b[49m\u001b[43m,\u001b[49m\u001b[43m \u001b[49m\u001b[43msin\u001b[49m\u001b[43m)\u001b[49m\n\u001b[1;32m    221\u001b[0m \u001b[38;5;28;01mif\u001b[39;00m past_key_value \u001b[38;5;129;01mis\u001b[39;00m \u001b[38;5;129;01mnot\u001b[39;00m \u001b[38;5;28;01mNone\u001b[39;00m:\n\u001b[1;32m    222\u001b[0m     \u001b[38;5;66;03m# sin and cos are specific to RoPE models; cache_position needed for the static cache\u001b[39;00m\n\u001b[1;32m    223\u001b[0m     cache_kwargs \u001b[38;5;241m=\u001b[39m {\u001b[38;5;124m\"\u001b[39m\u001b[38;5;124msin\u001b[39m\u001b[38;5;124m\"\u001b[39m: sin, \u001b[38;5;124m\"\u001b[39m\u001b[38;5;124mcos\u001b[39m\u001b[38;5;124m\"\u001b[39m: cos, \u001b[38;5;124m\"\u001b[39m\u001b[38;5;124mcache_position\u001b[39m\u001b[38;5;124m\"\u001b[39m: cache_position}\n",
      "File \u001b[0;32m~/repos/representation-structure-comparison/.env/lib/python3.10/site-packages/transformers/models/gemma2/modeling_gemma2.py:123\u001b[0m, in \u001b[0;36mapply_rotary_pos_emb\u001b[0;34m(q, k, cos, sin, position_ids, unsqueeze_dim)\u001b[0m\n\u001b[1;32m    121\u001b[0m sin \u001b[38;5;241m=\u001b[39m sin\u001b[38;5;241m.\u001b[39munsqueeze(unsqueeze_dim)\n\u001b[1;32m    122\u001b[0m q_embed \u001b[38;5;241m=\u001b[39m (q \u001b[38;5;241m*\u001b[39m cos) \u001b[38;5;241m+\u001b[39m (rotate_half(q) \u001b[38;5;241m*\u001b[39m sin)\n\u001b[0;32m--> 123\u001b[0m k_embed \u001b[38;5;241m=\u001b[39m (k \u001b[38;5;241m*\u001b[39m cos) \u001b[38;5;241m+\u001b[39m (\u001b[43mrotate_half\u001b[49m\u001b[43m(\u001b[49m\u001b[43mk\u001b[49m\u001b[43m)\u001b[49m \u001b[38;5;241m*\u001b[39m sin)\n\u001b[1;32m    124\u001b[0m \u001b[38;5;28;01mreturn\u001b[39;00m q_embed, k_embed\n",
      "File \u001b[0;32m~/repos/representation-structure-comparison/.env/lib/python3.10/site-packages/transformers/models/gemma2/modeling_gemma2.py:93\u001b[0m, in \u001b[0;36mrotate_half\u001b[0;34m(x)\u001b[0m\n\u001b[1;32m     89\u001b[0m         down_proj \u001b[38;5;241m=\u001b[39m \u001b[38;5;28mself\u001b[39m\u001b[38;5;241m.\u001b[39mdown_proj(\u001b[38;5;28mself\u001b[39m\u001b[38;5;241m.\u001b[39mact_fn(\u001b[38;5;28mself\u001b[39m\u001b[38;5;241m.\u001b[39mgate_proj(x)) \u001b[38;5;241m*\u001b[39m \u001b[38;5;28mself\u001b[39m\u001b[38;5;241m.\u001b[39mup_proj(x))\n\u001b[1;32m     90\u001b[0m         \u001b[38;5;28;01mreturn\u001b[39;00m down_proj\n\u001b[0;32m---> 93\u001b[0m \u001b[38;5;28;01mdef\u001b[39;00m\u001b[38;5;250m \u001b[39m\u001b[38;5;21mrotate_half\u001b[39m(x):\n\u001b[1;32m     94\u001b[0m \u001b[38;5;250m    \u001b[39m\u001b[38;5;124;03m\"\"\"Rotates half the hidden dims of the input.\"\"\"\u001b[39;00m\n\u001b[1;32m     95\u001b[0m     x1 \u001b[38;5;241m=\u001b[39m x[\u001b[38;5;241m.\u001b[39m\u001b[38;5;241m.\u001b[39m\u001b[38;5;241m.\u001b[39m, : x\u001b[38;5;241m.\u001b[39mshape[\u001b[38;5;241m-\u001b[39m\u001b[38;5;241m1\u001b[39m] \u001b[38;5;241m/\u001b[39m\u001b[38;5;241m/\u001b[39m \u001b[38;5;241m2\u001b[39m]\n",
      "\u001b[0;31mKeyboardInterrupt\u001b[0m: "
     ]
    }
   ],
   "source": [
    "from tqdm.auto import tqdm, trange\n",
    "from torchmetrics import MeanMetric\n",
    "\n",
    "\n",
    "def evaluate_template(\n",
    "    base_model, chat_model, template, dataset, batch_size=8, max_num_tokens=10_000\n",
    "):\n",
    "    base_entropy = RunningMeanStd()\n",
    "    base_entropy_metric = MeanMetric().to(base_device)\n",
    "    chat_entropy = RunningMeanStd()\n",
    "    chat_entropy_metric = MeanMetric().to(chat_device)\n",
    "    num_tokens = 0\n",
    "    pbar = tqdm(total=max_num_tokens, desc=\"Token processed\")\n",
    "    for i in trange(0, len(dataset), batch_size, desc=\"Batch processed\"):\n",
    "        batch = dataset[i : min(i + batch_size, len(dataset))]\n",
    "        get_batch = lambda:chat_model.tokenizer.apply_chat_template(\n",
    "            batch,\n",
    "            chat_template=template,\n",
    "            return_dict=True,\n",
    "            return_tensors=\"pt\",\n",
    "            return_assistant_tokens_mask=True,\n",
    "            truncation=True,\n",
    "            max_length=1024,\n",
    "            padding=True,\n",
    "        )\n",
    "        base_batch = get_batch()\n",
    "        assistant_mask = th.tensor(base_batch[\"assistant_masks\"], dtype=th.bool)\n",
    "        base_batch[\"input_ids\"] = base_batch[\"input_ids\"].to(base_device)\n",
    "        base_batch[\"attention_mask\"] = base_batch[\"attention_mask\"].to(base_device)\n",
    "        batch_base_entropy = compute_cross_entropy(\n",
    "            base_batch,\n",
    "            base_model,\n",
    "            assistant_mask,\n",
    "        )\n",
    "        num_new_tokens = assistant_mask.sum().item()\n",
    "        assert batch_base_entropy.shape == (\n",
    "            num_new_tokens,\n",
    "        ), f\"entropy shape {batch_base_entropy.shape} != assistant_mask.sum() {num_new_tokens}\"\n",
    "        base_entropy_metric.update(batch_base_entropy)\n",
    "        base_entropy.update(batch_base_entropy)\n",
    "        chat_batch = get_batch()\n",
    "        chat_batch[\"input_ids\"] = chat_batch[\"input_ids\"].to(chat_device)\n",
    "        chat_batch[\"attention_mask\"] = chat_batch[\"attention_mask\"].to(chat_device)\n",
    "        batch_chat_entropy = compute_cross_entropy(\n",
    "            chat_batch,\n",
    "            chat_model,\n",
    "            assistant_mask,\n",
    "        )\n",
    "        chat_entropy_metric.update(batch_chat_entropy)\n",
    "        chat_entropy.update(batch_chat_entropy)\n",
    "        num_tokens += num_new_tokens\n",
    "        pbar.update(num_new_tokens)\n",
    "        if num_tokens >= max_num_tokens:\n",
    "            pbar.close()\n",
    "            break\n",
    "    return {\n",
    "        \"base\": base_entropy.compute(),\n",
    "        \"chat\": chat_entropy.compute(),\n",
    "        \"base_metric\": base_entropy_metric.compute(),\n",
    "        \"chat_metric\": chat_entropy_metric.compute(),\n",
    "    }\n",
    "\n",
    "dataset = load_dataset(\"HuggingFaceH4/ultrachat_200k\")\n",
    "# shuffle with seed 42\n",
    "th.manual_seed(42)\n",
    "randperm = th.randperm(len(dataset[\"test_sft\"]))\n",
    "dataset = dataset[\"test_sft\"][randperm.tolist()][\"messages\"]\n",
    "\n",
    "results = {}\n",
    "for name, template in tqdm(templates.items()):\n",
    "    print(name)\n",
    "    results[name] = evaluate_template(\n",
    "        base_model,\n",
    "        chat_model,\n",
    "        template,\n",
    "        dataset,\n",
    "        max_num_tokens=100_000,\n",
    "    )"
   ]
  },
  {
   "cell_type": "code",
   "execution_count": 56,
   "metadata": {},
   "outputs": [
    {
     "data": {
      "text/html": [
       "<style type=\"text/css\">\n",
       "#T_29a5b_row0_col0, #T_29a5b_row0_col1, #T_29a5b_row0_col2, #T_29a5b_row0_col3, #T_29a5b_row0_col4, #T_29a5b_row0_col5, #T_29a5b_row0_col6, #T_29a5b_row0_col7, #T_29a5b_row0_col8, #T_29a5b_row0_col9, #T_29a5b_row0_col10, #T_29a5b_row0_col11, #T_29a5b_row0_col12, #T_29a5b_row0_col13, #T_29a5b_row0_col14, #T_29a5b_row0_col15, #T_29a5b_row0_col16, #T_29a5b_row0_col17, #T_29a5b_row0_col18, #T_29a5b_row0_col19, #T_29a5b_row0_col20, #T_29a5b_row0_col21, #T_29a5b_row0_col22, #T_29a5b_row0_col23, #T_29a5b_row0_col24, #T_29a5b_row0_col25, #T_29a5b_row0_col26, #T_29a5b_row0_col27, #T_29a5b_row0_col28, #T_29a5b_row0_col29, #T_29a5b_row0_col30, #T_29a5b_row0_col31, #T_29a5b_row0_col32, #T_29a5b_row0_col33, #T_29a5b_row0_col34, #T_29a5b_row0_col35 {\n",
       "  white-space: pre;\n",
       "  font-family: monospace;\n",
       "  text-align: left;\n",
       "}\n",
       "</style>\n",
       "<table id=\"T_29a5b\">\n",
       "  <thead>\n",
       "    <tr>\n",
       "      <th class=\"blank level0\" >&nbsp;</th>\n",
       "      <th id=\"T_29a5b_level0_col0\" class=\"col_heading level0 col0\" >default_default</th>\n",
       "      <th id=\"T_29a5b_level0_col1\" class=\"col_heading level0 col1\" >default_blockquote</th>\n",
       "      <th id=\"T_29a5b_level0_col2\" class=\"col_heading level0 col2\" >default_code</th>\n",
       "      <th id=\"T_29a5b_level0_col3\" class=\"col_heading level0 col3\" >default_em</th>\n",
       "      <th id=\"T_29a5b_level0_col4\" class=\"col_heading level0 col4\" >assistant_default</th>\n",
       "      <th id=\"T_29a5b_level0_col5\" class=\"col_heading level0 col5\" >assistant_blockquote</th>\n",
       "      <th id=\"T_29a5b_level0_col6\" class=\"col_heading level0 col6\" >assistant_code</th>\n",
       "      <th id=\"T_29a5b_level0_col7\" class=\"col_heading level0 col7\" >assistant_em</th>\n",
       "      <th id=\"T_29a5b_level0_col8\" class=\"col_heading level0 col8\" >human_default</th>\n",
       "      <th id=\"T_29a5b_level0_col9\" class=\"col_heading level0 col9\" >human_blockquote</th>\n",
       "      <th id=\"T_29a5b_level0_col10\" class=\"col_heading level0 col10\" >human_code</th>\n",
       "      <th id=\"T_29a5b_level0_col11\" class=\"col_heading level0 col11\" >human_em</th>\n",
       "      <th id=\"T_29a5b_level0_col12\" class=\"col_heading level0 col12\" >assistant_human_default</th>\n",
       "      <th id=\"T_29a5b_level0_col13\" class=\"col_heading level0 col13\" >assistant_human_blockquote</th>\n",
       "      <th id=\"T_29a5b_level0_col14\" class=\"col_heading level0 col14\" >assistant_human_code</th>\n",
       "      <th id=\"T_29a5b_level0_col15\" class=\"col_heading level0 col15\" >assistant_human_em</th>\n",
       "      <th id=\"T_29a5b_level0_col16\" class=\"col_heading level0 col16\" >human_human_default</th>\n",
       "      <th id=\"T_29a5b_level0_col17\" class=\"col_heading level0 col17\" >human_human_blockquote</th>\n",
       "      <th id=\"T_29a5b_level0_col18\" class=\"col_heading level0 col18\" >human_human_code</th>\n",
       "      <th id=\"T_29a5b_level0_col19\" class=\"col_heading level0 col19\" >human_human_em</th>\n",
       "      <th id=\"T_29a5b_level0_col20\" class=\"col_heading level0 col20\" >user_user_default</th>\n",
       "      <th id=\"T_29a5b_level0_col21\" class=\"col_heading level0 col21\" >user_user_blockquote</th>\n",
       "      <th id=\"T_29a5b_level0_col22\" class=\"col_heading level0 col22\" >user_user_code</th>\n",
       "      <th id=\"T_29a5b_level0_col23\" class=\"col_heading level0 col23\" >user_user_em</th>\n",
       "      <th id=\"T_29a5b_level0_col24\" class=\"col_heading level0 col24\" >assistant_assistant_default</th>\n",
       "      <th id=\"T_29a5b_level0_col25\" class=\"col_heading level0 col25\" >assistant_assistant_blockquote</th>\n",
       "      <th id=\"T_29a5b_level0_col26\" class=\"col_heading level0 col26\" >assistant_assistant_code</th>\n",
       "      <th id=\"T_29a5b_level0_col27\" class=\"col_heading level0 col27\" >assistant_assistant_em</th>\n",
       "      <th id=\"T_29a5b_level0_col28\" class=\"col_heading level0 col28\" >model_model_default</th>\n",
       "      <th id=\"T_29a5b_level0_col29\" class=\"col_heading level0 col29\" >model_model_blockquote</th>\n",
       "      <th id=\"T_29a5b_level0_col30\" class=\"col_heading level0 col30\" >model_model_code</th>\n",
       "      <th id=\"T_29a5b_level0_col31\" class=\"col_heading level0 col31\" >model_model_em</th>\n",
       "      <th id=\"T_29a5b_level0_col32\" class=\"col_heading level0 col32\" >4chan_default</th>\n",
       "      <th id=\"T_29a5b_level0_col33\" class=\"col_heading level0 col33\" >4chan_blockquote</th>\n",
       "      <th id=\"T_29a5b_level0_col34\" class=\"col_heading level0 col34\" >4chan_code</th>\n",
       "      <th id=\"T_29a5b_level0_col35\" class=\"col_heading level0 col35\" >4chan_em</th>\n",
       "    </tr>\n",
       "  </thead>\n",
       "  <tbody>\n",
       "    <tr>\n",
       "      <th id=\"T_29a5b_level0_row0\" class=\"row_heading level0 row0\" >0</th>\n",
       "      <td id=\"T_29a5b_row0_col0\" class=\"data row0 col0\" >&lt;bos&gt;&lt;start_of_turn&gt;user\n",
       "Hello, how are you?&lt;end_of_turn&gt;\n",
       "&lt;start_of_turn&gt;model\n",
       "I&#39;m fine, thank you!&lt;end_of_turn&gt;\n",
       "&lt;start_of_turn&gt;user\n",
       "What is your name?&lt;end_of_turn&gt;\n",
       "&lt;start_of_turn&gt;model\n",
       "My name is Gemma.&lt;end_of_turn&gt;\n",
       "</td>\n",
       "      <td id=\"T_29a5b_row0_col1\" class=\"data row0 col1\" >&lt;bos&gt;&lt;blockquote&gt;user\n",
       "Hello, how are you?&lt;/blockquote&gt;\n",
       "&lt;blockquote&gt;model\n",
       "I&#39;m fine, thank you!&lt;/blockquote&gt;\n",
       "&lt;blockquote&gt;user\n",
       "What is your name?&lt;/blockquote&gt;\n",
       "&lt;blockquote&gt;model\n",
       "My name is Gemma.&lt;/blockquote&gt;\n",
       "</td>\n",
       "      <td id=\"T_29a5b_row0_col2\" class=\"data row0 col2\" >&lt;bos&gt;&lt;code&gt;user\n",
       "Hello, how are you?&lt;/code&gt;\n",
       "&lt;code&gt;model\n",
       "I&#39;m fine, thank you!&lt;/code&gt;\n",
       "&lt;code&gt;user\n",
       "What is your name?&lt;/code&gt;\n",
       "&lt;code&gt;model\n",
       "My name is Gemma.&lt;/code&gt;\n",
       "</td>\n",
       "      <td id=\"T_29a5b_row0_col3\" class=\"data row0 col3\" >&lt;bos&gt;&lt;em&gt;user\n",
       "Hello, how are you?&lt;/em&gt;\n",
       "&lt;em&gt;model\n",
       "I&#39;m fine, thank you!&lt;/em&gt;\n",
       "&lt;em&gt;user\n",
       "What is your name?&lt;/em&gt;\n",
       "&lt;em&gt;model\n",
       "My name is Gemma.&lt;/em&gt;\n",
       "</td>\n",
       "      <td id=\"T_29a5b_row0_col4\" class=\"data row0 col4\" >&lt;bos&gt;&lt;start_of_turn&gt;user\n",
       "Hello, how are you?&lt;end_of_turn&gt;\n",
       "&lt;start_of_turn&gt;assistant\n",
       "I&#39;m fine, thank you!&lt;end_of_turn&gt;\n",
       "&lt;start_of_turn&gt;user\n",
       "What is your name?&lt;end_of_turn&gt;\n",
       "&lt;start_of_turn&gt;assistant\n",
       "My name is Gemma.&lt;end_of_turn&gt;\n",
       "</td>\n",
       "      <td id=\"T_29a5b_row0_col5\" class=\"data row0 col5\" >&lt;bos&gt;&lt;blockquote&gt;user\n",
       "Hello, how are you?&lt;/blockquote&gt;\n",
       "&lt;blockquote&gt;assistant\n",
       "I&#39;m fine, thank you!&lt;/blockquote&gt;\n",
       "&lt;blockquote&gt;user\n",
       "What is your name?&lt;/blockquote&gt;\n",
       "&lt;blockquote&gt;assistant\n",
       "My name is Gemma.&lt;/blockquote&gt;\n",
       "</td>\n",
       "      <td id=\"T_29a5b_row0_col6\" class=\"data row0 col6\" >&lt;bos&gt;&lt;code&gt;user\n",
       "Hello, how are you?&lt;/code&gt;\n",
       "&lt;code&gt;assistant\n",
       "I&#39;m fine, thank you!&lt;/code&gt;\n",
       "&lt;code&gt;user\n",
       "What is your name?&lt;/code&gt;\n",
       "&lt;code&gt;assistant\n",
       "My name is Gemma.&lt;/code&gt;\n",
       "</td>\n",
       "      <td id=\"T_29a5b_row0_col7\" class=\"data row0 col7\" >&lt;bos&gt;&lt;em&gt;user\n",
       "Hello, how are you?&lt;/em&gt;\n",
       "&lt;em&gt;assistant\n",
       "I&#39;m fine, thank you!&lt;/em&gt;\n",
       "&lt;em&gt;user\n",
       "What is your name?&lt;/em&gt;\n",
       "&lt;em&gt;assistant\n",
       "My name is Gemma.&lt;/em&gt;\n",
       "</td>\n",
       "      <td id=\"T_29a5b_row0_col8\" class=\"data row0 col8\" >&lt;bos&gt;&lt;start_of_turn&gt;human\n",
       "Hello, how are you?&lt;end_of_turn&gt;\n",
       "&lt;start_of_turn&gt;model\n",
       "I&#39;m fine, thank you!&lt;end_of_turn&gt;\n",
       "&lt;start_of_turn&gt;human\n",
       "What is your name?&lt;end_of_turn&gt;\n",
       "&lt;start_of_turn&gt;model\n",
       "My name is Gemma.&lt;end_of_turn&gt;\n",
       "</td>\n",
       "      <td id=\"T_29a5b_row0_col9\" class=\"data row0 col9\" >&lt;bos&gt;&lt;blockquote&gt;human\n",
       "Hello, how are you?&lt;/blockquote&gt;\n",
       "&lt;blockquote&gt;model\n",
       "I&#39;m fine, thank you!&lt;/blockquote&gt;\n",
       "&lt;blockquote&gt;human\n",
       "What is your name?&lt;/blockquote&gt;\n",
       "&lt;blockquote&gt;model\n",
       "My name is Gemma.&lt;/blockquote&gt;\n",
       "</td>\n",
       "      <td id=\"T_29a5b_row0_col10\" class=\"data row0 col10\" >&lt;bos&gt;&lt;code&gt;human\n",
       "Hello, how are you?&lt;/code&gt;\n",
       "&lt;code&gt;model\n",
       "I&#39;m fine, thank you!&lt;/code&gt;\n",
       "&lt;code&gt;human\n",
       "What is your name?&lt;/code&gt;\n",
       "&lt;code&gt;model\n",
       "My name is Gemma.&lt;/code&gt;\n",
       "</td>\n",
       "      <td id=\"T_29a5b_row0_col11\" class=\"data row0 col11\" >&lt;bos&gt;&lt;em&gt;human\n",
       "Hello, how are you?&lt;/em&gt;\n",
       "&lt;em&gt;model\n",
       "I&#39;m fine, thank you!&lt;/em&gt;\n",
       "&lt;em&gt;human\n",
       "What is your name?&lt;/em&gt;\n",
       "&lt;em&gt;model\n",
       "My name is Gemma.&lt;/em&gt;\n",
       "</td>\n",
       "      <td id=\"T_29a5b_row0_col12\" class=\"data row0 col12\" >&lt;bos&gt;&lt;start_of_turn&gt;human\n",
       "Hello, how are you?&lt;end_of_turn&gt;\n",
       "&lt;start_of_turn&gt;assistant\n",
       "I&#39;m fine, thank you!&lt;end_of_turn&gt;\n",
       "&lt;start_of_turn&gt;human\n",
       "What is your name?&lt;end_of_turn&gt;\n",
       "&lt;start_of_turn&gt;assistant\n",
       "My name is Gemma.&lt;end_of_turn&gt;\n",
       "</td>\n",
       "      <td id=\"T_29a5b_row0_col13\" class=\"data row0 col13\" >&lt;bos&gt;&lt;blockquote&gt;human\n",
       "Hello, how are you?&lt;/blockquote&gt;\n",
       "&lt;blockquote&gt;assistant\n",
       "I&#39;m fine, thank you!&lt;/blockquote&gt;\n",
       "&lt;blockquote&gt;human\n",
       "What is your name?&lt;/blockquote&gt;\n",
       "&lt;blockquote&gt;assistant\n",
       "My name is Gemma.&lt;/blockquote&gt;\n",
       "</td>\n",
       "      <td id=\"T_29a5b_row0_col14\" class=\"data row0 col14\" >&lt;bos&gt;&lt;code&gt;human\n",
       "Hello, how are you?&lt;/code&gt;\n",
       "&lt;code&gt;assistant\n",
       "I&#39;m fine, thank you!&lt;/code&gt;\n",
       "&lt;code&gt;human\n",
       "What is your name?&lt;/code&gt;\n",
       "&lt;code&gt;assistant\n",
       "My name is Gemma.&lt;/code&gt;\n",
       "</td>\n",
       "      <td id=\"T_29a5b_row0_col15\" class=\"data row0 col15\" >&lt;bos&gt;&lt;em&gt;human\n",
       "Hello, how are you?&lt;/em&gt;\n",
       "&lt;em&gt;assistant\n",
       "I&#39;m fine, thank you!&lt;/em&gt;\n",
       "&lt;em&gt;human\n",
       "What is your name?&lt;/em&gt;\n",
       "&lt;em&gt;assistant\n",
       "My name is Gemma.&lt;/em&gt;\n",
       "</td>\n",
       "      <td id=\"T_29a5b_row0_col16\" class=\"data row0 col16\" >&lt;bos&gt;&lt;start_of_turn&gt;human\n",
       "Hello, how are you?&lt;end_of_turn&gt;\n",
       "&lt;start_of_turn&gt;human\n",
       "I&#39;m fine, thank you!&lt;end_of_turn&gt;\n",
       "&lt;start_of_turn&gt;human\n",
       "What is your name?&lt;end_of_turn&gt;\n",
       "&lt;start_of_turn&gt;human\n",
       "My name is Gemma.&lt;end_of_turn&gt;\n",
       "</td>\n",
       "      <td id=\"T_29a5b_row0_col17\" class=\"data row0 col17\" >&lt;bos&gt;&lt;blockquote&gt;human\n",
       "Hello, how are you?&lt;/blockquote&gt;\n",
       "&lt;blockquote&gt;human\n",
       "I&#39;m fine, thank you!&lt;/blockquote&gt;\n",
       "&lt;blockquote&gt;human\n",
       "What is your name?&lt;/blockquote&gt;\n",
       "&lt;blockquote&gt;human\n",
       "My name is Gemma.&lt;/blockquote&gt;\n",
       "</td>\n",
       "      <td id=\"T_29a5b_row0_col18\" class=\"data row0 col18\" >&lt;bos&gt;&lt;code&gt;human\n",
       "Hello, how are you?&lt;/code&gt;\n",
       "&lt;code&gt;human\n",
       "I&#39;m fine, thank you!&lt;/code&gt;\n",
       "&lt;code&gt;human\n",
       "What is your name?&lt;/code&gt;\n",
       "&lt;code&gt;human\n",
       "My name is Gemma.&lt;/code&gt;\n",
       "</td>\n",
       "      <td id=\"T_29a5b_row0_col19\" class=\"data row0 col19\" >&lt;bos&gt;&lt;em&gt;human\n",
       "Hello, how are you?&lt;/em&gt;\n",
       "&lt;em&gt;human\n",
       "I&#39;m fine, thank you!&lt;/em&gt;\n",
       "&lt;em&gt;human\n",
       "What is your name?&lt;/em&gt;\n",
       "&lt;em&gt;human\n",
       "My name is Gemma.&lt;/em&gt;\n",
       "</td>\n",
       "      <td id=\"T_29a5b_row0_col20\" class=\"data row0 col20\" >&lt;bos&gt;&lt;start_of_turn&gt;user\n",
       "Hello, how are you?&lt;end_of_turn&gt;\n",
       "&lt;start_of_turn&gt;user\n",
       "I&#39;m fine, thank you!&lt;end_of_turn&gt;\n",
       "&lt;start_of_turn&gt;user\n",
       "What is your name?&lt;end_of_turn&gt;\n",
       "&lt;start_of_turn&gt;user\n",
       "My name is Gemma.&lt;end_of_turn&gt;\n",
       "</td>\n",
       "      <td id=\"T_29a5b_row0_col21\" class=\"data row0 col21\" >&lt;bos&gt;&lt;blockquote&gt;user\n",
       "Hello, how are you?&lt;/blockquote&gt;\n",
       "&lt;blockquote&gt;user\n",
       "I&#39;m fine, thank you!&lt;/blockquote&gt;\n",
       "&lt;blockquote&gt;user\n",
       "What is your name?&lt;/blockquote&gt;\n",
       "&lt;blockquote&gt;user\n",
       "My name is Gemma.&lt;/blockquote&gt;\n",
       "</td>\n",
       "      <td id=\"T_29a5b_row0_col22\" class=\"data row0 col22\" >&lt;bos&gt;&lt;code&gt;user\n",
       "Hello, how are you?&lt;/code&gt;\n",
       "&lt;code&gt;user\n",
       "I&#39;m fine, thank you!&lt;/code&gt;\n",
       "&lt;code&gt;user\n",
       "What is your name?&lt;/code&gt;\n",
       "&lt;code&gt;user\n",
       "My name is Gemma.&lt;/code&gt;\n",
       "</td>\n",
       "      <td id=\"T_29a5b_row0_col23\" class=\"data row0 col23\" >&lt;bos&gt;&lt;em&gt;user\n",
       "Hello, how are you?&lt;/em&gt;\n",
       "&lt;em&gt;user\n",
       "I&#39;m fine, thank you!&lt;/em&gt;\n",
       "&lt;em&gt;user\n",
       "What is your name?&lt;/em&gt;\n",
       "&lt;em&gt;user\n",
       "My name is Gemma.&lt;/em&gt;\n",
       "</td>\n",
       "      <td id=\"T_29a5b_row0_col24\" class=\"data row0 col24\" >&lt;bos&gt;&lt;start_of_turn&gt;assistant\n",
       "Hello, how are you?&lt;end_of_turn&gt;\n",
       "&lt;start_of_turn&gt;assistant\n",
       "I&#39;m fine, thank you!&lt;end_of_turn&gt;\n",
       "&lt;start_of_turn&gt;assistant\n",
       "What is your name?&lt;end_of_turn&gt;\n",
       "&lt;start_of_turn&gt;assistant\n",
       "My name is Gemma.&lt;end_of_turn&gt;\n",
       "</td>\n",
       "      <td id=\"T_29a5b_row0_col25\" class=\"data row0 col25\" >&lt;bos&gt;&lt;blockquote&gt;assistant\n",
       "Hello, how are you?&lt;/blockquote&gt;\n",
       "&lt;blockquote&gt;assistant\n",
       "I&#39;m fine, thank you!&lt;/blockquote&gt;\n",
       "&lt;blockquote&gt;assistant\n",
       "What is your name?&lt;/blockquote&gt;\n",
       "&lt;blockquote&gt;assistant\n",
       "My name is Gemma.&lt;/blockquote&gt;\n",
       "</td>\n",
       "      <td id=\"T_29a5b_row0_col26\" class=\"data row0 col26\" >&lt;bos&gt;&lt;code&gt;assistant\n",
       "Hello, how are you?&lt;/code&gt;\n",
       "&lt;code&gt;assistant\n",
       "I&#39;m fine, thank you!&lt;/code&gt;\n",
       "&lt;code&gt;assistant\n",
       "What is your name?&lt;/code&gt;\n",
       "&lt;code&gt;assistant\n",
       "My name is Gemma.&lt;/code&gt;\n",
       "</td>\n",
       "      <td id=\"T_29a5b_row0_col27\" class=\"data row0 col27\" >&lt;bos&gt;&lt;em&gt;assistant\n",
       "Hello, how are you?&lt;/em&gt;\n",
       "&lt;em&gt;assistant\n",
       "I&#39;m fine, thank you!&lt;/em&gt;\n",
       "&lt;em&gt;assistant\n",
       "What is your name?&lt;/em&gt;\n",
       "&lt;em&gt;assistant\n",
       "My name is Gemma.&lt;/em&gt;\n",
       "</td>\n",
       "      <td id=\"T_29a5b_row0_col28\" class=\"data row0 col28\" >&lt;bos&gt;&lt;start_of_turn&gt;model\n",
       "Hello, how are you?&lt;end_of_turn&gt;\n",
       "&lt;start_of_turn&gt;model\n",
       "I&#39;m fine, thank you!&lt;end_of_turn&gt;\n",
       "&lt;start_of_turn&gt;model\n",
       "What is your name?&lt;end_of_turn&gt;\n",
       "&lt;start_of_turn&gt;model\n",
       "My name is Gemma.&lt;end_of_turn&gt;\n",
       "</td>\n",
       "      <td id=\"T_29a5b_row0_col29\" class=\"data row0 col29\" >&lt;bos&gt;&lt;blockquote&gt;model\n",
       "Hello, how are you?&lt;/blockquote&gt;\n",
       "&lt;blockquote&gt;model\n",
       "I&#39;m fine, thank you!&lt;/blockquote&gt;\n",
       "&lt;blockquote&gt;model\n",
       "What is your name?&lt;/blockquote&gt;\n",
       "&lt;blockquote&gt;model\n",
       "My name is Gemma.&lt;/blockquote&gt;\n",
       "</td>\n",
       "      <td id=\"T_29a5b_row0_col30\" class=\"data row0 col30\" >&lt;bos&gt;&lt;code&gt;model\n",
       "Hello, how are you?&lt;/code&gt;\n",
       "&lt;code&gt;model\n",
       "I&#39;m fine, thank you!&lt;/code&gt;\n",
       "&lt;code&gt;model\n",
       "What is your name?&lt;/code&gt;\n",
       "&lt;code&gt;model\n",
       "My name is Gemma.&lt;/code&gt;\n",
       "</td>\n",
       "      <td id=\"T_29a5b_row0_col31\" class=\"data row0 col31\" >&lt;bos&gt;&lt;em&gt;model\n",
       "Hello, how are you?&lt;/em&gt;\n",
       "&lt;em&gt;model\n",
       "I&#39;m fine, thank you!&lt;/em&gt;\n",
       "&lt;em&gt;model\n",
       "What is your name?&lt;/em&gt;\n",
       "&lt;em&gt;model\n",
       "My name is Gemma.&lt;/em&gt;\n",
       "</td>\n",
       "      <td id=\"T_29a5b_row0_col32\" class=\"data row0 col32\" >&lt;bos&gt;&lt;start_of_turn&gt;MemeMaster\n",
       "Hello, how are you?&lt;end_of_turn&gt;\n",
       "&lt;start_of_turn&gt;Anon123\n",
       "I&#39;m fine, thank you!&lt;end_of_turn&gt;\n",
       "&lt;start_of_turn&gt;MemeMaster\n",
       "What is your name?&lt;end_of_turn&gt;\n",
       "&lt;start_of_turn&gt;Anon123\n",
       "My name is Gemma.&lt;end_of_turn&gt;\n",
       "</td>\n",
       "      <td id=\"T_29a5b_row0_col33\" class=\"data row0 col33\" >&lt;bos&gt;&lt;blockquote&gt;MemeMaster\n",
       "Hello, how are you?&lt;/blockquote&gt;\n",
       "&lt;blockquote&gt;Anon123\n",
       "I&#39;m fine, thank you!&lt;/blockquote&gt;\n",
       "&lt;blockquote&gt;MemeMaster\n",
       "What is your name?&lt;/blockquote&gt;\n",
       "&lt;blockquote&gt;Anon123\n",
       "My name is Gemma.&lt;/blockquote&gt;\n",
       "</td>\n",
       "      <td id=\"T_29a5b_row0_col34\" class=\"data row0 col34\" >&lt;bos&gt;&lt;code&gt;MemeMaster\n",
       "Hello, how are you?&lt;/code&gt;\n",
       "&lt;code&gt;Anon123\n",
       "I&#39;m fine, thank you!&lt;/code&gt;\n",
       "&lt;code&gt;MemeMaster\n",
       "What is your name?&lt;/code&gt;\n",
       "&lt;code&gt;Anon123\n",
       "My name is Gemma.&lt;/code&gt;\n",
       "</td>\n",
       "      <td id=\"T_29a5b_row0_col35\" class=\"data row0 col35\" >&lt;bos&gt;&lt;em&gt;MemeMaster\n",
       "Hello, how are you?&lt;/em&gt;\n",
       "&lt;em&gt;Anon123\n",
       "I&#39;m fine, thank you!&lt;/em&gt;\n",
       "&lt;em&gt;MemeMaster\n",
       "What is your name?&lt;/em&gt;\n",
       "&lt;em&gt;Anon123\n",
       "My name is Gemma.&lt;/em&gt;\n",
       "</td>\n",
       "    </tr>\n",
       "  </tbody>\n",
       "</table>\n"
      ],
      "text/plain": [
       "<pandas.io.formats.style.Styler at 0x7ff4262a27d0>"
      ]
     },
     "metadata": {},
     "output_type": "display_data"
    }
   ],
   "source": [
    "from IPython.display import display\n",
    "\n",
    "# Style with CSS and force text display\n",
    "tok_exs = {f\"{name[0]}_{name[1]}\": chat_model.tokenizer.apply_chat_template(sample_chat, chat_template=template, tokenize=False) for name, template in templates.items()}\n",
    "df = pd.DataFrame.from_dict(tok_exs, orient='index').transpose() # Transposed to make horizontal\n",
    "styled_df = df.style.set_properties(**{\n",
    "    'white-space': 'pre',\n",
    "    'font-family': 'monospace',\n",
    "    'text-align': 'left'\n",
    "}).format_index(str).format(escape=\"html\")\n",
    "\n",
    "display(styled_df)"
   ]
  },
  {
   "cell_type": "code",
   "execution_count": 83,
   "metadata": {},
   "outputs": [
    {
     "data": {
      "application/vnd.plotly.v1+json": {
       "config": {
        "plotlyServerURL": "https://plot.ly"
       },
       "data": [
        {
         "error_y": {
          "array": [
           0.04857205219809657,
           0.049180709317444116,
           0.04897855562035769,
           0.04609307304710342,
           0.04532416739864109,
           0.043088641597623045,
           0.043612019623820775,
           0.04134023708199619,
           0.04788119337716301,
           0.04842731116541499,
           0.047379562444780365,
           0.04401222029285412,
           0.04524643465361988,
           0.04278229587687976,
           0.04206417806040541,
           0.04037792879934443,
           0.04495579686278983,
           0.041179705900300956,
           0.041117759354915684,
           0.039307600837872325,
           0.04357444347472628,
           0.042853333815615624,
           0.043864139838702076,
           0.042429798388419204,
           0.04566245324697249,
           0.042883521697131055,
           0.04216628965867031,
           0.04001438965537618,
           0.04705602021990796,
           0.04855498111716239,
           0.04711861773882697,
           0.0437803313243359,
           0.04250892379346061,
           0.04110902254371762,
           0.040494737624206856,
           0.03879833918575315
          ],
          "arrayminus": [
           0.047959647693256446,
           0.04855134527543026,
           0.04835223829530566,
           0.04552781901985625,
           0.04477219381916031,
           0.042576752595985035,
           0.04309018961673594,
           0.04086237264339854,
           0.04728155095734543,
           0.04781118304280474,
           0.04678355052714922,
           0.043484341878749166,
           0.04469521171127333,
           0.042274457310216285,
           0.04156937260168414,
           0.039915303595671414,
           0.04440983638337981,
           0.040702611005916545,
           0.040640767713600034,
           0.03886479854497571,
           0.0430584576888422,
           0.04234909243377771,
           0.04333910781768635,
           0.04193373304347414,
           0.04510319838386456,
           0.0423741569219529,
           0.04167004077692171,
           0.039558835085432786,
           0.04647293797416063,
           0.04793621379733137,
           0.04652777353885851,
           0.04325652260852619,
           0.042007794606907733,
           0.040632822905798616,
           0.04002880164794087,
           0.03836453765463288
          ],
          "symmetric": false,
          "type": "data"
         },
         "marker": {
          "color": "royalblue"
         },
         "name": "Chat Model",
         "type": "bar",
         "x": [
          "default_default",
          "default_blockquote",
          "default_code",
          "default_em",
          "assistant_default",
          "assistant_blockquote",
          "assistant_code",
          "assistant_em",
          "human_default",
          "human_blockquote",
          "human_code",
          "human_em",
          "assistant_human_default",
          "assistant_human_blockquote",
          "assistant_human_code",
          "assistant_human_em",
          "human_human_default",
          "human_human_blockquote",
          "human_human_code",
          "human_human_em",
          "user_user_default",
          "user_user_blockquote",
          "user_user_code",
          "user_user_em",
          "assistant_assistant_default",
          "assistant_assistant_blockquote",
          "assistant_assistant_code",
          "assistant_assistant_em",
          "model_model_default",
          "model_model_blockquote",
          "model_model_code",
          "model_model_em",
          "4chan_default",
          "4chan_blockquote",
          "4chan_code",
          "4chan_em"
         ],
         "y": [
          3.8038559363082327,
          3.793972072700552,
          3.7811867850182623,
          3.7125203653627987,
          3.67637597685919,
          3.5839301628447635,
          3.601268937477826,
          3.5350196339513658,
          3.7754118283521745,
          3.757931107884094,
          3.7190265630878967,
          3.6255364548361753,
          3.66874964858077,
          3.5613646922514115,
          3.5338767189339078,
          3.4838077860722714,
          3.656820701232027,
          3.5131827448329798,
          3.503326184581125,
          3.450031791520995,
          3.6362403422742777,
          3.599069533403982,
          3.620793798677246,
          3.5867045679379563,
          3.6826191837571507,
          3.5674886963351367,
          3.5407052269779866,
          3.474715754949192,
          3.7504683514877333,
          3.761578676123916,
          3.71049487451129,
          3.6154130975305514,
          3.563364871963092,
          3.5077213417185313,
          3.4789239352878893,
          3.4312473282025318
         ]
        },
        {
         "error_y": {
          "array": [
           0.03759444681842128,
           0.0302447033207196,
           0.030404480821846658,
           0.030282771567412325,
           0.037650115668517614,
           0.030303266900407966,
           0.030591019677741915,
           0.03042896681759233,
           0.03733813366152949,
           0.030510237169715904,
           0.030533019108608617,
           0.030564903524619158,
           0.037383984318247965,
           0.030581620244360508,
           0.030782951447791085,
           0.03072748014987292,
           0.037309096933885844,
           0.03060656025907349,
           0.03066270433913898,
           0.030795252301972553,
           0.03756805860311907,
           0.030479260718112133,
           0.03053126520813132,
           0.03061823402603503,
           0.037588174253828655,
           0.030562391810684097,
           0.03061677900369375,
           0.030779063917309113,
           0.037782385029494936,
           0.03057485426176898,
           0.030580216095558832,
           0.030758393181412824,
           0.037027802154631306,
           0.03046725752538526,
           0.030506064494063345,
           0.030602706394225798
          ],
          "arrayminus": [
           0.037150702479192166,
           0.029937227078692175,
           0.030094136556973794,
           0.029974832743724367,
           0.03720532384588049,
           0.029994603005188747,
           0.030277636161955446,
           0.03011865963550342,
           0.036900340771360174,
           0.03019851004481522,
           0.030220818592896048,
           0.030252915662691837,
           0.03694524931340171,
           0.030268486009002782,
           0.03046662629147967,
           0.030412763090930994,
           0.0368719967677138,
           0.03029348507698293,
           0.03034872742989414,
           0.03047972056583781,
           0.037125568919675,
           0.030168290416813903,
           0.03021926596541391,
           0.030305317681322386,
           0.03714567021224191,
           0.030250031089098073,
           0.030303534230709417,
           0.030463807522342012,
           0.03733545548036865,
           0.03026246161823165,
           0.03026738451790356,
           0.030443441800897197,
           0.03659499637312491,
           0.030155711693234277,
           0.030193529261732355,
           0.030289502229236653
          ],
          "symmetric": false,
          "type": "data"
         },
         "marker": {
          "color": "red"
         },
         "name": "Base Model",
         "type": "bar",
         "x": [
          "default_default",
          "default_blockquote",
          "default_code",
          "default_em",
          "assistant_default",
          "assistant_blockquote",
          "assistant_code",
          "assistant_em",
          "human_default",
          "human_blockquote",
          "human_code",
          "human_em",
          "assistant_human_default",
          "assistant_human_blockquote",
          "assistant_human_code",
          "assistant_human_em",
          "human_human_default",
          "human_human_blockquote",
          "human_human_code",
          "human_human_em",
          "user_user_default",
          "user_user_blockquote",
          "user_user_code",
          "user_user_em",
          "assistant_assistant_default",
          "assistant_assistant_blockquote",
          "assistant_assistant_code",
          "assistant_assistant_em",
          "model_model_default",
          "model_model_blockquote",
          "model_model_code",
          "model_model_em",
          "4chan_default",
          "4chan_blockquote",
          "4chan_code",
          "4chan_em"
         ],
         "y": [
          3.1474432125666407,
          2.944756138785291,
          2.9483277165441306,
          2.9477316366914406,
          3.1493041800462414,
          2.944738514991182,
          2.9555599352479374,
          2.9534594992941483,
          3.147127070393894,
          2.955673825086282,
          2.955577537939488,
          2.963825075943919,
          3.148052026186248,
          2.9561103194047775,
          2.9648374756062874,
          2.9693578648711973,
          3.147244059869614,
          2.9615230765823792,
          2.963829596546791,
          2.9747584075618363,
          3.152018230105701,
          2.9568971223136122,
          2.957162381392434,
          2.9653142914389328,
          3.1553111237281026,
          2.9597617067098327,
          2.961890159358265,
          2.9742377755466527,
          3.156252606184911,
          2.9618826586376157,
          2.9587267568782334,
          2.9731298563388693,
          3.1308091145095904,
          2.949042289144972,
          2.9471421320831417,
          2.9595415615900507
         ]
        }
       ],
       "layout": {
        "barmode": "group",
        "template": {
         "data": {
          "bar": [
           {
            "error_x": {
             "color": "#2a3f5f"
            },
            "error_y": {
             "color": "#2a3f5f"
            },
            "marker": {
             "line": {
              "color": "#E5ECF6",
              "width": 0.5
             },
             "pattern": {
              "fillmode": "overlay",
              "size": 10,
              "solidity": 0.2
             }
            },
            "type": "bar"
           }
          ],
          "barpolar": [
           {
            "marker": {
             "line": {
              "color": "#E5ECF6",
              "width": 0.5
             },
             "pattern": {
              "fillmode": "overlay",
              "size": 10,
              "solidity": 0.2
             }
            },
            "type": "barpolar"
           }
          ],
          "carpet": [
           {
            "aaxis": {
             "endlinecolor": "#2a3f5f",
             "gridcolor": "white",
             "linecolor": "white",
             "minorgridcolor": "white",
             "startlinecolor": "#2a3f5f"
            },
            "baxis": {
             "endlinecolor": "#2a3f5f",
             "gridcolor": "white",
             "linecolor": "white",
             "minorgridcolor": "white",
             "startlinecolor": "#2a3f5f"
            },
            "type": "carpet"
           }
          ],
          "choropleth": [
           {
            "colorbar": {
             "outlinewidth": 0,
             "ticks": ""
            },
            "type": "choropleth"
           }
          ],
          "contour": [
           {
            "colorbar": {
             "outlinewidth": 0,
             "ticks": ""
            },
            "colorscale": [
             [
              0,
              "#0d0887"
             ],
             [
              0.1111111111111111,
              "#46039f"
             ],
             [
              0.2222222222222222,
              "#7201a8"
             ],
             [
              0.3333333333333333,
              "#9c179e"
             ],
             [
              0.4444444444444444,
              "#bd3786"
             ],
             [
              0.5555555555555556,
              "#d8576b"
             ],
             [
              0.6666666666666666,
              "#ed7953"
             ],
             [
              0.7777777777777778,
              "#fb9f3a"
             ],
             [
              0.8888888888888888,
              "#fdca26"
             ],
             [
              1,
              "#f0f921"
             ]
            ],
            "type": "contour"
           }
          ],
          "contourcarpet": [
           {
            "colorbar": {
             "outlinewidth": 0,
             "ticks": ""
            },
            "type": "contourcarpet"
           }
          ],
          "heatmap": [
           {
            "colorbar": {
             "outlinewidth": 0,
             "ticks": ""
            },
            "colorscale": [
             [
              0,
              "#0d0887"
             ],
             [
              0.1111111111111111,
              "#46039f"
             ],
             [
              0.2222222222222222,
              "#7201a8"
             ],
             [
              0.3333333333333333,
              "#9c179e"
             ],
             [
              0.4444444444444444,
              "#bd3786"
             ],
             [
              0.5555555555555556,
              "#d8576b"
             ],
             [
              0.6666666666666666,
              "#ed7953"
             ],
             [
              0.7777777777777778,
              "#fb9f3a"
             ],
             [
              0.8888888888888888,
              "#fdca26"
             ],
             [
              1,
              "#f0f921"
             ]
            ],
            "type": "heatmap"
           }
          ],
          "heatmapgl": [
           {
            "colorbar": {
             "outlinewidth": 0,
             "ticks": ""
            },
            "colorscale": [
             [
              0,
              "#0d0887"
             ],
             [
              0.1111111111111111,
              "#46039f"
             ],
             [
              0.2222222222222222,
              "#7201a8"
             ],
             [
              0.3333333333333333,
              "#9c179e"
             ],
             [
              0.4444444444444444,
              "#bd3786"
             ],
             [
              0.5555555555555556,
              "#d8576b"
             ],
             [
              0.6666666666666666,
              "#ed7953"
             ],
             [
              0.7777777777777778,
              "#fb9f3a"
             ],
             [
              0.8888888888888888,
              "#fdca26"
             ],
             [
              1,
              "#f0f921"
             ]
            ],
            "type": "heatmapgl"
           }
          ],
          "histogram": [
           {
            "marker": {
             "pattern": {
              "fillmode": "overlay",
              "size": 10,
              "solidity": 0.2
             }
            },
            "type": "histogram"
           }
          ],
          "histogram2d": [
           {
            "colorbar": {
             "outlinewidth": 0,
             "ticks": ""
            },
            "colorscale": [
             [
              0,
              "#0d0887"
             ],
             [
              0.1111111111111111,
              "#46039f"
             ],
             [
              0.2222222222222222,
              "#7201a8"
             ],
             [
              0.3333333333333333,
              "#9c179e"
             ],
             [
              0.4444444444444444,
              "#bd3786"
             ],
             [
              0.5555555555555556,
              "#d8576b"
             ],
             [
              0.6666666666666666,
              "#ed7953"
             ],
             [
              0.7777777777777778,
              "#fb9f3a"
             ],
             [
              0.8888888888888888,
              "#fdca26"
             ],
             [
              1,
              "#f0f921"
             ]
            ],
            "type": "histogram2d"
           }
          ],
          "histogram2dcontour": [
           {
            "colorbar": {
             "outlinewidth": 0,
             "ticks": ""
            },
            "colorscale": [
             [
              0,
              "#0d0887"
             ],
             [
              0.1111111111111111,
              "#46039f"
             ],
             [
              0.2222222222222222,
              "#7201a8"
             ],
             [
              0.3333333333333333,
              "#9c179e"
             ],
             [
              0.4444444444444444,
              "#bd3786"
             ],
             [
              0.5555555555555556,
              "#d8576b"
             ],
             [
              0.6666666666666666,
              "#ed7953"
             ],
             [
              0.7777777777777778,
              "#fb9f3a"
             ],
             [
              0.8888888888888888,
              "#fdca26"
             ],
             [
              1,
              "#f0f921"
             ]
            ],
            "type": "histogram2dcontour"
           }
          ],
          "mesh3d": [
           {
            "colorbar": {
             "outlinewidth": 0,
             "ticks": ""
            },
            "type": "mesh3d"
           }
          ],
          "parcoords": [
           {
            "line": {
             "colorbar": {
              "outlinewidth": 0,
              "ticks": ""
             }
            },
            "type": "parcoords"
           }
          ],
          "pie": [
           {
            "automargin": true,
            "type": "pie"
           }
          ],
          "scatter": [
           {
            "fillpattern": {
             "fillmode": "overlay",
             "size": 10,
             "solidity": 0.2
            },
            "type": "scatter"
           }
          ],
          "scatter3d": [
           {
            "line": {
             "colorbar": {
              "outlinewidth": 0,
              "ticks": ""
             }
            },
            "marker": {
             "colorbar": {
              "outlinewidth": 0,
              "ticks": ""
             }
            },
            "type": "scatter3d"
           }
          ],
          "scattercarpet": [
           {
            "marker": {
             "colorbar": {
              "outlinewidth": 0,
              "ticks": ""
             }
            },
            "type": "scattercarpet"
           }
          ],
          "scattergeo": [
           {
            "marker": {
             "colorbar": {
              "outlinewidth": 0,
              "ticks": ""
             }
            },
            "type": "scattergeo"
           }
          ],
          "scattergl": [
           {
            "marker": {
             "colorbar": {
              "outlinewidth": 0,
              "ticks": ""
             }
            },
            "type": "scattergl"
           }
          ],
          "scattermapbox": [
           {
            "marker": {
             "colorbar": {
              "outlinewidth": 0,
              "ticks": ""
             }
            },
            "type": "scattermapbox"
           }
          ],
          "scatterpolar": [
           {
            "marker": {
             "colorbar": {
              "outlinewidth": 0,
              "ticks": ""
             }
            },
            "type": "scatterpolar"
           }
          ],
          "scatterpolargl": [
           {
            "marker": {
             "colorbar": {
              "outlinewidth": 0,
              "ticks": ""
             }
            },
            "type": "scatterpolargl"
           }
          ],
          "scatterternary": [
           {
            "marker": {
             "colorbar": {
              "outlinewidth": 0,
              "ticks": ""
             }
            },
            "type": "scatterternary"
           }
          ],
          "surface": [
           {
            "colorbar": {
             "outlinewidth": 0,
             "ticks": ""
            },
            "colorscale": [
             [
              0,
              "#0d0887"
             ],
             [
              0.1111111111111111,
              "#46039f"
             ],
             [
              0.2222222222222222,
              "#7201a8"
             ],
             [
              0.3333333333333333,
              "#9c179e"
             ],
             [
              0.4444444444444444,
              "#bd3786"
             ],
             [
              0.5555555555555556,
              "#d8576b"
             ],
             [
              0.6666666666666666,
              "#ed7953"
             ],
             [
              0.7777777777777778,
              "#fb9f3a"
             ],
             [
              0.8888888888888888,
              "#fdca26"
             ],
             [
              1,
              "#f0f921"
             ]
            ],
            "type": "surface"
           }
          ],
          "table": [
           {
            "cells": {
             "fill": {
              "color": "#EBF0F8"
             },
             "line": {
              "color": "white"
             }
            },
            "header": {
             "fill": {
              "color": "#C8D4E3"
             },
             "line": {
              "color": "white"
             }
            },
            "type": "table"
           }
          ]
         },
         "layout": {
          "annotationdefaults": {
           "arrowcolor": "#2a3f5f",
           "arrowhead": 0,
           "arrowwidth": 1
          },
          "autotypenumbers": "strict",
          "coloraxis": {
           "colorbar": {
            "outlinewidth": 0,
            "ticks": ""
           }
          },
          "colorscale": {
           "diverging": [
            [
             0,
             "#8e0152"
            ],
            [
             0.1,
             "#c51b7d"
            ],
            [
             0.2,
             "#de77ae"
            ],
            [
             0.3,
             "#f1b6da"
            ],
            [
             0.4,
             "#fde0ef"
            ],
            [
             0.5,
             "#f7f7f7"
            ],
            [
             0.6,
             "#e6f5d0"
            ],
            [
             0.7,
             "#b8e186"
            ],
            [
             0.8,
             "#7fbc41"
            ],
            [
             0.9,
             "#4d9221"
            ],
            [
             1,
             "#276419"
            ]
           ],
           "sequential": [
            [
             0,
             "#0d0887"
            ],
            [
             0.1111111111111111,
             "#46039f"
            ],
            [
             0.2222222222222222,
             "#7201a8"
            ],
            [
             0.3333333333333333,
             "#9c179e"
            ],
            [
             0.4444444444444444,
             "#bd3786"
            ],
            [
             0.5555555555555556,
             "#d8576b"
            ],
            [
             0.6666666666666666,
             "#ed7953"
            ],
            [
             0.7777777777777778,
             "#fb9f3a"
            ],
            [
             0.8888888888888888,
             "#fdca26"
            ],
            [
             1,
             "#f0f921"
            ]
           ],
           "sequentialminus": [
            [
             0,
             "#0d0887"
            ],
            [
             0.1111111111111111,
             "#46039f"
            ],
            [
             0.2222222222222222,
             "#7201a8"
            ],
            [
             0.3333333333333333,
             "#9c179e"
            ],
            [
             0.4444444444444444,
             "#bd3786"
            ],
            [
             0.5555555555555556,
             "#d8576b"
            ],
            [
             0.6666666666666666,
             "#ed7953"
            ],
            [
             0.7777777777777778,
             "#fb9f3a"
            ],
            [
             0.8888888888888888,
             "#fdca26"
            ],
            [
             1,
             "#f0f921"
            ]
           ]
          },
          "colorway": [
           "#636efa",
           "#EF553B",
           "#00cc96",
           "#ab63fa",
           "#FFA15A",
           "#19d3f3",
           "#FF6692",
           "#B6E880",
           "#FF97FF",
           "#FECB52"
          ],
          "font": {
           "color": "#2a3f5f"
          },
          "geo": {
           "bgcolor": "white",
           "lakecolor": "white",
           "landcolor": "#E5ECF6",
           "showlakes": true,
           "showland": true,
           "subunitcolor": "white"
          },
          "hoverlabel": {
           "align": "left"
          },
          "hovermode": "closest",
          "mapbox": {
           "style": "light"
          },
          "paper_bgcolor": "white",
          "plot_bgcolor": "#E5ECF6",
          "polar": {
           "angularaxis": {
            "gridcolor": "white",
            "linecolor": "white",
            "ticks": ""
           },
           "bgcolor": "#E5ECF6",
           "radialaxis": {
            "gridcolor": "white",
            "linecolor": "white",
            "ticks": ""
           }
          },
          "scene": {
           "xaxis": {
            "backgroundcolor": "#E5ECF6",
            "gridcolor": "white",
            "gridwidth": 2,
            "linecolor": "white",
            "showbackground": true,
            "ticks": "",
            "zerolinecolor": "white"
           },
           "yaxis": {
            "backgroundcolor": "#E5ECF6",
            "gridcolor": "white",
            "gridwidth": 2,
            "linecolor": "white",
            "showbackground": true,
            "ticks": "",
            "zerolinecolor": "white"
           },
           "zaxis": {
            "backgroundcolor": "#E5ECF6",
            "gridcolor": "white",
            "gridwidth": 2,
            "linecolor": "white",
            "showbackground": true,
            "ticks": "",
            "zerolinecolor": "white"
           }
          },
          "shapedefaults": {
           "line": {
            "color": "#2a3f5f"
           }
          },
          "ternary": {
           "aaxis": {
            "gridcolor": "white",
            "linecolor": "white",
            "ticks": ""
           },
           "baxis": {
            "gridcolor": "white",
            "linecolor": "white",
            "ticks": ""
           },
           "bgcolor": "#E5ECF6",
           "caxis": {
            "gridcolor": "white",
            "linecolor": "white",
            "ticks": ""
           }
          },
          "title": {
           "x": 0.05
          },
          "xaxis": {
           "automargin": true,
           "gridcolor": "white",
           "linecolor": "white",
           "ticks": "",
           "title": {
            "standoff": 15
           },
           "zerolinecolor": "white",
           "zerolinewidth": 2
          },
          "yaxis": {
           "automargin": true,
           "gridcolor": "white",
           "linecolor": "white",
           "ticks": "",
           "title": {
            "standoff": 15
           },
           "zerolinecolor": "white",
           "zerolinewidth": 2
          }
         }
        },
        "title": {
         "text": "Chat vs Base Model Perplexity by Setup"
        },
        "xaxis": {
         "tickangle": 45,
         "title": {
          "text": "Setup (role_delimiter)"
         }
        },
        "yaxis": {
         "title": {
          "text": "Perplexity"
         }
        }
       }
      },
      "text/html": [
       "<div>                            <div id=\"6ca99d1d-7e03-4ed9-b273-750a55d20e43\" class=\"plotly-graph-div\" style=\"height:525px; width:100%;\"></div>            <script type=\"text/javascript\">                require([\"plotly\"], function(Plotly) {                    window.PLOTLYENV=window.PLOTLYENV || {};                                    if (document.getElementById(\"6ca99d1d-7e03-4ed9-b273-750a55d20e43\")) {                    Plotly.newPlot(                        \"6ca99d1d-7e03-4ed9-b273-750a55d20e43\",                        [{\"error_y\":{\"array\":[0.04857205219809657,0.049180709317444116,0.04897855562035769,0.04609307304710342,0.04532416739864109,0.043088641597623045,0.043612019623820775,0.04134023708199619,0.04788119337716301,0.04842731116541499,0.047379562444780365,0.04401222029285412,0.04524643465361988,0.04278229587687976,0.04206417806040541,0.04037792879934443,0.04495579686278983,0.041179705900300956,0.041117759354915684,0.039307600837872325,0.04357444347472628,0.042853333815615624,0.043864139838702076,0.042429798388419204,0.04566245324697249,0.042883521697131055,0.04216628965867031,0.04001438965537618,0.04705602021990796,0.04855498111716239,0.04711861773882697,0.0437803313243359,0.04250892379346061,0.04110902254371762,0.040494737624206856,0.03879833918575315],\"arrayminus\":[0.047959647693256446,0.04855134527543026,0.04835223829530566,0.04552781901985625,0.04477219381916031,0.042576752595985035,0.04309018961673594,0.04086237264339854,0.04728155095734543,0.04781118304280474,0.04678355052714922,0.043484341878749166,0.04469521171127333,0.042274457310216285,0.04156937260168414,0.039915303595671414,0.04440983638337981,0.040702611005916545,0.040640767713600034,0.03886479854497571,0.0430584576888422,0.04234909243377771,0.04333910781768635,0.04193373304347414,0.04510319838386456,0.0423741569219529,0.04167004077692171,0.039558835085432786,0.04647293797416063,0.04793621379733137,0.04652777353885851,0.04325652260852619,0.042007794606907733,0.040632822905798616,0.04002880164794087,0.03836453765463288],\"symmetric\":false,\"type\":\"data\"},\"marker\":{\"color\":\"royalblue\"},\"name\":\"Chat Model\",\"x\":[\"default_default\",\"default_blockquote\",\"default_code\",\"default_em\",\"assistant_default\",\"assistant_blockquote\",\"assistant_code\",\"assistant_em\",\"human_default\",\"human_blockquote\",\"human_code\",\"human_em\",\"assistant_human_default\",\"assistant_human_blockquote\",\"assistant_human_code\",\"assistant_human_em\",\"human_human_default\",\"human_human_blockquote\",\"human_human_code\",\"human_human_em\",\"user_user_default\",\"user_user_blockquote\",\"user_user_code\",\"user_user_em\",\"assistant_assistant_default\",\"assistant_assistant_blockquote\",\"assistant_assistant_code\",\"assistant_assistant_em\",\"model_model_default\",\"model_model_blockquote\",\"model_model_code\",\"model_model_em\",\"4chan_default\",\"4chan_blockquote\",\"4chan_code\",\"4chan_em\"],\"y\":[3.8038559363082327,3.793972072700552,3.7811867850182623,3.7125203653627987,3.67637597685919,3.5839301628447635,3.601268937477826,3.5350196339513658,3.7754118283521745,3.757931107884094,3.7190265630878967,3.6255364548361753,3.66874964858077,3.5613646922514115,3.5338767189339078,3.4838077860722714,3.656820701232027,3.5131827448329798,3.503326184581125,3.450031791520995,3.6362403422742777,3.599069533403982,3.620793798677246,3.5867045679379563,3.6826191837571507,3.5674886963351367,3.5407052269779866,3.474715754949192,3.7504683514877333,3.761578676123916,3.71049487451129,3.6154130975305514,3.563364871963092,3.5077213417185313,3.4789239352878893,3.4312473282025318],\"type\":\"bar\"},{\"error_y\":{\"array\":[0.03759444681842128,0.0302447033207196,0.030404480821846658,0.030282771567412325,0.037650115668517614,0.030303266900407966,0.030591019677741915,0.03042896681759233,0.03733813366152949,0.030510237169715904,0.030533019108608617,0.030564903524619158,0.037383984318247965,0.030581620244360508,0.030782951447791085,0.03072748014987292,0.037309096933885844,0.03060656025907349,0.03066270433913898,0.030795252301972553,0.03756805860311907,0.030479260718112133,0.03053126520813132,0.03061823402603503,0.037588174253828655,0.030562391810684097,0.03061677900369375,0.030779063917309113,0.037782385029494936,0.03057485426176898,0.030580216095558832,0.030758393181412824,0.037027802154631306,0.03046725752538526,0.030506064494063345,0.030602706394225798],\"arrayminus\":[0.037150702479192166,0.029937227078692175,0.030094136556973794,0.029974832743724367,0.03720532384588049,0.029994603005188747,0.030277636161955446,0.03011865963550342,0.036900340771360174,0.03019851004481522,0.030220818592896048,0.030252915662691837,0.03694524931340171,0.030268486009002782,0.03046662629147967,0.030412763090930994,0.0368719967677138,0.03029348507698293,0.03034872742989414,0.03047972056583781,0.037125568919675,0.030168290416813903,0.03021926596541391,0.030305317681322386,0.03714567021224191,0.030250031089098073,0.030303534230709417,0.030463807522342012,0.03733545548036865,0.03026246161823165,0.03026738451790356,0.030443441800897197,0.03659499637312491,0.030155711693234277,0.030193529261732355,0.030289502229236653],\"symmetric\":false,\"type\":\"data\"},\"marker\":{\"color\":\"red\"},\"name\":\"Base Model\",\"x\":[\"default_default\",\"default_blockquote\",\"default_code\",\"default_em\",\"assistant_default\",\"assistant_blockquote\",\"assistant_code\",\"assistant_em\",\"human_default\",\"human_blockquote\",\"human_code\",\"human_em\",\"assistant_human_default\",\"assistant_human_blockquote\",\"assistant_human_code\",\"assistant_human_em\",\"human_human_default\",\"human_human_blockquote\",\"human_human_code\",\"human_human_em\",\"user_user_default\",\"user_user_blockquote\",\"user_user_code\",\"user_user_em\",\"assistant_assistant_default\",\"assistant_assistant_blockquote\",\"assistant_assistant_code\",\"assistant_assistant_em\",\"model_model_default\",\"model_model_blockquote\",\"model_model_code\",\"model_model_em\",\"4chan_default\",\"4chan_blockquote\",\"4chan_code\",\"4chan_em\"],\"y\":[3.1474432125666407,2.944756138785291,2.9483277165441306,2.9477316366914406,3.1493041800462414,2.944738514991182,2.9555599352479374,2.9534594992941483,3.147127070393894,2.955673825086282,2.955577537939488,2.963825075943919,3.148052026186248,2.9561103194047775,2.9648374756062874,2.9693578648711973,3.147244059869614,2.9615230765823792,2.963829596546791,2.9747584075618363,3.152018230105701,2.9568971223136122,2.957162381392434,2.9653142914389328,3.1553111237281026,2.9597617067098327,2.961890159358265,2.9742377755466527,3.156252606184911,2.9618826586376157,2.9587267568782334,2.9731298563388693,3.1308091145095904,2.949042289144972,2.9471421320831417,2.9595415615900507],\"type\":\"bar\"}],                        {\"template\":{\"data\":{\"histogram2dcontour\":[{\"type\":\"histogram2dcontour\",\"colorbar\":{\"outlinewidth\":0,\"ticks\":\"\"},\"colorscale\":[[0.0,\"#0d0887\"],[0.1111111111111111,\"#46039f\"],[0.2222222222222222,\"#7201a8\"],[0.3333333333333333,\"#9c179e\"],[0.4444444444444444,\"#bd3786\"],[0.5555555555555556,\"#d8576b\"],[0.6666666666666666,\"#ed7953\"],[0.7777777777777778,\"#fb9f3a\"],[0.8888888888888888,\"#fdca26\"],[1.0,\"#f0f921\"]]}],\"choropleth\":[{\"type\":\"choropleth\",\"colorbar\":{\"outlinewidth\":0,\"ticks\":\"\"}}],\"histogram2d\":[{\"type\":\"histogram2d\",\"colorbar\":{\"outlinewidth\":0,\"ticks\":\"\"},\"colorscale\":[[0.0,\"#0d0887\"],[0.1111111111111111,\"#46039f\"],[0.2222222222222222,\"#7201a8\"],[0.3333333333333333,\"#9c179e\"],[0.4444444444444444,\"#bd3786\"],[0.5555555555555556,\"#d8576b\"],[0.6666666666666666,\"#ed7953\"],[0.7777777777777778,\"#fb9f3a\"],[0.8888888888888888,\"#fdca26\"],[1.0,\"#f0f921\"]]}],\"heatmap\":[{\"type\":\"heatmap\",\"colorbar\":{\"outlinewidth\":0,\"ticks\":\"\"},\"colorscale\":[[0.0,\"#0d0887\"],[0.1111111111111111,\"#46039f\"],[0.2222222222222222,\"#7201a8\"],[0.3333333333333333,\"#9c179e\"],[0.4444444444444444,\"#bd3786\"],[0.5555555555555556,\"#d8576b\"],[0.6666666666666666,\"#ed7953\"],[0.7777777777777778,\"#fb9f3a\"],[0.8888888888888888,\"#fdca26\"],[1.0,\"#f0f921\"]]}],\"heatmapgl\":[{\"type\":\"heatmapgl\",\"colorbar\":{\"outlinewidth\":0,\"ticks\":\"\"},\"colorscale\":[[0.0,\"#0d0887\"],[0.1111111111111111,\"#46039f\"],[0.2222222222222222,\"#7201a8\"],[0.3333333333333333,\"#9c179e\"],[0.4444444444444444,\"#bd3786\"],[0.5555555555555556,\"#d8576b\"],[0.6666666666666666,\"#ed7953\"],[0.7777777777777778,\"#fb9f3a\"],[0.8888888888888888,\"#fdca26\"],[1.0,\"#f0f921\"]]}],\"contourcarpet\":[{\"type\":\"contourcarpet\",\"colorbar\":{\"outlinewidth\":0,\"ticks\":\"\"}}],\"contour\":[{\"type\":\"contour\",\"colorbar\":{\"outlinewidth\":0,\"ticks\":\"\"},\"colorscale\":[[0.0,\"#0d0887\"],[0.1111111111111111,\"#46039f\"],[0.2222222222222222,\"#7201a8\"],[0.3333333333333333,\"#9c179e\"],[0.4444444444444444,\"#bd3786\"],[0.5555555555555556,\"#d8576b\"],[0.6666666666666666,\"#ed7953\"],[0.7777777777777778,\"#fb9f3a\"],[0.8888888888888888,\"#fdca26\"],[1.0,\"#f0f921\"]]}],\"surface\":[{\"type\":\"surface\",\"colorbar\":{\"outlinewidth\":0,\"ticks\":\"\"},\"colorscale\":[[0.0,\"#0d0887\"],[0.1111111111111111,\"#46039f\"],[0.2222222222222222,\"#7201a8\"],[0.3333333333333333,\"#9c179e\"],[0.4444444444444444,\"#bd3786\"],[0.5555555555555556,\"#d8576b\"],[0.6666666666666666,\"#ed7953\"],[0.7777777777777778,\"#fb9f3a\"],[0.8888888888888888,\"#fdca26\"],[1.0,\"#f0f921\"]]}],\"mesh3d\":[{\"type\":\"mesh3d\",\"colorbar\":{\"outlinewidth\":0,\"ticks\":\"\"}}],\"scatter\":[{\"fillpattern\":{\"fillmode\":\"overlay\",\"size\":10,\"solidity\":0.2},\"type\":\"scatter\"}],\"parcoords\":[{\"type\":\"parcoords\",\"line\":{\"colorbar\":{\"outlinewidth\":0,\"ticks\":\"\"}}}],\"scatterpolargl\":[{\"type\":\"scatterpolargl\",\"marker\":{\"colorbar\":{\"outlinewidth\":0,\"ticks\":\"\"}}}],\"bar\":[{\"error_x\":{\"color\":\"#2a3f5f\"},\"error_y\":{\"color\":\"#2a3f5f\"},\"marker\":{\"line\":{\"color\":\"#E5ECF6\",\"width\":0.5},\"pattern\":{\"fillmode\":\"overlay\",\"size\":10,\"solidity\":0.2}},\"type\":\"bar\"}],\"scattergeo\":[{\"type\":\"scattergeo\",\"marker\":{\"colorbar\":{\"outlinewidth\":0,\"ticks\":\"\"}}}],\"scatterpolar\":[{\"type\":\"scatterpolar\",\"marker\":{\"colorbar\":{\"outlinewidth\":0,\"ticks\":\"\"}}}],\"histogram\":[{\"marker\":{\"pattern\":{\"fillmode\":\"overlay\",\"size\":10,\"solidity\":0.2}},\"type\":\"histogram\"}],\"scattergl\":[{\"type\":\"scattergl\",\"marker\":{\"colorbar\":{\"outlinewidth\":0,\"ticks\":\"\"}}}],\"scatter3d\":[{\"type\":\"scatter3d\",\"line\":{\"colorbar\":{\"outlinewidth\":0,\"ticks\":\"\"}},\"marker\":{\"colorbar\":{\"outlinewidth\":0,\"ticks\":\"\"}}}],\"scattermapbox\":[{\"type\":\"scattermapbox\",\"marker\":{\"colorbar\":{\"outlinewidth\":0,\"ticks\":\"\"}}}],\"scatterternary\":[{\"type\":\"scatterternary\",\"marker\":{\"colorbar\":{\"outlinewidth\":0,\"ticks\":\"\"}}}],\"scattercarpet\":[{\"type\":\"scattercarpet\",\"marker\":{\"colorbar\":{\"outlinewidth\":0,\"ticks\":\"\"}}}],\"carpet\":[{\"aaxis\":{\"endlinecolor\":\"#2a3f5f\",\"gridcolor\":\"white\",\"linecolor\":\"white\",\"minorgridcolor\":\"white\",\"startlinecolor\":\"#2a3f5f\"},\"baxis\":{\"endlinecolor\":\"#2a3f5f\",\"gridcolor\":\"white\",\"linecolor\":\"white\",\"minorgridcolor\":\"white\",\"startlinecolor\":\"#2a3f5f\"},\"type\":\"carpet\"}],\"table\":[{\"cells\":{\"fill\":{\"color\":\"#EBF0F8\"},\"line\":{\"color\":\"white\"}},\"header\":{\"fill\":{\"color\":\"#C8D4E3\"},\"line\":{\"color\":\"white\"}},\"type\":\"table\"}],\"barpolar\":[{\"marker\":{\"line\":{\"color\":\"#E5ECF6\",\"width\":0.5},\"pattern\":{\"fillmode\":\"overlay\",\"size\":10,\"solidity\":0.2}},\"type\":\"barpolar\"}],\"pie\":[{\"automargin\":true,\"type\":\"pie\"}]},\"layout\":{\"autotypenumbers\":\"strict\",\"colorway\":[\"#636efa\",\"#EF553B\",\"#00cc96\",\"#ab63fa\",\"#FFA15A\",\"#19d3f3\",\"#FF6692\",\"#B6E880\",\"#FF97FF\",\"#FECB52\"],\"font\":{\"color\":\"#2a3f5f\"},\"hovermode\":\"closest\",\"hoverlabel\":{\"align\":\"left\"},\"paper_bgcolor\":\"white\",\"plot_bgcolor\":\"#E5ECF6\",\"polar\":{\"bgcolor\":\"#E5ECF6\",\"angularaxis\":{\"gridcolor\":\"white\",\"linecolor\":\"white\",\"ticks\":\"\"},\"radialaxis\":{\"gridcolor\":\"white\",\"linecolor\":\"white\",\"ticks\":\"\"}},\"ternary\":{\"bgcolor\":\"#E5ECF6\",\"aaxis\":{\"gridcolor\":\"white\",\"linecolor\":\"white\",\"ticks\":\"\"},\"baxis\":{\"gridcolor\":\"white\",\"linecolor\":\"white\",\"ticks\":\"\"},\"caxis\":{\"gridcolor\":\"white\",\"linecolor\":\"white\",\"ticks\":\"\"}},\"coloraxis\":{\"colorbar\":{\"outlinewidth\":0,\"ticks\":\"\"}},\"colorscale\":{\"sequential\":[[0.0,\"#0d0887\"],[0.1111111111111111,\"#46039f\"],[0.2222222222222222,\"#7201a8\"],[0.3333333333333333,\"#9c179e\"],[0.4444444444444444,\"#bd3786\"],[0.5555555555555556,\"#d8576b\"],[0.6666666666666666,\"#ed7953\"],[0.7777777777777778,\"#fb9f3a\"],[0.8888888888888888,\"#fdca26\"],[1.0,\"#f0f921\"]],\"sequentialminus\":[[0.0,\"#0d0887\"],[0.1111111111111111,\"#46039f\"],[0.2222222222222222,\"#7201a8\"],[0.3333333333333333,\"#9c179e\"],[0.4444444444444444,\"#bd3786\"],[0.5555555555555556,\"#d8576b\"],[0.6666666666666666,\"#ed7953\"],[0.7777777777777778,\"#fb9f3a\"],[0.8888888888888888,\"#fdca26\"],[1.0,\"#f0f921\"]],\"diverging\":[[0,\"#8e0152\"],[0.1,\"#c51b7d\"],[0.2,\"#de77ae\"],[0.3,\"#f1b6da\"],[0.4,\"#fde0ef\"],[0.5,\"#f7f7f7\"],[0.6,\"#e6f5d0\"],[0.7,\"#b8e186\"],[0.8,\"#7fbc41\"],[0.9,\"#4d9221\"],[1,\"#276419\"]]},\"xaxis\":{\"gridcolor\":\"white\",\"linecolor\":\"white\",\"ticks\":\"\",\"title\":{\"standoff\":15},\"zerolinecolor\":\"white\",\"automargin\":true,\"zerolinewidth\":2},\"yaxis\":{\"gridcolor\":\"white\",\"linecolor\":\"white\",\"ticks\":\"\",\"title\":{\"standoff\":15},\"zerolinecolor\":\"white\",\"automargin\":true,\"zerolinewidth\":2},\"scene\":{\"xaxis\":{\"backgroundcolor\":\"#E5ECF6\",\"gridcolor\":\"white\",\"linecolor\":\"white\",\"showbackground\":true,\"ticks\":\"\",\"zerolinecolor\":\"white\",\"gridwidth\":2},\"yaxis\":{\"backgroundcolor\":\"#E5ECF6\",\"gridcolor\":\"white\",\"linecolor\":\"white\",\"showbackground\":true,\"ticks\":\"\",\"zerolinecolor\":\"white\",\"gridwidth\":2},\"zaxis\":{\"backgroundcolor\":\"#E5ECF6\",\"gridcolor\":\"white\",\"linecolor\":\"white\",\"showbackground\":true,\"ticks\":\"\",\"zerolinecolor\":\"white\",\"gridwidth\":2}},\"shapedefaults\":{\"line\":{\"color\":\"#2a3f5f\"}},\"annotationdefaults\":{\"arrowcolor\":\"#2a3f5f\",\"arrowhead\":0,\"arrowwidth\":1},\"geo\":{\"bgcolor\":\"white\",\"landcolor\":\"#E5ECF6\",\"subunitcolor\":\"white\",\"showland\":true,\"showlakes\":true,\"lakecolor\":\"white\"},\"title\":{\"x\":0.05},\"mapbox\":{\"style\":\"light\"}}},\"xaxis\":{\"title\":{\"text\":\"Setup (role_delimiter)\"},\"tickangle\":45},\"title\":{\"text\":\"Chat vs Base Model Perplexity by Setup\"},\"yaxis\":{\"title\":{\"text\":\"Perplexity\"}},\"barmode\":\"group\"},                        {\"responsive\": true}                    ).then(function(){\n",
       "                            \n",
       "var gd = document.getElementById('6ca99d1d-7e03-4ed9-b273-750a55d20e43');\n",
       "var x = new MutationObserver(function (mutations, observer) {{\n",
       "        var display = window.getComputedStyle(gd).display;\n",
       "        if (!display || display === 'none') {{\n",
       "            console.log([gd, 'removed!']);\n",
       "            Plotly.purge(gd);\n",
       "            observer.disconnect();\n",
       "        }}\n",
       "}});\n",
       "\n",
       "// Listen for the removal of the full notebook cells\n",
       "var notebookContainer = gd.closest('#notebook-container');\n",
       "if (notebookContainer) {{\n",
       "    x.observe(notebookContainer, {childList: true});\n",
       "}}\n",
       "\n",
       "// Listen for the clearing of the current output cell\n",
       "var outputEl = gd.closest('.output');\n",
       "if (outputEl) {{\n",
       "    x.observe(outputEl, {childList: true});\n",
       "}}\n",
       "\n",
       "                        })                };                });            </script>        </div>"
      ]
     },
     "metadata": {},
     "output_type": "display_data"
    },
    {
     "data": {
      "application/vnd.plotly.v1+json": {
       "config": {
        "plotlyServerURL": "https://plot.ly"
       },
       "data": [
        {
         "colorscale": [
          [
           0,
           "#440154"
          ],
          [
           0.1111111111111111,
           "#482878"
          ],
          [
           0.2222222222222222,
           "#3e4989"
          ],
          [
           0.3333333333333333,
           "#31688e"
          ],
          [
           0.4444444444444444,
           "#26828e"
          ],
          [
           0.5555555555555556,
           "#1f9e89"
          ],
          [
           0.6666666666666666,
           "#35b779"
          ],
          [
           0.7777777777777778,
           "#6ece58"
          ],
          [
           0.8888888888888888,
           "#b5de2b"
          ],
          [
           1,
           "#fde725"
          ]
         ],
         "type": "heatmap",
         "x": [
          "4chan",
          "assistant",
          "assistant_assistant",
          "assistant_human",
          "default",
          "human",
          "human_human",
          "model_model",
          "user_user"
         ],
         "xaxis": "x",
         "y": [
          "blockquote",
          "code",
          "default",
          "em"
         ],
         "yaxis": "y",
         "z": [
          [
           3.5077213417185313,
           3.5839301628447635,
           3.5674886963351367,
           3.5613646922514115,
           3.793972072700552,
           3.757931107884094,
           3.5131827448329798,
           3.761578676123916,
           3.599069533403982
          ],
          [
           3.4789239352878893,
           3.601268937477826,
           3.5407052269779866,
           3.5338767189339078,
           3.7811867850182623,
           3.7190265630878967,
           3.503326184581125,
           3.71049487451129,
           3.620793798677246
          ],
          [
           3.563364871963092,
           3.67637597685919,
           3.6826191837571507,
           3.66874964858077,
           3.8038559363082327,
           3.7754118283521745,
           3.656820701232027,
           3.7504683514877333,
           3.6362403422742777
          ],
          [
           3.4312473282025318,
           3.5350196339513658,
           3.474715754949192,
           3.4838077860722714,
           3.7125203653627987,
           3.6255364548361753,
           3.450031791520995,
           3.6154130975305514,
           3.5867045679379563
          ]
         ],
         "zmax": 3.8038559363082327,
         "zmin": 2.944738514991182
        },
        {
         "colorscale": [
          [
           0,
           "#440154"
          ],
          [
           0.1111111111111111,
           "#482878"
          ],
          [
           0.2222222222222222,
           "#3e4989"
          ],
          [
           0.3333333333333333,
           "#31688e"
          ],
          [
           0.4444444444444444,
           "#26828e"
          ],
          [
           0.5555555555555556,
           "#1f9e89"
          ],
          [
           0.6666666666666666,
           "#35b779"
          ],
          [
           0.7777777777777778,
           "#6ece58"
          ],
          [
           0.8888888888888888,
           "#b5de2b"
          ],
          [
           1,
           "#fde725"
          ]
         ],
         "type": "heatmap",
         "x": [
          "4chan",
          "assistant",
          "assistant_assistant",
          "assistant_human",
          "default",
          "human",
          "human_human",
          "model_model",
          "user_user"
         ],
         "xaxis": "x2",
         "y": [
          "blockquote",
          "code",
          "default",
          "em"
         ],
         "yaxis": "y2",
         "z": [
          [
           2.949042289144972,
           2.944738514991182,
           2.9597617067098327,
           2.9561103194047775,
           2.944756138785291,
           2.955673825086282,
           2.9615230765823792,
           2.9618826586376157,
           2.9568971223136122
          ],
          [
           2.9471421320831417,
           2.9555599352479374,
           2.961890159358265,
           2.9648374756062874,
           2.9483277165441306,
           2.955577537939488,
           2.963829596546791,
           2.9587267568782334,
           2.957162381392434
          ],
          [
           3.1308091145095904,
           3.1493041800462414,
           3.1553111237281026,
           3.148052026186248,
           3.1474432125666407,
           3.147127070393894,
           3.147244059869614,
           3.156252606184911,
           3.152018230105701
          ],
          [
           2.9595415615900507,
           2.9534594992941483,
           2.9742377755466527,
           2.9693578648711973,
           2.9477316366914406,
           2.963825075943919,
           2.9747584075618363,
           2.9731298563388693,
           2.9653142914389328
          ]
         ],
         "zmax": 3.8038559363082327,
         "zmin": 2.944738514991182
        }
       ],
       "layout": {
        "annotations": [
         {
          "font": {
           "size": 16
          },
          "showarrow": false,
          "text": "Chat Model Perplexity",
          "x": 0.225,
          "xanchor": "center",
          "xref": "paper",
          "y": 1,
          "yanchor": "bottom",
          "yref": "paper"
         },
         {
          "font": {
           "size": 16
          },
          "showarrow": false,
          "text": "Base Model Perplexity",
          "x": 0.775,
          "xanchor": "center",
          "xref": "paper",
          "y": 1,
          "yanchor": "bottom",
          "yref": "paper"
         }
        ],
        "height": 600,
        "template": {
         "data": {
          "bar": [
           {
            "error_x": {
             "color": "#2a3f5f"
            },
            "error_y": {
             "color": "#2a3f5f"
            },
            "marker": {
             "line": {
              "color": "#E5ECF6",
              "width": 0.5
             },
             "pattern": {
              "fillmode": "overlay",
              "size": 10,
              "solidity": 0.2
             }
            },
            "type": "bar"
           }
          ],
          "barpolar": [
           {
            "marker": {
             "line": {
              "color": "#E5ECF6",
              "width": 0.5
             },
             "pattern": {
              "fillmode": "overlay",
              "size": 10,
              "solidity": 0.2
             }
            },
            "type": "barpolar"
           }
          ],
          "carpet": [
           {
            "aaxis": {
             "endlinecolor": "#2a3f5f",
             "gridcolor": "white",
             "linecolor": "white",
             "minorgridcolor": "white",
             "startlinecolor": "#2a3f5f"
            },
            "baxis": {
             "endlinecolor": "#2a3f5f",
             "gridcolor": "white",
             "linecolor": "white",
             "minorgridcolor": "white",
             "startlinecolor": "#2a3f5f"
            },
            "type": "carpet"
           }
          ],
          "choropleth": [
           {
            "colorbar": {
             "outlinewidth": 0,
             "ticks": ""
            },
            "type": "choropleth"
           }
          ],
          "contour": [
           {
            "colorbar": {
             "outlinewidth": 0,
             "ticks": ""
            },
            "colorscale": [
             [
              0,
              "#0d0887"
             ],
             [
              0.1111111111111111,
              "#46039f"
             ],
             [
              0.2222222222222222,
              "#7201a8"
             ],
             [
              0.3333333333333333,
              "#9c179e"
             ],
             [
              0.4444444444444444,
              "#bd3786"
             ],
             [
              0.5555555555555556,
              "#d8576b"
             ],
             [
              0.6666666666666666,
              "#ed7953"
             ],
             [
              0.7777777777777778,
              "#fb9f3a"
             ],
             [
              0.8888888888888888,
              "#fdca26"
             ],
             [
              1,
              "#f0f921"
             ]
            ],
            "type": "contour"
           }
          ],
          "contourcarpet": [
           {
            "colorbar": {
             "outlinewidth": 0,
             "ticks": ""
            },
            "type": "contourcarpet"
           }
          ],
          "heatmap": [
           {
            "colorbar": {
             "outlinewidth": 0,
             "ticks": ""
            },
            "colorscale": [
             [
              0,
              "#0d0887"
             ],
             [
              0.1111111111111111,
              "#46039f"
             ],
             [
              0.2222222222222222,
              "#7201a8"
             ],
             [
              0.3333333333333333,
              "#9c179e"
             ],
             [
              0.4444444444444444,
              "#bd3786"
             ],
             [
              0.5555555555555556,
              "#d8576b"
             ],
             [
              0.6666666666666666,
              "#ed7953"
             ],
             [
              0.7777777777777778,
              "#fb9f3a"
             ],
             [
              0.8888888888888888,
              "#fdca26"
             ],
             [
              1,
              "#f0f921"
             ]
            ],
            "type": "heatmap"
           }
          ],
          "heatmapgl": [
           {
            "colorbar": {
             "outlinewidth": 0,
             "ticks": ""
            },
            "colorscale": [
             [
              0,
              "#0d0887"
             ],
             [
              0.1111111111111111,
              "#46039f"
             ],
             [
              0.2222222222222222,
              "#7201a8"
             ],
             [
              0.3333333333333333,
              "#9c179e"
             ],
             [
              0.4444444444444444,
              "#bd3786"
             ],
             [
              0.5555555555555556,
              "#d8576b"
             ],
             [
              0.6666666666666666,
              "#ed7953"
             ],
             [
              0.7777777777777778,
              "#fb9f3a"
             ],
             [
              0.8888888888888888,
              "#fdca26"
             ],
             [
              1,
              "#f0f921"
             ]
            ],
            "type": "heatmapgl"
           }
          ],
          "histogram": [
           {
            "marker": {
             "pattern": {
              "fillmode": "overlay",
              "size": 10,
              "solidity": 0.2
             }
            },
            "type": "histogram"
           }
          ],
          "histogram2d": [
           {
            "colorbar": {
             "outlinewidth": 0,
             "ticks": ""
            },
            "colorscale": [
             [
              0,
              "#0d0887"
             ],
             [
              0.1111111111111111,
              "#46039f"
             ],
             [
              0.2222222222222222,
              "#7201a8"
             ],
             [
              0.3333333333333333,
              "#9c179e"
             ],
             [
              0.4444444444444444,
              "#bd3786"
             ],
             [
              0.5555555555555556,
              "#d8576b"
             ],
             [
              0.6666666666666666,
              "#ed7953"
             ],
             [
              0.7777777777777778,
              "#fb9f3a"
             ],
             [
              0.8888888888888888,
              "#fdca26"
             ],
             [
              1,
              "#f0f921"
             ]
            ],
            "type": "histogram2d"
           }
          ],
          "histogram2dcontour": [
           {
            "colorbar": {
             "outlinewidth": 0,
             "ticks": ""
            },
            "colorscale": [
             [
              0,
              "#0d0887"
             ],
             [
              0.1111111111111111,
              "#46039f"
             ],
             [
              0.2222222222222222,
              "#7201a8"
             ],
             [
              0.3333333333333333,
              "#9c179e"
             ],
             [
              0.4444444444444444,
              "#bd3786"
             ],
             [
              0.5555555555555556,
              "#d8576b"
             ],
             [
              0.6666666666666666,
              "#ed7953"
             ],
             [
              0.7777777777777778,
              "#fb9f3a"
             ],
             [
              0.8888888888888888,
              "#fdca26"
             ],
             [
              1,
              "#f0f921"
             ]
            ],
            "type": "histogram2dcontour"
           }
          ],
          "mesh3d": [
           {
            "colorbar": {
             "outlinewidth": 0,
             "ticks": ""
            },
            "type": "mesh3d"
           }
          ],
          "parcoords": [
           {
            "line": {
             "colorbar": {
              "outlinewidth": 0,
              "ticks": ""
             }
            },
            "type": "parcoords"
           }
          ],
          "pie": [
           {
            "automargin": true,
            "type": "pie"
           }
          ],
          "scatter": [
           {
            "fillpattern": {
             "fillmode": "overlay",
             "size": 10,
             "solidity": 0.2
            },
            "type": "scatter"
           }
          ],
          "scatter3d": [
           {
            "line": {
             "colorbar": {
              "outlinewidth": 0,
              "ticks": ""
             }
            },
            "marker": {
             "colorbar": {
              "outlinewidth": 0,
              "ticks": ""
             }
            },
            "type": "scatter3d"
           }
          ],
          "scattercarpet": [
           {
            "marker": {
             "colorbar": {
              "outlinewidth": 0,
              "ticks": ""
             }
            },
            "type": "scattercarpet"
           }
          ],
          "scattergeo": [
           {
            "marker": {
             "colorbar": {
              "outlinewidth": 0,
              "ticks": ""
             }
            },
            "type": "scattergeo"
           }
          ],
          "scattergl": [
           {
            "marker": {
             "colorbar": {
              "outlinewidth": 0,
              "ticks": ""
             }
            },
            "type": "scattergl"
           }
          ],
          "scattermapbox": [
           {
            "marker": {
             "colorbar": {
              "outlinewidth": 0,
              "ticks": ""
             }
            },
            "type": "scattermapbox"
           }
          ],
          "scatterpolar": [
           {
            "marker": {
             "colorbar": {
              "outlinewidth": 0,
              "ticks": ""
             }
            },
            "type": "scatterpolar"
           }
          ],
          "scatterpolargl": [
           {
            "marker": {
             "colorbar": {
              "outlinewidth": 0,
              "ticks": ""
             }
            },
            "type": "scatterpolargl"
           }
          ],
          "scatterternary": [
           {
            "marker": {
             "colorbar": {
              "outlinewidth": 0,
              "ticks": ""
             }
            },
            "type": "scatterternary"
           }
          ],
          "surface": [
           {
            "colorbar": {
             "outlinewidth": 0,
             "ticks": ""
            },
            "colorscale": [
             [
              0,
              "#0d0887"
             ],
             [
              0.1111111111111111,
              "#46039f"
             ],
             [
              0.2222222222222222,
              "#7201a8"
             ],
             [
              0.3333333333333333,
              "#9c179e"
             ],
             [
              0.4444444444444444,
              "#bd3786"
             ],
             [
              0.5555555555555556,
              "#d8576b"
             ],
             [
              0.6666666666666666,
              "#ed7953"
             ],
             [
              0.7777777777777778,
              "#fb9f3a"
             ],
             [
              0.8888888888888888,
              "#fdca26"
             ],
             [
              1,
              "#f0f921"
             ]
            ],
            "type": "surface"
           }
          ],
          "table": [
           {
            "cells": {
             "fill": {
              "color": "#EBF0F8"
             },
             "line": {
              "color": "white"
             }
            },
            "header": {
             "fill": {
              "color": "#C8D4E3"
             },
             "line": {
              "color": "white"
             }
            },
            "type": "table"
           }
          ]
         },
         "layout": {
          "annotationdefaults": {
           "arrowcolor": "#2a3f5f",
           "arrowhead": 0,
           "arrowwidth": 1
          },
          "autotypenumbers": "strict",
          "coloraxis": {
           "colorbar": {
            "outlinewidth": 0,
            "ticks": ""
           }
          },
          "colorscale": {
           "diverging": [
            [
             0,
             "#8e0152"
            ],
            [
             0.1,
             "#c51b7d"
            ],
            [
             0.2,
             "#de77ae"
            ],
            [
             0.3,
             "#f1b6da"
            ],
            [
             0.4,
             "#fde0ef"
            ],
            [
             0.5,
             "#f7f7f7"
            ],
            [
             0.6,
             "#e6f5d0"
            ],
            [
             0.7,
             "#b8e186"
            ],
            [
             0.8,
             "#7fbc41"
            ],
            [
             0.9,
             "#4d9221"
            ],
            [
             1,
             "#276419"
            ]
           ],
           "sequential": [
            [
             0,
             "#0d0887"
            ],
            [
             0.1111111111111111,
             "#46039f"
            ],
            [
             0.2222222222222222,
             "#7201a8"
            ],
            [
             0.3333333333333333,
             "#9c179e"
            ],
            [
             0.4444444444444444,
             "#bd3786"
            ],
            [
             0.5555555555555556,
             "#d8576b"
            ],
            [
             0.6666666666666666,
             "#ed7953"
            ],
            [
             0.7777777777777778,
             "#fb9f3a"
            ],
            [
             0.8888888888888888,
             "#fdca26"
            ],
            [
             1,
             "#f0f921"
            ]
           ],
           "sequentialminus": [
            [
             0,
             "#0d0887"
            ],
            [
             0.1111111111111111,
             "#46039f"
            ],
            [
             0.2222222222222222,
             "#7201a8"
            ],
            [
             0.3333333333333333,
             "#9c179e"
            ],
            [
             0.4444444444444444,
             "#bd3786"
            ],
            [
             0.5555555555555556,
             "#d8576b"
            ],
            [
             0.6666666666666666,
             "#ed7953"
            ],
            [
             0.7777777777777778,
             "#fb9f3a"
            ],
            [
             0.8888888888888888,
             "#fdca26"
            ],
            [
             1,
             "#f0f921"
            ]
           ]
          },
          "colorway": [
           "#636efa",
           "#EF553B",
           "#00cc96",
           "#ab63fa",
           "#FFA15A",
           "#19d3f3",
           "#FF6692",
           "#B6E880",
           "#FF97FF",
           "#FECB52"
          ],
          "font": {
           "color": "#2a3f5f"
          },
          "geo": {
           "bgcolor": "white",
           "lakecolor": "white",
           "landcolor": "#E5ECF6",
           "showlakes": true,
           "showland": true,
           "subunitcolor": "white"
          },
          "hoverlabel": {
           "align": "left"
          },
          "hovermode": "closest",
          "mapbox": {
           "style": "light"
          },
          "paper_bgcolor": "white",
          "plot_bgcolor": "#E5ECF6",
          "polar": {
           "angularaxis": {
            "gridcolor": "white",
            "linecolor": "white",
            "ticks": ""
           },
           "bgcolor": "#E5ECF6",
           "radialaxis": {
            "gridcolor": "white",
            "linecolor": "white",
            "ticks": ""
           }
          },
          "scene": {
           "xaxis": {
            "backgroundcolor": "#E5ECF6",
            "gridcolor": "white",
            "gridwidth": 2,
            "linecolor": "white",
            "showbackground": true,
            "ticks": "",
            "zerolinecolor": "white"
           },
           "yaxis": {
            "backgroundcolor": "#E5ECF6",
            "gridcolor": "white",
            "gridwidth": 2,
            "linecolor": "white",
            "showbackground": true,
            "ticks": "",
            "zerolinecolor": "white"
           },
           "zaxis": {
            "backgroundcolor": "#E5ECF6",
            "gridcolor": "white",
            "gridwidth": 2,
            "linecolor": "white",
            "showbackground": true,
            "ticks": "",
            "zerolinecolor": "white"
           }
          },
          "shapedefaults": {
           "line": {
            "color": "#2a3f5f"
           }
          },
          "ternary": {
           "aaxis": {
            "gridcolor": "white",
            "linecolor": "white",
            "ticks": ""
           },
           "baxis": {
            "gridcolor": "white",
            "linecolor": "white",
            "ticks": ""
           },
           "bgcolor": "#E5ECF6",
           "caxis": {
            "gridcolor": "white",
            "linecolor": "white",
            "ticks": ""
           }
          },
          "title": {
           "x": 0.05
          },
          "xaxis": {
           "automargin": true,
           "gridcolor": "white",
           "linecolor": "white",
           "ticks": "",
           "title": {
            "standoff": 15
           },
           "zerolinecolor": "white",
           "zerolinewidth": 2
          },
          "yaxis": {
           "automargin": true,
           "gridcolor": "white",
           "linecolor": "white",
           "ticks": "",
           "title": {
            "standoff": 15
           },
           "zerolinecolor": "white",
           "zerolinewidth": 2
          }
         }
        },
        "title": {
         "text": "Perplexity Heatmaps: Chat vs Base Model"
        },
        "xaxis": {
         "anchor": "y",
         "domain": [
          0,
          0.45
         ]
        },
        "xaxis2": {
         "anchor": "y2",
         "domain": [
          0.55,
          1
         ]
        },
        "yaxis": {
         "anchor": "x",
         "domain": [
          0,
          1
         ]
        },
        "yaxis2": {
         "anchor": "x2",
         "domain": [
          0,
          1
         ]
        }
       }
      },
      "text/html": [
       "<div>                            <div id=\"f8a86c9e-0f5e-4458-89b8-b64520d7e6f3\" class=\"plotly-graph-div\" style=\"height:600px; width:100%;\"></div>            <script type=\"text/javascript\">                require([\"plotly\"], function(Plotly) {                    window.PLOTLYENV=window.PLOTLYENV || {};                                    if (document.getElementById(\"f8a86c9e-0f5e-4458-89b8-b64520d7e6f3\")) {                    Plotly.newPlot(                        \"f8a86c9e-0f5e-4458-89b8-b64520d7e6f3\",                        [{\"colorscale\":[[0.0,\"#440154\"],[0.1111111111111111,\"#482878\"],[0.2222222222222222,\"#3e4989\"],[0.3333333333333333,\"#31688e\"],[0.4444444444444444,\"#26828e\"],[0.5555555555555556,\"#1f9e89\"],[0.6666666666666666,\"#35b779\"],[0.7777777777777778,\"#6ece58\"],[0.8888888888888888,\"#b5de2b\"],[1.0,\"#fde725\"]],\"x\":[\"4chan\",\"assistant\",\"assistant_assistant\",\"assistant_human\",\"default\",\"human\",\"human_human\",\"model_model\",\"user_user\"],\"y\":[\"blockquote\",\"code\",\"default\",\"em\"],\"z\":[[3.5077213417185313,3.5839301628447635,3.5674886963351367,3.5613646922514115,3.793972072700552,3.757931107884094,3.5131827448329798,3.761578676123916,3.599069533403982],[3.4789239352878893,3.601268937477826,3.5407052269779866,3.5338767189339078,3.7811867850182623,3.7190265630878967,3.503326184581125,3.71049487451129,3.620793798677246],[3.563364871963092,3.67637597685919,3.6826191837571507,3.66874964858077,3.8038559363082327,3.7754118283521745,3.656820701232027,3.7504683514877333,3.6362403422742777],[3.4312473282025318,3.5350196339513658,3.474715754949192,3.4838077860722714,3.7125203653627987,3.6255364548361753,3.450031791520995,3.6154130975305514,3.5867045679379563]],\"zmax\":3.8038559363082327,\"zmin\":2.944738514991182,\"type\":\"heatmap\",\"xaxis\":\"x\",\"yaxis\":\"y\"},{\"colorscale\":[[0.0,\"#440154\"],[0.1111111111111111,\"#482878\"],[0.2222222222222222,\"#3e4989\"],[0.3333333333333333,\"#31688e\"],[0.4444444444444444,\"#26828e\"],[0.5555555555555556,\"#1f9e89\"],[0.6666666666666666,\"#35b779\"],[0.7777777777777778,\"#6ece58\"],[0.8888888888888888,\"#b5de2b\"],[1.0,\"#fde725\"]],\"x\":[\"4chan\",\"assistant\",\"assistant_assistant\",\"assistant_human\",\"default\",\"human\",\"human_human\",\"model_model\",\"user_user\"],\"y\":[\"blockquote\",\"code\",\"default\",\"em\"],\"z\":[[2.949042289144972,2.944738514991182,2.9597617067098327,2.9561103194047775,2.944756138785291,2.955673825086282,2.9615230765823792,2.9618826586376157,2.9568971223136122],[2.9471421320831417,2.9555599352479374,2.961890159358265,2.9648374756062874,2.9483277165441306,2.955577537939488,2.963829596546791,2.9587267568782334,2.957162381392434],[3.1308091145095904,3.1493041800462414,3.1553111237281026,3.148052026186248,3.1474432125666407,3.147127070393894,3.147244059869614,3.156252606184911,3.152018230105701],[2.9595415615900507,2.9534594992941483,2.9742377755466527,2.9693578648711973,2.9477316366914406,2.963825075943919,2.9747584075618363,2.9731298563388693,2.9653142914389328]],\"zmax\":3.8038559363082327,\"zmin\":2.944738514991182,\"type\":\"heatmap\",\"xaxis\":\"x2\",\"yaxis\":\"y2\"}],                        {\"template\":{\"data\":{\"histogram2dcontour\":[{\"type\":\"histogram2dcontour\",\"colorbar\":{\"outlinewidth\":0,\"ticks\":\"\"},\"colorscale\":[[0.0,\"#0d0887\"],[0.1111111111111111,\"#46039f\"],[0.2222222222222222,\"#7201a8\"],[0.3333333333333333,\"#9c179e\"],[0.4444444444444444,\"#bd3786\"],[0.5555555555555556,\"#d8576b\"],[0.6666666666666666,\"#ed7953\"],[0.7777777777777778,\"#fb9f3a\"],[0.8888888888888888,\"#fdca26\"],[1.0,\"#f0f921\"]]}],\"choropleth\":[{\"type\":\"choropleth\",\"colorbar\":{\"outlinewidth\":0,\"ticks\":\"\"}}],\"histogram2d\":[{\"type\":\"histogram2d\",\"colorbar\":{\"outlinewidth\":0,\"ticks\":\"\"},\"colorscale\":[[0.0,\"#0d0887\"],[0.1111111111111111,\"#46039f\"],[0.2222222222222222,\"#7201a8\"],[0.3333333333333333,\"#9c179e\"],[0.4444444444444444,\"#bd3786\"],[0.5555555555555556,\"#d8576b\"],[0.6666666666666666,\"#ed7953\"],[0.7777777777777778,\"#fb9f3a\"],[0.8888888888888888,\"#fdca26\"],[1.0,\"#f0f921\"]]}],\"heatmap\":[{\"type\":\"heatmap\",\"colorbar\":{\"outlinewidth\":0,\"ticks\":\"\"},\"colorscale\":[[0.0,\"#0d0887\"],[0.1111111111111111,\"#46039f\"],[0.2222222222222222,\"#7201a8\"],[0.3333333333333333,\"#9c179e\"],[0.4444444444444444,\"#bd3786\"],[0.5555555555555556,\"#d8576b\"],[0.6666666666666666,\"#ed7953\"],[0.7777777777777778,\"#fb9f3a\"],[0.8888888888888888,\"#fdca26\"],[1.0,\"#f0f921\"]]}],\"heatmapgl\":[{\"type\":\"heatmapgl\",\"colorbar\":{\"outlinewidth\":0,\"ticks\":\"\"},\"colorscale\":[[0.0,\"#0d0887\"],[0.1111111111111111,\"#46039f\"],[0.2222222222222222,\"#7201a8\"],[0.3333333333333333,\"#9c179e\"],[0.4444444444444444,\"#bd3786\"],[0.5555555555555556,\"#d8576b\"],[0.6666666666666666,\"#ed7953\"],[0.7777777777777778,\"#fb9f3a\"],[0.8888888888888888,\"#fdca26\"],[1.0,\"#f0f921\"]]}],\"contourcarpet\":[{\"type\":\"contourcarpet\",\"colorbar\":{\"outlinewidth\":0,\"ticks\":\"\"}}],\"contour\":[{\"type\":\"contour\",\"colorbar\":{\"outlinewidth\":0,\"ticks\":\"\"},\"colorscale\":[[0.0,\"#0d0887\"],[0.1111111111111111,\"#46039f\"],[0.2222222222222222,\"#7201a8\"],[0.3333333333333333,\"#9c179e\"],[0.4444444444444444,\"#bd3786\"],[0.5555555555555556,\"#d8576b\"],[0.6666666666666666,\"#ed7953\"],[0.7777777777777778,\"#fb9f3a\"],[0.8888888888888888,\"#fdca26\"],[1.0,\"#f0f921\"]]}],\"surface\":[{\"type\":\"surface\",\"colorbar\":{\"outlinewidth\":0,\"ticks\":\"\"},\"colorscale\":[[0.0,\"#0d0887\"],[0.1111111111111111,\"#46039f\"],[0.2222222222222222,\"#7201a8\"],[0.3333333333333333,\"#9c179e\"],[0.4444444444444444,\"#bd3786\"],[0.5555555555555556,\"#d8576b\"],[0.6666666666666666,\"#ed7953\"],[0.7777777777777778,\"#fb9f3a\"],[0.8888888888888888,\"#fdca26\"],[1.0,\"#f0f921\"]]}],\"mesh3d\":[{\"type\":\"mesh3d\",\"colorbar\":{\"outlinewidth\":0,\"ticks\":\"\"}}],\"scatter\":[{\"fillpattern\":{\"fillmode\":\"overlay\",\"size\":10,\"solidity\":0.2},\"type\":\"scatter\"}],\"parcoords\":[{\"type\":\"parcoords\",\"line\":{\"colorbar\":{\"outlinewidth\":0,\"ticks\":\"\"}}}],\"scatterpolargl\":[{\"type\":\"scatterpolargl\",\"marker\":{\"colorbar\":{\"outlinewidth\":0,\"ticks\":\"\"}}}],\"bar\":[{\"error_x\":{\"color\":\"#2a3f5f\"},\"error_y\":{\"color\":\"#2a3f5f\"},\"marker\":{\"line\":{\"color\":\"#E5ECF6\",\"width\":0.5},\"pattern\":{\"fillmode\":\"overlay\",\"size\":10,\"solidity\":0.2}},\"type\":\"bar\"}],\"scattergeo\":[{\"type\":\"scattergeo\",\"marker\":{\"colorbar\":{\"outlinewidth\":0,\"ticks\":\"\"}}}],\"scatterpolar\":[{\"type\":\"scatterpolar\",\"marker\":{\"colorbar\":{\"outlinewidth\":0,\"ticks\":\"\"}}}],\"histogram\":[{\"marker\":{\"pattern\":{\"fillmode\":\"overlay\",\"size\":10,\"solidity\":0.2}},\"type\":\"histogram\"}],\"scattergl\":[{\"type\":\"scattergl\",\"marker\":{\"colorbar\":{\"outlinewidth\":0,\"ticks\":\"\"}}}],\"scatter3d\":[{\"type\":\"scatter3d\",\"line\":{\"colorbar\":{\"outlinewidth\":0,\"ticks\":\"\"}},\"marker\":{\"colorbar\":{\"outlinewidth\":0,\"ticks\":\"\"}}}],\"scattermapbox\":[{\"type\":\"scattermapbox\",\"marker\":{\"colorbar\":{\"outlinewidth\":0,\"ticks\":\"\"}}}],\"scatterternary\":[{\"type\":\"scatterternary\",\"marker\":{\"colorbar\":{\"outlinewidth\":0,\"ticks\":\"\"}}}],\"scattercarpet\":[{\"type\":\"scattercarpet\",\"marker\":{\"colorbar\":{\"outlinewidth\":0,\"ticks\":\"\"}}}],\"carpet\":[{\"aaxis\":{\"endlinecolor\":\"#2a3f5f\",\"gridcolor\":\"white\",\"linecolor\":\"white\",\"minorgridcolor\":\"white\",\"startlinecolor\":\"#2a3f5f\"},\"baxis\":{\"endlinecolor\":\"#2a3f5f\",\"gridcolor\":\"white\",\"linecolor\":\"white\",\"minorgridcolor\":\"white\",\"startlinecolor\":\"#2a3f5f\"},\"type\":\"carpet\"}],\"table\":[{\"cells\":{\"fill\":{\"color\":\"#EBF0F8\"},\"line\":{\"color\":\"white\"}},\"header\":{\"fill\":{\"color\":\"#C8D4E3\"},\"line\":{\"color\":\"white\"}},\"type\":\"table\"}],\"barpolar\":[{\"marker\":{\"line\":{\"color\":\"#E5ECF6\",\"width\":0.5},\"pattern\":{\"fillmode\":\"overlay\",\"size\":10,\"solidity\":0.2}},\"type\":\"barpolar\"}],\"pie\":[{\"automargin\":true,\"type\":\"pie\"}]},\"layout\":{\"autotypenumbers\":\"strict\",\"colorway\":[\"#636efa\",\"#EF553B\",\"#00cc96\",\"#ab63fa\",\"#FFA15A\",\"#19d3f3\",\"#FF6692\",\"#B6E880\",\"#FF97FF\",\"#FECB52\"],\"font\":{\"color\":\"#2a3f5f\"},\"hovermode\":\"closest\",\"hoverlabel\":{\"align\":\"left\"},\"paper_bgcolor\":\"white\",\"plot_bgcolor\":\"#E5ECF6\",\"polar\":{\"bgcolor\":\"#E5ECF6\",\"angularaxis\":{\"gridcolor\":\"white\",\"linecolor\":\"white\",\"ticks\":\"\"},\"radialaxis\":{\"gridcolor\":\"white\",\"linecolor\":\"white\",\"ticks\":\"\"}},\"ternary\":{\"bgcolor\":\"#E5ECF6\",\"aaxis\":{\"gridcolor\":\"white\",\"linecolor\":\"white\",\"ticks\":\"\"},\"baxis\":{\"gridcolor\":\"white\",\"linecolor\":\"white\",\"ticks\":\"\"},\"caxis\":{\"gridcolor\":\"white\",\"linecolor\":\"white\",\"ticks\":\"\"}},\"coloraxis\":{\"colorbar\":{\"outlinewidth\":0,\"ticks\":\"\"}},\"colorscale\":{\"sequential\":[[0.0,\"#0d0887\"],[0.1111111111111111,\"#46039f\"],[0.2222222222222222,\"#7201a8\"],[0.3333333333333333,\"#9c179e\"],[0.4444444444444444,\"#bd3786\"],[0.5555555555555556,\"#d8576b\"],[0.6666666666666666,\"#ed7953\"],[0.7777777777777778,\"#fb9f3a\"],[0.8888888888888888,\"#fdca26\"],[1.0,\"#f0f921\"]],\"sequentialminus\":[[0.0,\"#0d0887\"],[0.1111111111111111,\"#46039f\"],[0.2222222222222222,\"#7201a8\"],[0.3333333333333333,\"#9c179e\"],[0.4444444444444444,\"#bd3786\"],[0.5555555555555556,\"#d8576b\"],[0.6666666666666666,\"#ed7953\"],[0.7777777777777778,\"#fb9f3a\"],[0.8888888888888888,\"#fdca26\"],[1.0,\"#f0f921\"]],\"diverging\":[[0,\"#8e0152\"],[0.1,\"#c51b7d\"],[0.2,\"#de77ae\"],[0.3,\"#f1b6da\"],[0.4,\"#fde0ef\"],[0.5,\"#f7f7f7\"],[0.6,\"#e6f5d0\"],[0.7,\"#b8e186\"],[0.8,\"#7fbc41\"],[0.9,\"#4d9221\"],[1,\"#276419\"]]},\"xaxis\":{\"gridcolor\":\"white\",\"linecolor\":\"white\",\"ticks\":\"\",\"title\":{\"standoff\":15},\"zerolinecolor\":\"white\",\"automargin\":true,\"zerolinewidth\":2},\"yaxis\":{\"gridcolor\":\"white\",\"linecolor\":\"white\",\"ticks\":\"\",\"title\":{\"standoff\":15},\"zerolinecolor\":\"white\",\"automargin\":true,\"zerolinewidth\":2},\"scene\":{\"xaxis\":{\"backgroundcolor\":\"#E5ECF6\",\"gridcolor\":\"white\",\"linecolor\":\"white\",\"showbackground\":true,\"ticks\":\"\",\"zerolinecolor\":\"white\",\"gridwidth\":2},\"yaxis\":{\"backgroundcolor\":\"#E5ECF6\",\"gridcolor\":\"white\",\"linecolor\":\"white\",\"showbackground\":true,\"ticks\":\"\",\"zerolinecolor\":\"white\",\"gridwidth\":2},\"zaxis\":{\"backgroundcolor\":\"#E5ECF6\",\"gridcolor\":\"white\",\"linecolor\":\"white\",\"showbackground\":true,\"ticks\":\"\",\"zerolinecolor\":\"white\",\"gridwidth\":2}},\"shapedefaults\":{\"line\":{\"color\":\"#2a3f5f\"}},\"annotationdefaults\":{\"arrowcolor\":\"#2a3f5f\",\"arrowhead\":0,\"arrowwidth\":1},\"geo\":{\"bgcolor\":\"white\",\"landcolor\":\"#E5ECF6\",\"subunitcolor\":\"white\",\"showland\":true,\"showlakes\":true,\"lakecolor\":\"white\"},\"title\":{\"x\":0.05},\"mapbox\":{\"style\":\"light\"}}},\"xaxis\":{\"anchor\":\"y\",\"domain\":[0.0,0.45]},\"yaxis\":{\"anchor\":\"x\",\"domain\":[0.0,1.0]},\"xaxis2\":{\"anchor\":\"y2\",\"domain\":[0.55,1.0]},\"yaxis2\":{\"anchor\":\"x2\",\"domain\":[0.0,1.0]},\"annotations\":[{\"font\":{\"size\":16},\"showarrow\":false,\"text\":\"Chat Model Perplexity\",\"x\":0.225,\"xanchor\":\"center\",\"xref\":\"paper\",\"y\":1.0,\"yanchor\":\"bottom\",\"yref\":\"paper\"},{\"font\":{\"size\":16},\"showarrow\":false,\"text\":\"Base Model Perplexity\",\"x\":0.775,\"xanchor\":\"center\",\"xref\":\"paper\",\"y\":1.0,\"yanchor\":\"bottom\",\"yref\":\"paper\"}],\"title\":{\"text\":\"Perplexity Heatmaps: Chat vs Base Model\"},\"height\":600},                        {\"responsive\": true}                    ).then(function(){\n",
       "                            \n",
       "var gd = document.getElementById('f8a86c9e-0f5e-4458-89b8-b64520d7e6f3');\n",
       "var x = new MutationObserver(function (mutations, observer) {{\n",
       "        var display = window.getComputedStyle(gd).display;\n",
       "        if (!display || display === 'none') {{\n",
       "            console.log([gd, 'removed!']);\n",
       "            Plotly.purge(gd);\n",
       "            observer.disconnect();\n",
       "        }}\n",
       "}});\n",
       "\n",
       "// Listen for the removal of the full notebook cells\n",
       "var notebookContainer = gd.closest('#notebook-container');\n",
       "if (notebookContainer) {{\n",
       "    x.observe(notebookContainer, {childList: true});\n",
       "}}\n",
       "\n",
       "// Listen for the clearing of the current output cell\n",
       "var outputEl = gd.closest('.output');\n",
       "if (outputEl) {{\n",
       "    x.observe(outputEl, {childList: true});\n",
       "}}\n",
       "\n",
       "                        })                };                });            </script>        </div>"
      ]
     },
     "metadata": {},
     "output_type": "display_data"
    }
   ],
   "source": [
    "# Convert results to a more manageable format\n",
    "data = []\n",
    "for (role, delim), values in results.items():\n",
    "    data.append({\n",
    "        'role_setup': role,\n",
    "        'delimiter_setup': delim,\n",
    "        'chat_entropy': values['chat'],\n",
    "        'base_entropy': values['base']\n",
    "    })\n",
    "df = pd.DataFrame(data)\n",
    "df.loc[0][\"chat_entropy\"]\n",
    "# Convert results to a more manageable format with mean, var, count\n",
    "data = []\n",
    "for (role, delim), values in results.items():\n",
    "    chat_mean, chat_var, chat_count = values['chat']\n",
    "    base_mean, base_var, base_count = values['base']\n",
    "    data.append({\n",
    "        'role_setup': role,\n",
    "        'delimiter_setup': delim,\n",
    "        'chat_perplexity_mean': float(th.exp(chat_mean).cpu()),\n",
    "        'chat_perplexity_std': float(th.sqrt(chat_var).cpu()),\n",
    "        'chat_count': float(chat_count),\n",
    "        'base_perplexity_mean': float(th.exp(base_mean).cpu()),\n",
    "        'base_perplexity_std': float(th.sqrt(base_var).cpu()),\n",
    "        'base_count': float(base_count)\n",
    "    })\n",
    "df = pd.DataFrame(data)\n",
    "\n",
    "# Plot 1: Bar chart with error bars\n",
    "fig1 = go.Figure()\n",
    "\n",
    "# Calculate standard error\n",
    "chat_nll_ci = df['chat_perplexity_std'] / np.sqrt(df['chat_count']) * 1.96\n",
    "base_nll_ci = df['base_perplexity_std'] / np.sqrt(df['base_count']) * 1.96\n",
    "chat_ci = np.stack([np.exp(-chat_nll_ci), np.exp(chat_nll_ci)], axis=1)* df['chat_perplexity_mean'].values.reshape(-1, 1)\n",
    "base_ci = np.stack([np.exp(-base_nll_ci), np.exp(base_nll_ci)], axis=1) * df['base_perplexity_mean'].values.reshape(-1, 1)\n",
    "chat_upper_ci_diff = chat_ci[:, 1] - df['chat_perplexity_mean']\n",
    "chat_lower_ci_diff = df['chat_perplexity_mean'] - chat_ci[:, 0]\n",
    "base_upper_ci_diff = base_ci[:, 1] - df['base_perplexity_mean']\n",
    "base_lower_ci_diff = df['base_perplexity_mean'] - base_ci[:, 0]\n",
    "# Add bars for chat perplexity\n",
    "fig1.add_trace(go.Bar(\n",
    "    name='Chat Model',\n",
    "    x=[f\"{r}_{d}\" for r, d in zip(df['role_setup'], df['delimiter_setup'])],\n",
    "    y=df['chat_perplexity_mean'],\n",
    "    error_y=dict(type='data', array=chat_upper_ci_diff, symmetric=False, arrayminus=chat_lower_ci_diff),  # 95% confidence interval\n",
    "    marker_color='royalblue'\n",
    "))\n",
    "\n",
    "# Add bars for base perplexity\n",
    "fig1.add_trace(go.Bar(\n",
    "    name='Base Model',\n",
    "    x=[f\"{r}_{d}\" for r, d in zip(df['role_setup'], df['delimiter_setup'])],\n",
    "    y=df['base_perplexity_mean'],\n",
    "    error_y=dict(type='data', array=base_upper_ci_diff, symmetric=False, arrayminus=base_lower_ci_diff),  # 95% confidence interval\n",
    "    marker_color='red'\n",
    "))\n",
    "\n",
    "fig1.update_layout(\n",
    "    title='Chat vs Base Model Perplexity by Setup',\n",
    "    xaxis_title='Setup (role_delimiter)',\n",
    "    yaxis_title='Perplexity',\n",
    "    barmode='group',\n",
    "    xaxis_tickangle=45\n",
    ")\n",
    "\n",
    "# Plot 2: Heatmaps\n",
    "# Pivot data for heatmaps\n",
    "chat_pivot = df.pivot(index='delimiter_setup', columns='role_setup', values='chat_perplexity_mean')\n",
    "base_pivot = df.pivot(index='delimiter_setup', columns='role_setup', values='base_perplexity_mean')\n",
    "\n",
    "# Create subplot with 2 heatmaps\n",
    "fig2 = sp.make_subplots(rows=1, cols=2, subplot_titles=('Chat Model Perplexity', 'Base Model Perplexity'))\n",
    "\n",
    "# Add chat model heatmap\n",
    "fig2.add_trace(\n",
    "    go.Heatmap(\n",
    "        z=chat_pivot.values,\n",
    "        x=chat_pivot.columns,\n",
    "        y=chat_pivot.index,\n",
    "        colorscale='Viridis',\n",
    "        zmin=min(df['chat_perplexity_mean'].min(), df['base_perplexity_mean'].min()),\n",
    "        zmax=max(df['chat_perplexity_mean'].max(), df['base_perplexity_mean'].max())\n",
    "    ),\n",
    "    row=1, col=1\n",
    ")\n",
    "\n",
    "# Add base model heatmap\n",
    "fig2.add_trace(\n",
    "    go.Heatmap(\n",
    "        z=base_pivot.values,\n",
    "        x=base_pivot.columns,\n",
    "        y=base_pivot.index,\n",
    "        colorscale='Viridis',\n",
    "        zmin=min(df['chat_perplexity_mean'].min(), df['base_perplexity_mean'].min()),\n",
    "        zmax=max(df['chat_perplexity_mean'].max(), df['base_perplexity_mean'].max())\n",
    "    ),\n",
    "    row=1, col=2\n",
    ")\n",
    "\n",
    "fig2.update_layout(\n",
    "    title='Perplexity Heatmaps: Chat vs Base Model',\n",
    "    height=600\n",
    ")\n",
    "\n",
    "# Display both plots\n",
    "fig1.show()\n",
    "fig2.show()"
   ]
  },
  {
   "cell_type": "code",
   "execution_count": 35,
   "metadata": {},
   "outputs": [],
   "source": [
    "from tiny_dashboard.visualization_utils import activation_visualization\n",
    "from utils import compute_entropy\n",
    "\n",
    "text_examples = dataset[:8]\n",
    "\n",
    "\n",
    "def get_batch(convs, template, device):\n",
    "    batch = chat_model.tokenizer.apply_chat_template(\n",
    "        convs,\n",
    "        chat_template=template,\n",
    "        return_dict=True,\n",
    "        return_tensors=\"pt\",\n",
    "        return_assistant_tokens_mask=True,\n",
    "        truncation=True,\n",
    "        max_length=1024,\n",
    "        padding=True,\n",
    "    )\n",
    "    batch[\"input_ids\"] = batch[\"input_ids\"].to(device)\n",
    "    batch[\"attention_mask\"] = batch[\"attention_mask\"].to(device)\n",
    "    batch[\"assistant_masks\"] = th.tensor(batch[\"assistant_masks\"], dtype=th.bool).to(\n",
    "        device\n",
    "    )\n",
    "    return batch\n",
    "\n",
    "\n",
    "template = templates[(\"default\", \"default\")]\n",
    "base_batch = get_batch(text_examples, template, base_device)\n",
    "chat_batch = get_batch(text_examples, template, chat_device)\n",
    "chat_entropy_mask = th.zeros_like(chat_batch[\"assistant_masks\"], dtype=th.bool)\n",
    "chat_entropy_mask[:, :-1] = chat_batch[\"assistant_masks\"][:, 1:]\n",
    "chat_entropy_mask = chat_entropy_mask.to(chat_device)\n",
    "base_ce = compute_cross_entropy(base_batch, base_model, base_batch[\"assistant_masks\"])\n",
    "chat_ce = compute_cross_entropy(chat_batch, chat_model, chat_batch[\"assistant_masks\"])\n",
    "chat_entropy = compute_entropy(chat_batch, chat_model, chat_entropy_mask)\n",
    "base_entropy_mask = th.zeros_like(base_batch[\"assistant_masks\"], dtype=th.bool)\n",
    "base_entropy_mask[:, :-1] = base_batch[\"assistant_masks\"][:, 1:]\n",
    "base_entropy_mask = base_entropy_mask.to(base_device)\n",
    "base_entropy = compute_entropy(base_batch, base_model, base_entropy_mask)"
   ]
  },
  {
   "cell_type": "code",
   "execution_count": 45,
   "metadata": {},
   "outputs": [
    {
     "data": {
      "text/plain": [
       "tensor(0.5679, device='cuda:1', dtype=torch.float16)"
      ]
     },
     "execution_count": 45,
     "metadata": {},
     "output_type": "execute_result"
    }
   ],
   "source": [
    "chat_entropy[0]"
   ]
  },
  {
   "cell_type": "code",
   "execution_count": 36,
   "metadata": {},
   "outputs": [],
   "source": [
    "batch_idx = (\n",
    "    th.arange(chat_batch[\"input_ids\"].size(0), device=chat_batch[\"input_ids\"].device)\n",
    "    .unsqueeze(1)\n",
    "    .expand_as(chat_batch[\"assistant_masks\"])\n",
    ")\n",
    "batch_idx_masked = batch_idx[\n",
    "    chat_batch[\"assistant_masks\"]\n",
    "]  # This will be 1D with same length as x\n",
    "batch_idx_entropy = (\n",
    "    th.arange(chat_batch[\"input_ids\"].size(0), device=chat_batch[\"input_ids\"].device)\n",
    "    .unsqueeze(1)\n",
    "    .expand_as(chat_entropy_mask)\n",
    ")\n",
    "batch_idx_masked_entropy = batch_idx_entropy[\n",
    "    chat_entropy_mask\n",
    "]  # This will be 1D with same length as x\n",
    "chat_ce_per_batch = [\n",
    "    chat_ce[batch_idx_masked == i] for i in range(chat_batch[\"input_ids\"].size(0))\n",
    "]\n",
    "chat_entropy_per_batch = [\n",
    "    chat_entropy[batch_idx_masked_entropy == i] for i in range(chat_batch[\"input_ids\"].size(0))\n",
    "]\n",
    "\n",
    "batch_idx = (\n",
    "    th.arange(base_batch[\"input_ids\"].size(0), device=base_batch[\"input_ids\"].device)\n",
    "    .unsqueeze(1)\n",
    "    .expand_as(base_batch[\"assistant_masks\"])\n",
    ")\n",
    "batch_idx_masked = batch_idx[\n",
    "    base_batch[\"assistant_masks\"]\n",
    "]  # This will be 1D with same length as x\n",
    "batch_idx_entropy = (\n",
    "    th.arange(base_batch[\"input_ids\"].size(0), device=base_batch[\"input_ids\"].device)\n",
    "    .unsqueeze(1)\n",
    "    .expand_as(base_entropy_mask)\n",
    ")\n",
    "batch_idx_masked_entropy = batch_idx_entropy[\n",
    "    base_entropy_mask\n",
    "]  # This will be 1D with same length as x\n",
    "base_ce_per_batch = [\n",
    "    base_ce[batch_idx_masked == i] for i in range(base_batch[\"input_ids\"].size(0))\n",
    "]\n",
    "base_entropy_per_batch = [\n",
    "    base_entropy[batch_idx_masked_entropy == i] for i in range(base_batch[\"input_ids\"].size(0))\n",
    "]"
   ]
  },
  {
   "cell_type": "code",
   "execution_count": 42,
   "metadata": {},
   "outputs": [
    {
     "name": "stdout",
     "output_type": "stream",
     "text": [
      "(tensor([0, 0, 0, 0, 0, 0, 1, 1, 1, 1, 1, 1, 1, 1, 2, 2, 2, 2, 2, 2, 3, 3, 3, 3,\n",
      "        4, 4, 4, 4, 5, 5, 5, 5, 5, 5, 5, 5, 6, 6, 6, 6, 7, 7, 7, 7]), tensor([ 241,  408,  437,  769,  803, 1023,   26,  309,  353,  387,  442,  499,\n",
      "         546,  594,  372,  546,  575,  739,  769,  945,   25,  987, 1015, 1023,\n",
      "         109,  690,  734, 1023,   26,  287,  318,  581,  615,  879,  925, 1023,\n",
      "         702,  848,  905, 1023,   19,  477,  507, 1023]))\n"
     ]
    }
   ],
   "source": [
    "# check where the mask are not the same by printing the indices\n",
    "print(th.where(chat_entropy_mask.cpu() != chat_batch[\"assistant_masks\"].cpu()))"
   ]
  },
  {
   "cell_type": "code",
   "execution_count": 46,
   "metadata": {},
   "outputs": [
    {
     "data": {
      "application/vnd.jupyter.widget-view+json": {
       "model_id": "3dbbfcda114246f3bba7ee73053ef401",
       "version_major": 2,
       "version_minor": 0
      },
      "text/plain": [
       "interactive(children=(Checkbox(value=True, description='Use Chat entropy'), IntSlider(value=0, description='Ba…"
      ]
     },
     "metadata": {},
     "output_type": "display_data"
    }
   ],
   "source": [
    "from IPython.display import HTML\n",
    "# def html_viz(batch_id, is_chat=True):\n",
    "#     ce = chat_ce_per_batch[batch_id] if is_chat else base_ce_per_batch[batch_id]\n",
    "#     acts = th.full_like(chat_batch[\"input_ids\"][batch_id], th.nan, dtype=ce.dtype)\n",
    "#     print(acts[:-1][chat_batch[\"assistant_masks\"][batch_id][1:]].shape, ce.shape)\n",
    "#     acts[:-1][chat_batch[\"assistant_masks\"][batch_id][1:]] = ce\n",
    "#     return activation_visualization(\n",
    "#         chat_model.tokenizer.convert_ids_to_tokens(chat_batch[\"input_ids\"][batch_id].cpu().tolist()),\n",
    "#         acts,\n",
    "#         chat_model.tokenizer,\n",
    "#         title=f\"Chat Model Cross Entropy on {batch_id}\" if is_chat else f\"Base Model Cross Entropy on {batch_id}\"\n",
    "#     )\n",
    "# Precompute activations for all batches\n",
    "chat_acts = []\n",
    "base_acts = []\n",
    "chat_entropy_acts = []\n",
    "base_entropy_acts = []\n",
    "for batch_id in range(len(chat_ce_per_batch)):\n",
    "    # Chat model activations\n",
    "    ce = chat_ce_per_batch[batch_id]\n",
    "    acts = th.full_like(chat_batch[\"input_ids\"][batch_id], th.nan, dtype=ce.dtype)\n",
    "    acts[chat_batch[\"assistant_masks\"][batch_id]] = ce\n",
    "    chat_acts.append(acts.cpu())\n",
    "    \n",
    "    # Base model activations  \n",
    "    ce = base_ce_per_batch[batch_id]\n",
    "    acts = th.full_like(base_batch[\"input_ids\"][batch_id], th.nan, dtype=ce.dtype)\n",
    "    acts[base_batch[\"assistant_masks\"][batch_id]] = ce\n",
    "    base_acts.append(acts.cpu())\n",
    "    \n",
    "    # Chat model entropy\n",
    "    entropy = chat_entropy_per_batch[batch_id]\n",
    "    acts = th.full_like(chat_batch[\"input_ids\"][batch_id], th.nan, dtype=entropy.dtype)\n",
    "    acts[chat_entropy_mask[batch_id]] = entropy\n",
    "    chat_entropy_acts.append(acts.cpu())\n",
    "    \n",
    "    # Base model entropy\n",
    "    entropy = base_entropy_per_batch[batch_id]\n",
    "    acts = th.full_like(base_batch[\"input_ids\"][batch_id], th.nan, dtype=entropy.dtype)\n",
    "    acts[base_entropy_mask[batch_id]] = entropy\n",
    "    base_entropy_acts.append(acts.cpu())\n",
    "# make that a (batch, 2, seq_len) tensor where 2 is the chat and base model\n",
    "all_models_acts = [th.stack([chat_acts[i], base_acts[i]], dim=0) for i in range(len(chat_acts))]\n",
    "chat_acts_entropy = [th.stack([chat_acts[i], chat_entropy_acts[i]], dim=0) for i in range(len(chat_acts))]\n",
    "all_models_entropy = [th.stack([chat_entropy_acts[i], base_entropy_acts[i]], dim=0) for i in range(len(chat_acts))]\n",
    "from ipywidgets import interact, widgets\n",
    "from IPython.display import clear_output\n",
    "\n",
    "@interact(\n",
    "    entropy=widgets.Checkbox(value=True, description='Use Chat entropy'),\n",
    "    batch_id=widgets.IntSlider(min=0, max=len(chat_ce_per_batch)-1, step=1, value=0, description='Batch ID')\n",
    ")\n",
    "def viz_with_controls(entropy, batch_id):\n",
    "    clear_output(wait=True)  # Clear previous output\n",
    "    acts = all_models_entropy[batch_id] if entropy else all_models_acts[batch_id]\n",
    "    tokens = chat_model.tokenizer.convert_ids_to_tokens(chat_batch[\"input_ids\"][batch_id].cpu().tolist())\n",
    "    html = activation_visualization(\n",
    "        tokens,\n",
    "        acts,\n",
    "        chat_model.tokenizer,\n",
    "        title=f\"{'All' if entropy else 'All'} Model Cross Entropy on {batch_id}\" + (f\" (Chat entropy)\" if entropy else \"\"),\n",
    "        color2=(255,0,0)\n",
    "        # secondary_activations=base_acts[batch_id] if is_chat else chat_acts[batch_id]\n",
    "    )\n",
    "    display(HTML(html))"
   ]
  },
  {
   "cell_type": "code",
   "execution_count": 54,
   "metadata": {},
   "outputs": [
    {
     "name": "stdout",
     "output_type": "stream",
     "text": [
      "Chat entropy: 1.0009765625\n",
      "Base entropy: 0.9755859375\n",
      "mean abs diff: 0.378173828125\n",
      "chat ce median: 0.27685546875\n",
      "base ce median: 0.2105712890625\n",
      "chat ce mean: 1.1201171875\n",
      "base ce mean: 0.9853515625\n",
      "chat perplexity median: 2.072265625\n",
      "base perplexity median: 1.9453125\n",
      "chat perplexity mean: 2.720703125\n",
      "base perplexity mean: 2.65234375\n"
     ]
    }
   ],
   "source": [
    "print(f\"Chat entropy: {chat_entropy.mean().item()}\")\n",
    "print(f\"Base entropy: {base_entropy.mean().item()}\")\n",
    "print(f\"mean abs diff: {(chat_entropy.cpu() - base_entropy.cpu()).abs().mean().item()}\")\n",
    "print(f\"chat ce median: {chat_ce.median().item()}\")\n",
    "print(f\"base ce median: {base_ce.median().item()}\")\n",
    "print(f\"chat ce mean: {chat_ce.mean().item()}\")\n",
    "print(f\"base ce mean: {base_ce.mean().item()}\")\n",
    "print(f\"chat perplexity median: {th.exp(chat_entropy.median()).item()}\")\n",
    "print(f\"base perplexity median: {th.exp(base_entropy.median()).item()}\")\n",
    "print(f\"chat perplexity mean: {th.exp(chat_entropy.mean()).item()}\")\n",
    "print(f\"base perplexity mean: {th.exp(base_entropy.mean()).item()}\")\n"
   ]
  },
  {
   "cell_type": "code",
   "execution_count": 92,
   "metadata": {},
   "outputs": [
    {
     "data": {
      "text/html": [
       "\n",
       "<!DOCTYPE html PUBLIC \"-//W3C//DTD XHTML 1.0 Transitional//EN\"\n",
       "          \"http://www.w3.org/TR/xhtml1/DTD/xhtml1-transitional.dtd\">\n",
       "\n",
       "<html>\n",
       "\n",
       "<head>\n",
       "    <meta http-equiv=\"Content-Type\"\n",
       "          content=\"text/html; charset=utf-8\" />\n",
       "    <title></title>\n",
       "    <style type=\"text/css\">\n",
       "        table.diff {font-family:Courier; border:medium;}\n",
       "        .diff_header {background-color:#e0e0e0}\n",
       "        td.diff_header {text-align:right}\n",
       "        .diff_next {background-color:#c0c0c0}\n",
       "        .diff_add {background-color:#aaffaa}\n",
       "        .diff_chg {background-color:#ffff77}\n",
       "        .diff_sub {background-color:#ffaaaa}\n",
       "    </style>\n",
       "</head>\n",
       "\n",
       "<body>\n",
       "    \n",
       "    <table class=\"diff\" id=\"difflib_chg_to0__top\"\n",
       "           cellspacing=\"0\" cellpadding=\"0\" rules=\"groups\" >\n",
       "        <colgroup></colgroup> <colgroup></colgroup> <colgroup></colgroup>\n",
       "        <colgroup></colgroup> <colgroup></colgroup> <colgroup></colgroup>\n",
       "        \n",
       "        <tbody>\n",
       "            <tr><td class=\"diff_next\" id=\"difflib_chg_to0__0\"><a href=\"#difflib_chg_to0__top\">t</a></td><td class=\"diff_header\" id=\"from0_1\">1</td><td nowrap=\"nowrap\">{{&nbsp;bos_token&nbsp;}}{%&nbsp;if&nbsp;messages[0]['role']&nbsp;==&nbsp;'system'&nbsp;%}{{&nbsp;raise_exception('System&nbsp;role&nbsp;not&nbsp;supported')&nbsp;}}{%&nbsp;endif&nbsp;%}{%&nbsp;for&nbsp;message&nbsp;in&nbsp;messages&nbsp;%}{%&nbsp;if&nbsp;(message['role']&nbsp;==&nbsp;'user')&nbsp;!=&nbsp;(loop.index0&nbsp;%&nbsp;2&nbsp;==&nbsp;0)&nbsp;%}{{&nbsp;raise_exception('Conversation&nbsp;roles&nbsp;must&nbsp;alternate&nbsp;user/assistant/user/assistant/...')&nbsp;}}{%&nbsp;endif&nbsp;%}{%&nbsp;if&nbsp;(message['role']&nbsp;==&nbsp;'assistant')&nbsp;%}{%&nbsp;set&nbsp;role&nbsp;=&nbsp;'model'&nbsp;%}{{&nbsp;'&lt;start_of_turn&gt;'&nbsp;+&nbsp;role&nbsp;+&nbsp;'\\n'}}{%&nbsp;generation&nbsp;%}{{message['content']&nbsp;|&nbsp;trim&nbsp;+&nbsp;'&lt;end_of_turn&gt;'&nbsp;}}{%&nbsp;endgeneration&nbsp;%}{{&nbsp;'\\n'&nbsp;}}{%&nbsp;else&nbsp;%}{%&nbsp;set&nbsp;role&nbsp;=&nbsp;<span class=\"diff_chg\">'user'&nbsp;%}{{</span>&nbsp;'&lt;start_of_turn&gt;'&nbsp;+&nbsp;role&nbsp;+&nbsp;'\\n'&nbsp;+&nbsp;message['content']&nbsp;|&nbsp;trim&nbsp;+&nbsp;'&lt;end_of_turn&gt;\\n'&nbsp;}}{%&nbsp;endif&nbsp;%}{%&nbsp;endfor&nbsp;%}{%&nbsp;if&nbsp;add_generation_prompt&nbsp;%}{{'&lt;start_of_turn&gt;model\\n'}}{%&nbsp;endif&nbsp;%}</td><td class=\"diff_next\"><a href=\"#difflib_chg_to0__top\">t</a></td><td class=\"diff_header\" id=\"to0_1\">1</td><td nowrap=\"nowrap\">{{&nbsp;bos_token&nbsp;}}{%&nbsp;if&nbsp;messages[0]['role']&nbsp;==&nbsp;'system'&nbsp;%}{{&nbsp;raise_exception('System&nbsp;role&nbsp;not&nbsp;supported')&nbsp;}}{%&nbsp;endif&nbsp;%}{%&nbsp;for&nbsp;message&nbsp;in&nbsp;messages&nbsp;%}{%&nbsp;if&nbsp;(message['role']&nbsp;==&nbsp;'user')&nbsp;!=&nbsp;(loop.index0&nbsp;%&nbsp;2&nbsp;==&nbsp;0)&nbsp;%}{{&nbsp;raise_exception('Conversation&nbsp;roles&nbsp;must&nbsp;alternate&nbsp;user/assistant/user/assistant/...')&nbsp;}}{%&nbsp;endif&nbsp;%}{%&nbsp;if&nbsp;(message['role']&nbsp;==&nbsp;'assistant')&nbsp;%}{%&nbsp;set&nbsp;role&nbsp;=&nbsp;'model'&nbsp;%}{{&nbsp;'&lt;start_of_turn&gt;'&nbsp;+&nbsp;role&nbsp;+&nbsp;'\\n'}}{%&nbsp;generation&nbsp;%}{{message['content']&nbsp;|&nbsp;trim&nbsp;+&nbsp;'&lt;end_of_turn&gt;'&nbsp;}}{%&nbsp;endgeneration&nbsp;%}{{&nbsp;'\\n'&nbsp;}}{%&nbsp;else&nbsp;%}{%&nbsp;set&nbsp;role&nbsp;=&nbsp;<span class=\"diff_chg\">message['role']&nbsp;%}{{</span>&nbsp;'&lt;start_of_turn&gt;'&nbsp;+&nbsp;role&nbsp;+&nbsp;'\\n'&nbsp;+&nbsp;message['content']&nbsp;|&nbsp;trim&nbsp;+&nbsp;'&lt;end_of_turn&gt;\\n'&nbsp;}}{%&nbsp;endif&nbsp;%}{%&nbsp;endfor&nbsp;%}{%&nbsp;if&nbsp;add_generation_prompt&nbsp;%}{{'&lt;start_of_turn&gt;model\\n'}}{%&nbsp;endif&nbsp;%}</td></tr>\n",
       "        </tbody>\n",
       "    </table>\n",
       "    <table class=\"diff\" summary=\"Legends\">\n",
       "        <tr> <th colspan=\"2\"> Legends </th> </tr>\n",
       "        <tr> <td> <table border=\"\" summary=\"Colors\">\n",
       "                      <tr><th> Colors </th> </tr>\n",
       "                      <tr><td class=\"diff_add\">&nbsp;Added&nbsp;</td></tr>\n",
       "                      <tr><td class=\"diff_chg\">Changed</td> </tr>\n",
       "                      <tr><td class=\"diff_sub\">Deleted</td> </tr>\n",
       "                  </table></td>\n",
       "             <td> <table border=\"\" summary=\"Links\">\n",
       "                      <tr><th colspan=\"2\"> Links </th> </tr>\n",
       "                      <tr><td>(f)irst change</td> </tr>\n",
       "                      <tr><td>(n)ext change</td> </tr>\n",
       "                      <tr><td>(t)op</td> </tr>\n",
       "                  </table></td> </tr>\n",
       "    </table>\n",
       "</body>\n",
       "\n",
       "</html>"
      ],
      "text/plain": [
       "<IPython.core.display.HTML object>"
      ]
     },
     "execution_count": 92,
     "metadata": {},
     "output_type": "execute_result"
    }
   ],
   "source": [
    "from difflib import Differ, HtmlDiff\n",
    "from IPython.display import HTML\n",
    "\n",
    "def show_diff(text1, text2):\n",
    "    # For simple line-by-line diff\n",
    "    d = Differ()\n",
    "    diff = list(d.compare(text1.splitlines(), text2.splitlines()))\n",
    "    print('\\n'.join(diff))\n",
    "    \n",
    "def show_diff_html(text1, text2):\n",
    "    # For a more visual HTML table diff\n",
    "    h = HtmlDiff()\n",
    "    html_diff = h.make_file(text1.splitlines(), text2.splitlines())\n",
    "    return HTML(html_diff)\n",
    "\n",
    "show_diff_html(template, chat_template)\n"
   ]
  },
  {
   "cell_type": "code",
   "execution_count": null,
   "metadata": {},
   "outputs": [],
   "source": []
  }
 ],
 "metadata": {
  "kernelspec": {
   "display_name": ".env",
   "language": "python",
   "name": "python3"
  },
  "language_info": {
   "codemirror_mode": {
    "name": "ipython",
    "version": 3
   },
   "file_extension": ".py",
   "mimetype": "text/x-python",
   "name": "python",
   "nbconvert_exporter": "python",
   "pygments_lexer": "ipython3",
   "version": "3.10.12"
  }
 },
 "nbformat": 4,
 "nbformat_minor": 2
}
