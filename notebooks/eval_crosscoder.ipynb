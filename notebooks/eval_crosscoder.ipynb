{
 "cells": [
  {
   "cell_type": "markdown",
   "metadata": {},
   "source": [
    "# Setup"
   ]
  },
  {
   "cell_type": "code",
   "execution_count": 2,
   "metadata": {},
   "outputs": [],
   "source": [
    "from dictionary_learning import CrossCoder\n",
    "from torch.nn.functional import cosine_similarity\n",
    "import torch as th\n",
    "import plotly.express as px\n",
    "from pathlib import Path\n",
    "from tqdm.notebook import tqdm\n",
    "\n",
    "th.set_grad_enabled(False)\n",
    "exp_name = \"eval_crosscoder\""
   ]
  },
  {
   "cell_type": "code",
   "execution_count": 3,
   "metadata": {
    "tags": [
     "parameters"
    ]
   },
   "outputs": [],
   "source": [
    "crosscoder_path = \"/dlabscratch1/jminder/repositories/representation-structure-comparison/checkpoints/trainer_0/l13-mu1e-02/checkpoints/ae_50000.pt\"\n",
    "extra_args = []\n",
    "exp_id = \"test\"\n",
    "device = \"cuda\"\n",
    "seed = 42\n",
    "base_model = \"gemma-2-2b\"\n",
    "instruct_model = \"gemma-2-2b-it\"\n",
    "layer = 13\n",
    "activation_dir = Path(\n",
    "    \"/dlabscratch1/jminder/repositories/representation-structure-comparison/activations\"\n",
    ")\n",
    "validation_size = 10**6\n",
    "batch_size = 2048\n",
    "workers = 12"
   ]
  },
  {
   "cell_type": "code",
   "execution_count": null,
   "metadata": {},
   "outputs": [],
   "source": [
    "from argparse import ArgumentParser\n",
    "\n",
    "parser = ArgumentParser()\n",
    "parser.add_argument(\"--is-legacy\", action=\"store_true\", default=False)\n",
    "args = parser.parse_args(extra_args)\n",
    "print(args)\n",
    "is_legacy = args.is_legacy\n",
    "\n",
    "if is_legacy:\n",
    "    state_dict = th.load(crosscoder_path, map_location=\"cpu\", weights_only=False)\n",
    "\n",
    "    fixed_state_dict = {k.split(\"_orig_mod.\")[1]: v for k, v in state_dict.items()}\n",
    "\n",
    "    num_layers, activation_dim, dict_size = fixed_state_dict[\"encoder.weight\"].shape\n",
    "    fixed_state_dict[\"encoder.bias\"] = fixed_state_dict[\"encoder.bias\"].sum(dim=0)\n",
    "\n",
    "    coder = CrossCoder(\n",
    "        activation_dim,\n",
    "        dict_size,\n",
    "        num_layers,\n",
    "    )\n",
    "    coder.load_state_dict(fixed_state_dict)\n",
    "else:\n",
    "    coder = CrossCoder.from_pretrained(crosscoder_path)\n",
    "    num_layers, activation_dim, dict_size = coder.encoder.weight.shape\n",
    "print(coder)\n",
    "\n",
    "save_path = (\n",
    "    Path(\"./results\")\n",
    "    / exp_name\n",
    "    / (\"_\".join(crosscoder_path.split(\"/\")[-3:]) + f\"_{exp_id}\")\n",
    ")\n",
    "save_path_extra = save_path / \"extra\"\n",
    "save_path_extra.mkdir(exist_ok=True, parents=True)\n",
    "save_path_html = save_path / \"html\"\n",
    "save_path_html.mkdir(exist_ok=True, parents=False)\n",
    "if device == \"auto\":\n",
    "    device = th.device(\"cuda\" if th.cuda.is_available() else \"cpu\")\n",
    "else:\n",
    "    device = th.device(device)"
   ]
  },
  {
   "cell_type": "markdown",
   "metadata": {},
   "source": [
    "# Weight analysis"
   ]
  },
  {
   "cell_type": "markdown",
   "metadata": {},
   "source": [
    "## Compare feature norms"
   ]
  },
  {
   "cell_type": "code",
   "execution_count": null,
   "metadata": {},
   "outputs": [],
   "source": [
    "norms = coder.decoder.weight.norm(dim=-1)\n",
    "norm_diffs = ((norms[0] - norms[1]) / norms.max(dim=0).values + 1) / 2\n",
    "sorted_norm_diffs = norm_diffs.sort(descending=True)\n",
    "\n",
    "# fig = px.line(y=sorted_norm_diffs.values, title=\"Relative difference in decoder feature norms\")\n",
    "fig = px.histogram(x=sorted_norm_diffs.values, title=\"Relative difference in decoder feature norms\", orientation='v', nbins=50)\n",
    "fig.update_layout(\n",
    "    annotations=[\n",
    "        dict(x=0, y=0, xref=\"x\", yref=\"paper\", text=\"  <b>(IT only)</b>\", showarrow=False, yanchor=\"top\", xanchor=\"left\"),\n",
    "        dict(x=0.5, y=0, xref=\"x\", yref=\"paper\", text=\"    <b>(shared)</b>\", showarrow=False, yanchor=\"top\", xanchor=\"left\"),\n",
    "        dict(x=1, y=0, xref=\"x\", yref=\"paper\", text=\"  <b>(Base only)</b>\", showarrow=False, yanchor=\"top\", xanchor=\"left\")\n",
    "    ]\n",
    ")\n",
    "fig.update_xaxes(tickvals=[0, 0.5, 1])\n",
    "# fig.update_traces(hovertemplate='Feature Index: %{text}<br>Value: %{y}', text=sorted_norm_diffs.indices)\n",
    "fig.update_xaxes(title=\"Sorted Features (Highest to Lowest Difference)\")\n",
    "fig.update_yaxes(title=\"Relative Norm Difference\")\n",
    "fig.show()\n",
    "fig.write_html(save_path_html / \"decoder_norm_diffs.html\")\n",
    "fig.write_image(save_path / \"decoder_norm_diffs.png\")\n"
   ]
  },
  {
   "cell_type": "code",
   "execution_count": null,
   "metadata": {},
   "outputs": [],
   "source": [
    "norms = coder.decoder.weight.norm(dim=-1)\n",
    "norm_diffs = ((norms[0] - norms[1]) / norms.max(dim=0).values + 1) / 2\n",
    "sorted_norm_diffs = norm_diffs.sort(descending=True)\n",
    "\n",
    "fig = px.line(y=sorted_norm_diffs.values, title=\"Relative difference in decoder feature norms\")\n",
    "fig.update_layout(\n",
    "    annotations=[\n",
    "        dict(x=0, y=0, xref=\"x\", yref=\"paper\", text=\"<b>(IT only)</b>\", showarrow=False, yanchor=\"middle\", xanchor=\"left\"),\n",
    "        dict(x=0, y=0.5, xref=\"x\", yref=\"paper\", text=\"<b>(shared)</b>\", showarrow=False, yanchor=\"middle\", xanchor=\"left\"),\n",
    "        dict(x=0, y=1, xref=\"x\", yref=\"paper\", text=\"<b>(Base only)</b>\", showarrow=False, yanchor=\"middle\", xanchor=\"left\")\n",
    "    ]\n",
    ")\n",
    "fig.update_yaxes(tickvals=[0, 0.5, 1])\n",
    "fig.update_traces(hovertemplate='Feature Index: %{text}<br>Value: %{y}', text=sorted_norm_diffs.indices)\n",
    "fig.update_xaxes(title=\"Sorted Features (Highest to Lowest Difference)\")\n",
    "fig.update_yaxes(title=\"Relative Norm Difference\")\n",
    "fig.show()\n",
    "fig.write_html(save_path_html / \"decoder_norm_diffs_line.html\")\n",
    "fig.write_image(save_path_extra / \"decoder_norm_diffs_line.png\")\n"
   ]
  },
  {
   "cell_type": "code",
   "execution_count": null,
   "metadata": {},
   "outputs": [],
   "source": [
    "enc_norms = coder.encoder.weight.norm(dim=1)\n",
    "enc_norm_diffs = ((enc_norms[0] - enc_norms[1]) / enc_norms.max(dim=0).values + 1) / 2\n",
    "\n",
    "fig = px.histogram(\n",
    "    x=enc_norm_diffs,\n",
    "    title=\"Relative difference in encoder feature norms\",\n",
    "    orientation=\"v\",\n",
    "    nbins=50,\n",
    ")\n",
    "fig.update_xaxes(title=\"Relative Norm Difference\")\n",
    "fig.update_yaxes(title=\"Count\")\n",
    "fig.update_layout(\n",
    "    annotations=[\n",
    "        dict(\n",
    "            x=0,\n",
    "            y=0,\n",
    "            xref=\"x\",\n",
    "            yref=\"paper\",\n",
    "            text=\"<b>(IT only)</b>\",\n",
    "            showarrow=False,\n",
    "            yanchor=\"top\",\n",
    "            xanchor=\"left\",\n",
    "        ),\n",
    "        dict(\n",
    "            x=0.5,\n",
    "            y=0,\n",
    "            xref=\"x\",\n",
    "            yref=\"paper\",\n",
    "            text=\"<b>(shared)</b>\",\n",
    "            showarrow=False,\n",
    "            yanchor=\"top\",\n",
    "            xanchor=\"left\",\n",
    "        ),\n",
    "        dict(\n",
    "            x=1,\n",
    "            y=0,\n",
    "            xref=\"x\",\n",
    "            yref=\"paper\",\n",
    "            text=\"<b>(Base only)</b>\",\n",
    "            showarrow=False,\n",
    "            yanchor=\"top\",\n",
    "            xanchor=\"left\",\n",
    "        ),\n",
    "    ]\n",
    ")\n",
    "fig.show()\n",
    "fig.write_html(save_path_html / \"encoder_norm_diffs.html\")\n",
    "fig.write_image(save_path / \"encoder_norm_diffs.png\")"
   ]
  },
  {
   "cell_type": "code",
   "execution_count": null,
   "metadata": {},
   "outputs": [],
   "source": [
    "\n",
    "# enc_sorted_norm_diffs = enc_norm_diffs.sort(descending=True)\n",
    "indexed_enc_norm_diffs = enc_norm_diffs[sorted_norm_diffs.indices]\n",
    "\n",
    "fig = px.line(y=indexed_enc_norm_diffs, title=\"Relative difference in encoder feature norms, sorted by decoder feature norm difference\")\n",
    "fig.update_traces(hovertemplate='Feature Index: %{text}<br>Value: %{y}', text=sorted_norm_diffs.indices)\n",
    "fig.update_xaxes(title=\"Sorted Features (Highest to Lowest Difference)\")\n",
    "fig.update_yaxes(title=\"Relative Norm Difference\")\n",
    "fig.show()\n",
    "fig.write_html(save_path_html / \"encoder_norm_diffs_line_sorted_by_decoder.html\")\n",
    "fig.write_image(save_path_extra / \"encoder_norm_diffs_line_sorted_by_decoder.png\")\n"
   ]
  },
  {
   "cell_type": "code",
   "execution_count": null,
   "metadata": {},
   "outputs": [],
   "source": [
    "enc_sorted_norm_diffs = enc_norm_diffs.sort(descending=True)\n",
    "\n",
    "fig = px.line(y=enc_sorted_norm_diffs.values, title=\"Relative difference in encoder feature norms\")\n",
    "fig.update_traces(hovertemplate='Feature Index: %{text}<br>Value: %{y}', text=enc_sorted_norm_diffs.indices)\n",
    "fig.update_xaxes(title=\"Sorted Features (Highest to Lowest Difference)\")\n",
    "fig.update_yaxes(title=\"Relative Norm Difference\")\n",
    "fig.update_layout(\n",
    "    annotations=[\n",
    "        dict(x=0, y=0, xref=\"x\", yref=\"paper\", text=\"<b>(IT only)</b>\", showarrow=False, yanchor=\"top\", xanchor=\"left\"),\n",
    "        dict(x=0, y=0.5, xref=\"x\", yref=\"paper\", text=\"<b>(shared)</b>\", showarrow=False, yanchor=\"top\", xanchor=\"left\"),\n",
    "        dict(x=0, y=1, xref=\"x\", yref=\"paper\", text=\"<b>(Base only)</b>\", showarrow=False, yanchor=\"top\", xanchor=\"left\"),\n",
    "    ]\n",
    ")\n",
    "fig.show()\n",
    "fig.write_html(save_path_html / \"encoder_norm_diffs_line.html\")\n",
    "fig.write_image(save_path_extra / \"encoder_norm_diffs_line.png\")\n"
   ]
  },
  {
   "cell_type": "markdown",
   "metadata": {},
   "source": [
    "## Cosine similarity"
   ]
  },
  {
   "cell_type": "markdown",
   "metadata": {},
   "source": [
    "### Decoder"
   ]
  },
  {
   "cell_type": "code",
   "execution_count": null,
   "metadata": {},
   "outputs": [],
   "source": [
    "decoder_cos_sims = cosine_similarity(coder.decoder.weight[0], coder.decoder.weight[1], dim=1)\n",
    "print(decoder_cos_sims.shape)\n",
    "\n",
    "decoder_cos_sims_sorted = decoder_cos_sims.sort(descending=True)\n",
    "\n",
    "# Calculate mean cosine similarity between random latent vectors\n",
    "num_samples = 10000\n",
    "random_idx = th.randint(0, coder.decoder.weight.shape[1], (num_samples, 2))\n",
    "random_cos_sims = cosine_similarity(coder.decoder.weight[0][random_idx[:, 0]], coder.decoder.weight[1][random_idx[:, 1]], dim=1)\n",
    "mean_random_cos_sim = random_cos_sims.mean().item()"
   ]
  },
  {
   "cell_type": "code",
   "execution_count": null,
   "metadata": {},
   "outputs": [],
   "source": [
    "fig = px.histogram(x=decoder_cos_sims, title=\"Cosine similarity between decoder feature vectors\", orientation=\"v\", nbins=50)\n",
    "fig.update_xaxes(title=\"Cosine Similarity\")\n",
    "fig.update_yaxes(title=\"Count\")\n",
    "fig.add_vline(x=mean_random_cos_sim, line_dash=\"dash\", line_color=\"red\", annotation_text=f\"Mean Random Cosine Similarity: {mean_random_cos_sim:.4f}\")\n",
    "fig.show()\n",
    "fig.write_html(save_path_html / \"decoder_cos_sims.html\")\n",
    "fig.write_image(save_path / \"decoder_cos_sims.png\")"
   ]
  },
  {
   "cell_type": "code",
   "execution_count": null,
   "metadata": {},
   "outputs": [],
   "source": [
    "fig = px.line(y=decoder_cos_sims_sorted.values, title=\"Cosine similarity between decoder feature vectors\")\n",
    "fig.update_traces(hovertemplate='Feature Index: %{text}<br>Value: %{y}', text=decoder_cos_sims_sorted.indices)\n",
    "fig.update_xaxes(title=\"Sorted Features (Highest to Lowest Similarity)\")\n",
    "fig.update_yaxes(title=\"Cosine Similarity\")\n",
    "\n",
    "# Add horizontal line for mean random cosine similarity\n",
    "fig.add_hline(y=mean_random_cos_sim, line_dash=\"dash\", line_color=\"red\", annotation_text=f\"Mean Random Cosine Similarity: {mean_random_cos_sim:.4f}\")\n",
    "\n",
    "fig.show()\n",
    "fig.write_html(save_path_html / \"decoder_cos_sims_line.html\")\n",
    "fig.write_image(save_path_extra / \"decoder_cos_sims_line.png\")\n"
   ]
  },
  {
   "cell_type": "code",
   "execution_count": 32,
   "metadata": {},
   "outputs": [],
   "source": [
    "encoder_cos_sims = cosine_similarity(coder.encoder.weight[0], coder.encoder.weight[1], dim=0)\n",
    "mean_random_cos_sim_encoder = cosine_similarity(coder.encoder.weight[0][:, random_idx[:, 0]], coder.encoder.weight[1][:, random_idx[:, 1]], dim=0).mean().item()"
   ]
  },
  {
   "cell_type": "code",
   "execution_count": null,
   "metadata": {},
   "outputs": [],
   "source": [
    "fig = px.histogram(x=encoder_cos_sims, title=\"Cosine similarity between encoder feature vectors\", orientation=\"v\", nbins=50)\n",
    "fig.update_xaxes(title=\"Cosine Similarity\")\n",
    "fig.update_yaxes(title=\"Count\")\n",
    "fig.add_vline(x=mean_random_cos_sim_encoder, line_dash=\"dash\", line_color=\"red\", annotation_text=f\"Mean Random Cosine Similarity: {mean_random_cos_sim_encoder:.4f}\")\n",
    "fig.show()\n",
    "fig.write_html(save_path_html / \"encoder_cos_sims.html\")\n",
    "fig.write_image(save_path / \"encoder_cos_sims.png\")\n"
   ]
  },
  {
   "cell_type": "code",
   "execution_count": null,
   "metadata": {},
   "outputs": [],
   "source": [
    "print(encoder_cos_sims.shape)\n",
    "fig = px.line(y=encoder_cos_sims[decoder_cos_sims_sorted.indices], title=\"Cosine similarity between encoder feature vectors, sorted by decoder feature similarity\")\n",
    "fig.update_traces(hovertemplate='Feature Index: %{text}<br>Value: %{y}', text=decoder_cos_sims_sorted.indices)\n",
    "fig.update_xaxes(title=\"Sorted Features (Highest to Lowest Similarity)\")\n",
    "fig.update_yaxes(title=\"Cosine Similarity\")\n",
    "\n",
    "# Add horizontal line for mean random cosine similarity\n",
    "fig.add_hline(y=mean_random_cos_sim, line_dash=\"dash\", line_color=\"red\", annotation_text=f\"Mean Random Cosine Similarity: {mean_random_cos_sim:.4f}\")\n",
    "\n",
    "fig.show()\n",
    "fig.write_html(save_path_html / \"encoder_cos_sims_sorted_by_decoder_line.html\")\n",
    "fig.write_image(save_path_extra / \"encoder_cos_sims_sorted_by_decoder_line.png\")\n"
   ]
  },
  {
   "cell_type": "code",
   "execution_count": null,
   "metadata": {},
   "outputs": [],
   "source": [
    "encoder_cos_sims_sorted = encoder_cos_sims.sort(descending=True)\n",
    "\n",
    "# Calculate mean cosine similarity between random latent vectors\n",
    "num_samples = 10000\n",
    "random_latents = th.randn(num_samples, coder.encoder.weight.shape[1])\n",
    "random_cos_sims = cosine_similarity(random_latents[:-1], random_latents[1:], dim=1)\n",
    "mean_random_cos_sim = random_cos_sims.mean().item()\n",
    "\n",
    "fig = px.line(y=encoder_cos_sims_sorted.values, title=\"Cosine similarity between encoder feature vectors\")\n",
    "fig.update_traces(hovertemplate='Feature Index: %{text}<br>Value: %{y}', text=encoder_cos_sims_sorted.indices)\n",
    "fig.update_xaxes(title=\"Sorted Features (Highest to Lowest Similarity)\")\n",
    "fig.update_yaxes(title=\"Cosine Similarity\")\n",
    "\n",
    "# Add horizontal line for mean random cosine similarity\n",
    "fig.add_hline(y=mean_random_cos_sim, line_dash=\"dash\", line_color=\"red\", annotation_text=f\"Mean Random Cosine Similarity: {mean_random_cos_sim:.4f}\")\n",
    "\n",
    "fig.show()\n",
    "fig.write_html(save_path_html / \"encoder_cos_sims_line.html\")\n",
    "fig.write_image(save_path_extra / \"encoder_cos_sims_line.png\")\n"
   ]
  },
  {
   "cell_type": "markdown",
   "metadata": {},
   "source": [
    "# Latent analysis"
   ]
  },
  {
   "cell_type": "code",
   "execution_count": null,
   "metadata": {},
   "outputs": [],
   "source": [
    "from dictionary_learning.trainers.crosscoder import CrossCoderTrainer\n",
    "from dictionary_learning.training import run_validation\n",
    "from dictionary_learning.cache import PairedActivationCache\n",
    "\n",
    "trainer = CrossCoderTrainer(\n",
    "    num_layers=num_layers,\n",
    "    activation_dim=activation_dim,\n",
    "    dict_size=dict_size,\n",
    "    device=device,\n",
    ")\n",
    "trainer.ae = coder\n",
    "\n",
    "th.manual_seed(seed)\n",
    "th.cuda.manual_seed_all(seed)\n",
    "base_model_dir = activation_dir / args.base_model\n",
    "instruct_model_dir = activation_dir / args.instruct_model\n",
    "base_model_fineweb = base_model_dir / \"fineweb\"\n",
    "base_model_lmsys_chat = base_model_dir / \"lmsys_chat\"\n",
    "instruct_model_fineweb = instruct_model_dir / \"fineweb\"\n",
    "instruct_model_lmsys_chat = instruct_model_dir / \"lmsys_chat\"\n",
    "submodule_name = f\"layer_{args.layer}_out\"\n",
    "fineweb_cache = PairedActivationCache(\n",
    "    base_model_fineweb / submodule_name, instruct_model_fineweb / submodule_name\n",
    ")\n",
    "lmsys_chat_cache = PairedActivationCache(\n",
    "    base_model_lmsys_chat / submodule_name, instruct_model_lmsys_chat / submodule_name\n",
    ")\n",
    "dataset = th.utils.data.ConcatDataset([fineweb_cache, lmsys_chat_cache])\n",
    "activation_dim = dataset[0].shape[1]\n",
    "\n",
    "train_dataset, validation_dataset = th.utils.data.random_split(\n",
    "    dataset, [len(dataset) - validation_size, validation_size]\n",
    ")\n",
    "dataloader = th.utils.data.DataLoader(\n",
    "    train_dataset,\n",
    "    batch_size=batch_size,\n",
    "    shuffle=True,\n",
    "    num_workers=workers,\n",
    "    pin_memory=True,\n",
    ")\n",
    "validation_dataloader = th.utils.data.DataLoader(\n",
    "    validation_dataset,\n",
    "    batch_size=batch_size,\n",
    "    shuffle=False,\n",
    "    num_workers=workers,\n",
    "    pin_memory=True,\n",
    ")\n",
    "\n",
    "run_validation(trainer, validation_dataset, log_queues=[])"
   ]
  }
 ],
 "metadata": {
  "kernelspec": {
   "display_name": "Python 3",
   "language": "python",
   "name": "python3"
  },
  "language_info": {
   "codemirror_mode": {
    "name": "ipython",
    "version": 3
   },
   "file_extension": ".py",
   "mimetype": "text/x-python",
   "name": "python",
   "nbconvert_exporter": "python",
   "pygments_lexer": "ipython3",
   "version": "3.11.10"
  }
 },
 "nbformat": 4,
 "nbformat_minor": 2
}
