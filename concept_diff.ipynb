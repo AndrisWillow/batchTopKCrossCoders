{
 "cells": [
  {
   "cell_type": "code",
   "execution_count": 1,
   "metadata": {},
   "outputs": [],
   "source": [
    "import torch as th\n",
    "import matplotlib.pyplot as plt\n",
    "\n",
    "%load_ext autoreload\n",
    "%autoreload 3\n",
    "from nnterp import load_model, collect_activations, patchscope_lens, TargetPrompt, collect_activations_batched"
   ]
  },
  {
   "cell_type": "code",
   "execution_count": 2,
   "metadata": {},
   "outputs": [],
   "source": [
    "base_model = load_model(\"google/gemma-2-2b\")\n",
    "it_model = load_model(\"google/gemma-2-2b-it\")"
   ]
  },
  {
   "cell_type": "code",
   "execution_count": 3,
   "metadata": {},
   "outputs": [],
   "source": [
    "def to_question(concept, it_tokenizer=None):\n",
    "    q = f\"What is the meaning of {concept}\"\n",
    "    if it_tokenizer is not None:\n",
    "        q = it_tokenizer.apply_chat_template(\n",
    "            [{\"role\": \"user\", \"content\": q}], continue_final_message=True\n",
    "        )\n",
    "    return q"
   ]
  },
  {
   "cell_type": "code",
   "execution_count": 5,
   "metadata": {},
   "outputs": [
    {
     "data": {
      "text/plain": [
       "<nnterp.utils.TLImportError at 0x7f55a3a6f110>"
      ]
     },
     "execution_count": 5,
     "metadata": {},
     "output_type": "execute_result"
    }
   ],
   "source": [
    "from nnterp.utils import UnifiedTransformer\n",
    "UnifiedTransformer"
   ]
  },
  {
   "cell_type": "code",
   "execution_count": 4,
   "metadata": {},
   "outputs": [
    {
     "ename": "TypeError",
     "evalue": "isinstance() arg 2 must be a type, a tuple of types, or a union",
     "output_type": "error",
     "traceback": [
      "\u001b[0;31m---------------------------------------------------------------------------\u001b[0m",
      "\u001b[0;31mTypeError\u001b[0m                                 Traceback (most recent call last)",
      "Cell \u001b[0;32mIn[4], line 6\u001b[0m\n\u001b[1;32m      3\u001b[0m it_dog_question \u001b[38;5;241m=\u001b[39m to_question(\u001b[38;5;124m\"\u001b[39m\u001b[38;5;124mdog\u001b[39m\u001b[38;5;124m\"\u001b[39m, it_tokenizer\u001b[38;5;241m=\u001b[39mit_model\u001b[38;5;241m.\u001b[39mtokenizer)\n\u001b[1;32m      4\u001b[0m it_car_question \u001b[38;5;241m=\u001b[39m to_question(\u001b[38;5;124m\"\u001b[39m\u001b[38;5;124mcar\u001b[39m\u001b[38;5;124m\"\u001b[39m, it_tokenizer\u001b[38;5;241m=\u001b[39mit_model\u001b[38;5;241m.\u001b[39mtokenizer)\n\u001b[0;32m----> 6\u001b[0m base_acts \u001b[38;5;241m=\u001b[39m \u001b[43mcollect_activations\u001b[49m\u001b[43m(\u001b[49m\u001b[43mbase_model\u001b[49m\u001b[43m,\u001b[49m\u001b[43m \u001b[49m\u001b[43m[\u001b[49m\u001b[43mcar_question\u001b[49m\u001b[43m,\u001b[49m\u001b[43m \u001b[49m\u001b[43mdog_question\u001b[49m\u001b[43m]\u001b[49m\u001b[43m)\u001b[49m\n\u001b[1;32m      7\u001b[0m it_acts \u001b[38;5;241m=\u001b[39m collect_activations(it_model, [it_car_question, it_dog_question])\n\u001b[1;32m      8\u001b[0m it_acts_no_template \u001b[38;5;241m=\u001b[39m collect_activations(it_model, [car_question, dog_question])\n",
      "File \u001b[0;32m/dlabscratch1/cdumas/representation-structure-comparison/.conda/lib/python3.11/site-packages/torch/utils/_contextlib.py:116\u001b[0m, in \u001b[0;36mcontext_decorator.<locals>.decorate_context\u001b[0;34m(*args, **kwargs)\u001b[0m\n\u001b[1;32m    113\u001b[0m \u001b[38;5;129m@functools\u001b[39m\u001b[38;5;241m.\u001b[39mwraps(func)\n\u001b[1;32m    114\u001b[0m \u001b[38;5;28;01mdef\u001b[39;00m \u001b[38;5;21mdecorate_context\u001b[39m(\u001b[38;5;241m*\u001b[39margs, \u001b[38;5;241m*\u001b[39m\u001b[38;5;241m*\u001b[39mkwargs):\n\u001b[1;32m    115\u001b[0m     \u001b[38;5;28;01mwith\u001b[39;00m ctx_factory():\n\u001b[0;32m--> 116\u001b[0m         \u001b[38;5;28;01mreturn\u001b[39;00m \u001b[43mfunc\u001b[49m\u001b[43m(\u001b[49m\u001b[38;5;241;43m*\u001b[39;49m\u001b[43margs\u001b[49m\u001b[43m,\u001b[49m\u001b[43m \u001b[49m\u001b[38;5;241;43m*\u001b[39;49m\u001b[38;5;241;43m*\u001b[39;49m\u001b[43mkwargs\u001b[49m\u001b[43m)\u001b[49m\n",
      "File \u001b[0;32m/dlabscratch1/cdumas/representation-structure-comparison/.conda/lib/python3.11/site-packages/nnterp/nnsight_utils.py:261\u001b[0m, in \u001b[0;36mcollect_activations\u001b[0;34m(nn_model, prompts, layers, get_activations, remote, idx, open_context)\u001b[0m\n\u001b[1;32m    257\u001b[0m     \u001b[38;5;28;01mraise\u001b[39;00m \u001b[38;5;167;01mValueError\u001b[39;00m(\n\u001b[1;32m    258\u001b[0m         \u001b[38;5;124m\"\u001b[39m\u001b[38;5;124mpositive index is currently not supported due to left padding\u001b[39m\u001b[38;5;124m\"\u001b[39m\n\u001b[1;32m    259\u001b[0m     )\n\u001b[1;32m    260\u001b[0m \u001b[38;5;28;01mif\u001b[39;00m layers \u001b[38;5;129;01mis\u001b[39;00m \u001b[38;5;28;01mNone\u001b[39;00m:\n\u001b[0;32m--> 261\u001b[0m     layers \u001b[38;5;241m=\u001b[39m \u001b[38;5;28mlist\u001b[39m(\u001b[38;5;28mrange\u001b[39m(\u001b[43mget_num_layers\u001b[49m\u001b[43m(\u001b[49m\u001b[43mnn_model\u001b[49m\u001b[43m)\u001b[49m))\n\u001b[1;32m    262\u001b[0m last_layer \u001b[38;5;241m=\u001b[39m \u001b[38;5;28mmax\u001b[39m(layers)\n\u001b[1;32m    263\u001b[0m \u001b[38;5;28;01mif\u001b[39;00m \u001b[38;5;28mmin\u001b[39m(layers) \u001b[38;5;241m<\u001b[39m \u001b[38;5;241m0\u001b[39m:\n",
      "File \u001b[0;32m/dlabscratch1/cdumas/representation-structure-comparison/.conda/lib/python3.11/site-packages/nnterp/nnsight_utils.py:68\u001b[0m, in \u001b[0;36mget_num_layers\u001b[0;34m(nn_model)\u001b[0m\n\u001b[1;32m     60\u001b[0m \u001b[38;5;28;01mdef\u001b[39;00m \u001b[38;5;21mget_num_layers\u001b[39m(nn_model: NNLanguageModel):\n\u001b[1;32m     61\u001b[0m \u001b[38;5;250m    \u001b[39m\u001b[38;5;124;03m\"\"\"\u001b[39;00m\n\u001b[1;32m     62\u001b[0m \u001b[38;5;124;03m    Get the number of layers in the model\u001b[39;00m\n\u001b[1;32m     63\u001b[0m \u001b[38;5;124;03m    Args:\u001b[39;00m\n\u001b[0;32m   (...)\u001b[0m\n\u001b[1;32m     66\u001b[0m \u001b[38;5;124;03m        The number of layers in the model\u001b[39;00m\n\u001b[1;32m     67\u001b[0m \u001b[38;5;124;03m    \"\"\"\u001b[39;00m\n\u001b[0;32m---> 68\u001b[0m     \u001b[38;5;28;01mif\u001b[39;00m \u001b[38;5;28;43misinstance\u001b[39;49m\u001b[43m(\u001b[49m\u001b[43mnn_model\u001b[49m\u001b[43m,\u001b[49m\u001b[43m \u001b[49m\u001b[43mUnifiedTransformer\u001b[49m\u001b[43m)\u001b[49m:\n\u001b[1;32m     69\u001b[0m         \u001b[38;5;28;01mreturn\u001b[39;00m \u001b[38;5;28mlen\u001b[39m(nn_model\u001b[38;5;241m.\u001b[39mblocks)\n\u001b[1;32m     70\u001b[0m     \u001b[38;5;28;01melse\u001b[39;00m:\n",
      "\u001b[0;31mTypeError\u001b[0m: isinstance() arg 2 must be a type, a tuple of types, or a union"
     ]
    }
   ],
   "source": [
    "car_question = to_question(\"car\")\n",
    "dog_question = to_question(\"dog\")\n",
    "it_dog_question = to_question(\"dog\", it_tokenizer=it_model.tokenizer)\n",
    "it_car_question = to_question(\"car\", it_tokenizer=it_model.tokenizer)\n",
    "\n",
    "base_acts = collect_activations(base_model, [car_question, dog_question])\n",
    "it_acts = collect_activations(it_model, [it_car_question, it_dog_question])\n",
    "it_acts_no_template = collect_activations(it_model, [car_question, dog_question])\n",
    "\n",
    "car_to_dog_base = base_acts[:, 0] - base_acts[:, 1]  # shape: (n_layers, h_dim)\n",
    "car_to_dog_it = it_acts[:, 0] - it_acts[:, 1]\n",
    "car_to_dog_it_no_template = it_acts_no_template[:, 0] - it_acts_no_template[:, 1]"
   ]
  },
  {
   "cell_type": "markdown",
   "metadata": {},
   "source": [
    "### Check cosim among the 3 diffs"
   ]
  },
  {
   "cell_type": "code",
   "execution_count": null,
   "metadata": {},
   "outputs": [],
   "source": [
    "# plot mean cosim between the 3 diffs for each layer\n",
    "cosim_base_it = th.nn.functional.cosine_similarity(car_to_dog_base, car_to_dog_it, dim=1)\n",
    "cosim_template = th.nn.functional.cosine_similarity(car_to_dog_it, car_to_dog_it_no_template, dim=1)\n",
    "cosim_base_it_no_template = th.nn.functional.cosine_similarity(car_to_dog_base, car_to_dog_it_no_template, dim=1)\n",
    "print(cosim_base_it.shape)\n",
    "print(cosim_template.shape)\n",
    "print(cosim_base_it_no_template.shape)\n",
    "fig, ax = plt.subplots()\n",
    "ax.plot(cosim_base_it.mean(dim=1), label=\"cosim base it\")\n",
    "ax.plot(cosim_template.mean(dim=1), label=\"cosim template\")\n",
    "ax.plot(cosim_base_it_no_template.mean(dim=1), label=\"cosim base it no template\")\n",
    "ax.legend()\n",
    "plt.show()\n"
   ]
  }
 ],
 "metadata": {
  "kernelspec": {
   "display_name": "Python 3",
   "language": "python",
   "name": "python3"
  },
  "language_info": {
   "codemirror_mode": {
    "name": "ipython",
    "version": 3
   },
   "file_extension": ".py",
   "mimetype": "text/x-python",
   "name": "python",
   "nbconvert_exporter": "python",
   "pygments_lexer": "ipython3",
   "version": "3.11.10"
  }
 },
 "nbformat": 4,
 "nbformat_minor": 2
}
